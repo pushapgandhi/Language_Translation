{
 "cells": [
  {
   "cell_type": "markdown",
   "metadata": {},
   "source": [
    "# Task2 (General Attention Model)"
   ]
  },
  {
   "cell_type": "markdown",
   "metadata": {
    "id": "2cqnOKmbc8_9"
   },
   "source": [
    "1. Use the preprocessed data from Task-1\n",
    "\n",
    "2. You have to implement an Encoder and Decoder architecture with  \n",
    "attention as discussed in the reference notebook.\n",
    "\n",
    "    * Encoder   - with 1 layer LSTM <br>\n",
    "    * Decoder   - with 1 layer LSTM<br>\n",
    "    * attention -  (Please refer the <a href= 'https://drive.google.com/file/d/1z_bnc-3aubKawbR6q8wyI6Mh5ho2R1aZ/view?usp=sharing'>**reference notebook**</a> to know more about the attention mechanism.)\n",
    "3. In Global attention, we have 3 types of scoring functions(as discussed in the reference notebook).\n",
    " As a part of this assignment **you need to create 3 models for each scoring function**\n",
    "<img src='https://i.imgur.com/iD2jZo3.png'>\n",
    "\n",
    "    * In model 1 you need to implemnt \"dot\" score function\n",
    "    * In model 2 you need to implemnt \"general\" score function\n",
    "    * In model 3 you need to implemnt \"concat\" score function.<br>\n",
    "    \n",
    " **Please do add the markdown titles for each model so that we can have a better look at the code and verify.**\n",
    "4. It is mandatory to train the model with simple model.fit() only, Donot train the model with custom GradientTape()\n",
    "\n",
    "5. Using attention weights, you can plot the attention plots, \n",
    "please plot those for 2-3 examples. You can check about those in <a href=\"https://www.tensorflow.org/tutorials/text/nmt_with_attention#translate\">this</a>\n",
    "\n",
    "6. The attention layer has to be written by yourself only. \n",
    "The main objective of this assignment is to read and implement a paper on yourself so please do it yourself.  \n",
    "\n",
    "7. Please implement the class **onestepdecoder** as mentioned in the assignment instructions.\n",
    "\n",
    "8. You can use any tf.Keras highlevel API's to build and train the models. \n",
    " Check the reference notebook for better understanding.\n",
    "\n",
    "9. Use BLEU score as metric to evaluate your model. You can use any loss function you need.\n",
    "\n",
    "10. You have to use Tensorboard to plot the Graph, Scores and histograms of gradients. \n",
    "\n",
    "11. Resources:\n",
    "    a. Check the reference notebook\n",
    "    b. <a href=\"https://jalammar.github.io/visualizing-neural-machine-translation-mechanics-of-seq2seq-models-with-attention/\">Resource 1</a>\n",
    "    c. <a href=\"https://www.tensorflow.org/tutorials/text/nmt_with_attention\">Resource 2</a>\n",
    "    d. <a href=\"https://stackoverflow.com/questions/44238154/what-is-the-difference-between-luong-attention-and-bahdanau-attention#:~:text=Luong%20attention%20used%20top%20hidden,hidden%20state%20at%20time%20t.\">Resource 3</a>\n",
    "    "
   ]
  },
  {
   "cell_type": "code",
   "execution_count": 1,
   "metadata": {
    "colab": {
     "base_uri": "https://localhost:8080/"
    },
    "executionInfo": {
     "elapsed": 21615,
     "status": "ok",
     "timestamp": 1624280808687,
     "user": {
      "displayName": "PUSHAP GANDHI",
      "photoUrl": "https://lh3.googleusercontent.com/a-/AOh14GhtvSq40Q0iR7PAFnCqNljCvZEL0u3Jwy5L59EZTA=s64",
      "userId": "12599792132870778014"
     },
     "user_tz": -330
    },
    "id": "A0VvDFUbCiSy",
    "outputId": "6fd16ba9-0939-4e49-bc61-0735c8f4063b"
   },
   "outputs": [
    {
     "name": "stdout",
     "output_type": "stream",
     "text": [
      "Mounted at /content/drive\n"
     ]
    }
   ],
   "source": [
    "from google.colab import drive\n",
    "drive.mount('/content/drive')"
   ]
  },
  {
   "cell_type": "markdown",
   "metadata": {},
   "source": [
    "## Note:\n",
    "* In Task 2 we have to train three models.\n",
    "* I have made a seperate notebook for each model to avoid any confusion.\n",
    "* This notebook contains the General Attention Model."
   ]
  },
  {
   "cell_type": "code",
   "execution_count": 3,
   "metadata": {
    "executionInfo": {
     "elapsed": 1226,
     "status": "ok",
     "timestamp": 1624280810513,
     "user": {
      "displayName": "PUSHAP GANDHI",
      "photoUrl": "https://lh3.googleusercontent.com/a-/AOh14GhtvSq40Q0iR7PAFnCqNljCvZEL0u3Jwy5L59EZTA=s64",
      "userId": "12599792132870778014"
     },
     "user_tz": -330
    },
    "id": "uiSey5qICuQu"
   },
   "outputs": [],
   "source": [
    "import pandas as pd\n",
    "import numpy as np\n",
    "import tensorflow as tf\n",
    "import re"
   ]
  },
  {
   "cell_type": "markdown",
   "metadata": {
    "id": "Dt9mf6bQdRPY"
   },
   "source": [
    "## Loading the Data"
   ]
  },
  {
   "cell_type": "code",
   "execution_count": 3,
   "metadata": {
    "colab": {
     "base_uri": "https://localhost:8080/",
     "height": 419
    },
    "executionInfo": {
     "elapsed": 1827,
     "status": "ok",
     "timestamp": 1624280813855,
     "user": {
      "displayName": "PUSHAP GANDHI",
      "photoUrl": "https://lh3.googleusercontent.com/a-/AOh14GhtvSq40Q0iR7PAFnCqNljCvZEL0u3Jwy5L59EZTA=s64",
      "userId": "12599792132870778014"
     },
     "user_tz": -330
    },
    "id": "GECop4Q-C3uX",
    "outputId": "f454935b-5b4a-44ee-fe64-5195427f26ad"
   },
   "outputs": [
    {
     "data": {
      "text/html": [
       "<div>\n",
       "<style scoped>\n",
       "    .dataframe tbody tr th:only-of-type {\n",
       "        vertical-align: middle;\n",
       "    }\n",
       "\n",
       "    .dataframe tbody tr th {\n",
       "        vertical-align: top;\n",
       "    }\n",
       "\n",
       "    .dataframe thead th {\n",
       "        text-align: right;\n",
       "    }\n",
       "</style>\n",
       "<table border=\"1\" class=\"dataframe\">\n",
       "  <thead>\n",
       "    <tr style=\"text-align: right;\">\n",
       "      <th></th>\n",
       "      <th>english</th>\n",
       "      <th>italian</th>\n",
       "    </tr>\n",
       "  </thead>\n",
       "  <tbody>\n",
       "    <tr>\n",
       "      <th>0</th>\n",
       "      <td>Hi.</td>\n",
       "      <td>Ciao!</td>\n",
       "    </tr>\n",
       "    <tr>\n",
       "      <th>1</th>\n",
       "      <td>Run!</td>\n",
       "      <td>Corri!</td>\n",
       "    </tr>\n",
       "    <tr>\n",
       "      <th>2</th>\n",
       "      <td>Run!</td>\n",
       "      <td>Corra!</td>\n",
       "    </tr>\n",
       "    <tr>\n",
       "      <th>3</th>\n",
       "      <td>Run!</td>\n",
       "      <td>Correte!</td>\n",
       "    </tr>\n",
       "    <tr>\n",
       "      <th>4</th>\n",
       "      <td>Who?</td>\n",
       "      <td>Chi?</td>\n",
       "    </tr>\n",
       "    <tr>\n",
       "      <th>...</th>\n",
       "      <td>...</td>\n",
       "      <td>...</td>\n",
       "    </tr>\n",
       "    <tr>\n",
       "      <th>345239</th>\n",
       "      <td>If you want to sound like a native speaker, yo...</td>\n",
       "      <td>Se vuoi sembrare un madrelingua, devi essere d...</td>\n",
       "    </tr>\n",
       "    <tr>\n",
       "      <th>345240</th>\n",
       "      <td>If you want to sound like a native speaker, yo...</td>\n",
       "      <td>Se vuoi sembrare un madrelingua, devi essere d...</td>\n",
       "    </tr>\n",
       "    <tr>\n",
       "      <th>345241</th>\n",
       "      <td>If someone who doesn't know your background sa...</td>\n",
       "      <td>Se qualcuno che non conosce il tuo background ...</td>\n",
       "    </tr>\n",
       "    <tr>\n",
       "      <th>345242</th>\n",
       "      <td>Doubtless there exists in this world precisely...</td>\n",
       "      <td>Senza dubbio esiste in questo mondo proprio la...</td>\n",
       "    </tr>\n",
       "    <tr>\n",
       "      <th>345243</th>\n",
       "      <td>Doubtless there exists in this world precisely...</td>\n",
       "      <td>Senza dubbio esiste in questo mondo proprio la...</td>\n",
       "    </tr>\n",
       "  </tbody>\n",
       "</table>\n",
       "<p>345244 rows × 2 columns</p>\n",
       "</div>"
      ],
      "text/plain": [
       "                                                  english                                            italian\n",
       "0                                                     Hi.                                              Ciao!\n",
       "1                                                    Run!                                             Corri!\n",
       "2                                                    Run!                                             Corra!\n",
       "3                                                    Run!                                           Correte!\n",
       "4                                                    Who?                                               Chi?\n",
       "...                                                   ...                                                ...\n",
       "345239  If you want to sound like a native speaker, yo...  Se vuoi sembrare un madrelingua, devi essere d...\n",
       "345240  If you want to sound like a native speaker, yo...  Se vuoi sembrare un madrelingua, devi essere d...\n",
       "345241  If someone who doesn't know your background sa...  Se qualcuno che non conosce il tuo background ...\n",
       "345242  Doubtless there exists in this world precisely...  Senza dubbio esiste in questo mondo proprio la...\n",
       "345243  Doubtless there exists in this world precisely...  Senza dubbio esiste in questo mondo proprio la...\n",
       "\n",
       "[345244 rows x 2 columns]"
      ]
     },
     "execution_count": 3,
     "metadata": {
      "tags": []
     },
     "output_type": "execute_result"
    }
   ],
   "source": [
    "df = pd.read_csv('/content/drive/MyDrive/Colab Notebooks/ass-28/ita.txt', delimiter = \"\\t\",names = [\"english\",\"italian\",\"z\"]).drop(\"z\",axis=1)\n",
    "df"
   ]
  },
  {
   "cell_type": "markdown",
   "metadata": {
    "id": "7E6byhi8dYMB"
   },
   "source": [
    "## Preprocess Data"
   ]
  },
  {
   "cell_type": "code",
   "execution_count": 4,
   "metadata": {
    "executionInfo": {
     "elapsed": 917,
     "status": "ok",
     "timestamp": 1624280817837,
     "user": {
      "displayName": "PUSHAP GANDHI",
      "photoUrl": "https://lh3.googleusercontent.com/a-/AOh14GhtvSq40Q0iR7PAFnCqNljCvZEL0u3Jwy5L59EZTA=s64",
      "userId": "12599792132870778014"
     },
     "user_tz": -330
    },
    "id": "wts_LAoHC3xd"
   },
   "outputs": [],
   "source": [
    "def decontracted(phrase):\n",
    "    # specific\n",
    "    phrase = re.sub(r\"won\\'t\", \"will not\", phrase)\n",
    "    phrase = re.sub(r\"can\\'t\", \"can not\", phrase)\n",
    "\n",
    "    # general\n",
    "    phrase = re.sub(r\"n\\'t\", \" not\", phrase)\n",
    "    phrase = re.sub(r\"\\'re\", \" are\", phrase)\n",
    "    phrase = re.sub(r\"\\'s\", \" is\", phrase)\n",
    "    phrase = re.sub(r\"\\'d\", \" would\", phrase)\n",
    "    phrase = re.sub(r\"\\'ll\", \" will\", phrase)\n",
    "    phrase = re.sub(r\"\\'t\", \" not\", phrase)\n",
    "    phrase = re.sub(r\"\\'ve\", \" have\", phrase)\n",
    "    phrase = re.sub(r\"\\'m\", \" am\", phrase)\n",
    "    return phrase\n",
    "def preprocessor(text):\n",
    "    text = text.lower()\n",
    "    text = decontracted(text)\n",
    "    text = re.sub(\"[^A-Za-z0-9 ]+\",'',text)\n",
    "    return text\n",
    "def preprocessor_ita(text):\n",
    "    text = text.lower()\n",
    "    text = decontracted(text)\n",
    "    text = re.sub(\"[^A-Za-z0-9 ]+\",'',text)\n",
    "    return text\n"
   ]
  },
  {
   "cell_type": "code",
   "execution_count": 5,
   "metadata": {
    "colab": {
     "base_uri": "https://localhost:8080/",
     "height": 419
    },
    "executionInfo": {
     "elapsed": 7540,
     "status": "ok",
     "timestamp": 1624280827395,
     "user": {
      "displayName": "PUSHAP GANDHI",
      "photoUrl": "https://lh3.googleusercontent.com/a-/AOh14GhtvSq40Q0iR7PAFnCqNljCvZEL0u3Jwy5L59EZTA=s64",
      "userId": "12599792132870778014"
     },
     "user_tz": -330
    },
    "id": "fBrkwooSC30V",
    "outputId": "8806da85-b8ab-4060-de1b-014906f03fb8"
   },
   "outputs": [
    {
     "data": {
      "text/html": [
       "<div>\n",
       "<style scoped>\n",
       "    .dataframe tbody tr th:only-of-type {\n",
       "        vertical-align: middle;\n",
       "    }\n",
       "\n",
       "    .dataframe tbody tr th {\n",
       "        vertical-align: top;\n",
       "    }\n",
       "\n",
       "    .dataframe thead th {\n",
       "        text-align: right;\n",
       "    }\n",
       "</style>\n",
       "<table border=\"1\" class=\"dataframe\">\n",
       "  <thead>\n",
       "    <tr style=\"text-align: right;\">\n",
       "      <th></th>\n",
       "      <th>english</th>\n",
       "      <th>italian</th>\n",
       "    </tr>\n",
       "  </thead>\n",
       "  <tbody>\n",
       "    <tr>\n",
       "      <th>0</th>\n",
       "      <td>hi</td>\n",
       "      <td>ciao</td>\n",
       "    </tr>\n",
       "    <tr>\n",
       "      <th>1</th>\n",
       "      <td>run</td>\n",
       "      <td>corri</td>\n",
       "    </tr>\n",
       "    <tr>\n",
       "      <th>2</th>\n",
       "      <td>run</td>\n",
       "      <td>corra</td>\n",
       "    </tr>\n",
       "    <tr>\n",
       "      <th>3</th>\n",
       "      <td>run</td>\n",
       "      <td>correte</td>\n",
       "    </tr>\n",
       "    <tr>\n",
       "      <th>4</th>\n",
       "      <td>who</td>\n",
       "      <td>chi</td>\n",
       "    </tr>\n",
       "    <tr>\n",
       "      <th>...</th>\n",
       "      <td>...</td>\n",
       "      <td>...</td>\n",
       "    </tr>\n",
       "    <tr>\n",
       "      <th>345239</th>\n",
       "      <td>if you want to sound like a native speaker you...</td>\n",
       "      <td>se vuoi sembrare un madrelingua devi essere di...</td>\n",
       "    </tr>\n",
       "    <tr>\n",
       "      <th>345240</th>\n",
       "      <td>if you want to sound like a native speaker you...</td>\n",
       "      <td>se vuoi sembrare un madrelingua devi essere di...</td>\n",
       "    </tr>\n",
       "    <tr>\n",
       "      <th>345241</th>\n",
       "      <td>if someone who does not know your background s...</td>\n",
       "      <td>se qualcuno che non conosce il tuo background ...</td>\n",
       "    </tr>\n",
       "    <tr>\n",
       "      <th>345242</th>\n",
       "      <td>doubtless there exists in this world precisely...</td>\n",
       "      <td>senza dubbio esiste in questo mondo proprio la...</td>\n",
       "    </tr>\n",
       "    <tr>\n",
       "      <th>345243</th>\n",
       "      <td>doubtless there exists in this world precisely...</td>\n",
       "      <td>senza dubbio esiste in questo mondo proprio la...</td>\n",
       "    </tr>\n",
       "  </tbody>\n",
       "</table>\n",
       "<p>345244 rows × 2 columns</p>\n",
       "</div>"
      ],
      "text/plain": [
       "                                                  english                                            italian\n",
       "0                                                      hi                                               ciao\n",
       "1                                                     run                                              corri\n",
       "2                                                     run                                              corra\n",
       "3                                                     run                                            correte\n",
       "4                                                     who                                                chi\n",
       "...                                                   ...                                                ...\n",
       "345239  if you want to sound like a native speaker you...  se vuoi sembrare un madrelingua devi essere di...\n",
       "345240  if you want to sound like a native speaker you...  se vuoi sembrare un madrelingua devi essere di...\n",
       "345241  if someone who does not know your background s...  se qualcuno che non conosce il tuo background ...\n",
       "345242  doubtless there exists in this world precisely...  senza dubbio esiste in questo mondo proprio la...\n",
       "345243  doubtless there exists in this world precisely...  senza dubbio esiste in questo mondo proprio la...\n",
       "\n",
       "[345244 rows x 2 columns]"
      ]
     },
     "execution_count": 5,
     "metadata": {
      "tags": []
     },
     "output_type": "execute_result"
    }
   ],
   "source": [
    "# PREPROCESSED DATA INTO A DATAFRAME\n",
    "df[\"english\"] = df.english.apply(preprocessor)\n",
    "df[\"italian\"] = df.italian.apply(preprocessor_ita)\n",
    "df"
   ]
  },
  {
   "cell_type": "code",
   "execution_count": 6,
   "metadata": {
    "colab": {
     "base_uri": "https://localhost:8080/",
     "height": 521
    },
    "executionInfo": {
     "elapsed": 737,
     "status": "ok",
     "timestamp": 1624280828120,
     "user": {
      "displayName": "PUSHAP GANDHI",
      "photoUrl": "https://lh3.googleusercontent.com/a-/AOh14GhtvSq40Q0iR7PAFnCqNljCvZEL0u3Jwy5L59EZTA=s64",
      "userId": "12599792132870778014"
     },
     "user_tz": -330
    },
    "id": "ObqJvTO8C33M",
    "outputId": "dab6a33c-73f3-496d-815e-3e06b1d87e44"
   },
   "outputs": [
    {
     "name": "stderr",
     "output_type": "stream",
     "text": [
      "/usr/local/lib/python3.7/dist-packages/ipykernel_launcher.py:3: SettingWithCopyWarning: \n",
      "A value is trying to be set on a copy of a slice from a DataFrame.\n",
      "Try using .loc[row_indexer,col_indexer] = value instead\n",
      "\n",
      "See the caveats in the documentation: https://pandas.pydata.org/pandas-docs/stable/user_guide/indexing.html#returning-a-view-versus-a-copy\n",
      "  This is separate from the ipykernel package so we can avoid doing imports until\n"
     ]
    },
    {
     "data": {
      "text/html": [
       "<div>\n",
       "<style scoped>\n",
       "    .dataframe tbody tr th:only-of-type {\n",
       "        vertical-align: middle;\n",
       "    }\n",
       "\n",
       "    .dataframe tbody tr th {\n",
       "        vertical-align: top;\n",
       "    }\n",
       "\n",
       "    .dataframe thead th {\n",
       "        text-align: right;\n",
       "    }\n",
       "</style>\n",
       "<table border=\"1\" class=\"dataframe\">\n",
       "  <thead>\n",
       "    <tr style=\"text-align: right;\">\n",
       "      <th></th>\n",
       "      <th>italian</th>\n",
       "      <th>english_inp</th>\n",
       "      <th>english_out</th>\n",
       "    </tr>\n",
       "  </thead>\n",
       "  <tbody>\n",
       "    <tr>\n",
       "      <th>0</th>\n",
       "      <td>ciao</td>\n",
       "      <td>&lt;start&gt; hi</td>\n",
       "      <td>hi &lt;end&gt;</td>\n",
       "    </tr>\n",
       "    <tr>\n",
       "      <th>1</th>\n",
       "      <td>corri</td>\n",
       "      <td>&lt;start&gt; run</td>\n",
       "      <td>run &lt;end&gt;</td>\n",
       "    </tr>\n",
       "    <tr>\n",
       "      <th>2</th>\n",
       "      <td>corra</td>\n",
       "      <td>&lt;start&gt; run</td>\n",
       "      <td>run &lt;end&gt;</td>\n",
       "    </tr>\n",
       "    <tr>\n",
       "      <th>3</th>\n",
       "      <td>correte</td>\n",
       "      <td>&lt;start&gt; run</td>\n",
       "      <td>run &lt;end&gt;</td>\n",
       "    </tr>\n",
       "    <tr>\n",
       "      <th>4</th>\n",
       "      <td>chi</td>\n",
       "      <td>&lt;start&gt; who</td>\n",
       "      <td>who &lt;end&gt;</td>\n",
       "    </tr>\n",
       "    <tr>\n",
       "      <th>...</th>\n",
       "      <td>...</td>\n",
       "      <td>...</td>\n",
       "      <td>...</td>\n",
       "    </tr>\n",
       "    <tr>\n",
       "      <th>344915</th>\n",
       "      <td>charles moore cre il forth nel tentativo di au...</td>\n",
       "      <td>&lt;start&gt; charles moore created forth in an atte...</td>\n",
       "      <td>charles moore created forth in an attempt to i...</td>\n",
       "    </tr>\n",
       "    <tr>\n",
       "      <th>344998</th>\n",
       "      <td>se la tua azienda opera principalmente con lam...</td>\n",
       "      <td>&lt;start&gt; if your company primarily does busines...</td>\n",
       "      <td>if your company primarily does business with a...</td>\n",
       "    </tr>\n",
       "    <tr>\n",
       "      <th>344999</th>\n",
       "      <td>se la sua azienda opera principalmente con lam...</td>\n",
       "      <td>&lt;start&gt; if your company primarily does busines...</td>\n",
       "      <td>if your company primarily does business with a...</td>\n",
       "    </tr>\n",
       "    <tr>\n",
       "      <th>345000</th>\n",
       "      <td>se la vostra azienda opera principalmente con ...</td>\n",
       "      <td>&lt;start&gt; if your company primarily does busines...</td>\n",
       "      <td>if your company primarily does business with a...</td>\n",
       "    </tr>\n",
       "    <tr>\n",
       "      <th>345001</th>\n",
       "      <td>lintelligenza  fondata nella capacit di ricono...</td>\n",
       "      <td>&lt;start&gt; intelligence is found in the capacity ...</td>\n",
       "      <td>intelligence is found in the capacity to recog...</td>\n",
       "    </tr>\n",
       "  </tbody>\n",
       "</table>\n",
       "<p>344860 rows × 3 columns</p>\n",
       "</div>"
      ],
      "text/plain": [
       "                                                  italian  ...                                        english_out\n",
       "0                                                    ciao  ...                                           hi <end>\n",
       "1                                                   corri  ...                                          run <end>\n",
       "2                                                   corra  ...                                          run <end>\n",
       "3                                                 correte  ...                                          run <end>\n",
       "4                                                     chi  ...                                          who <end>\n",
       "...                                                   ...  ...                                                ...\n",
       "344915  charles moore cre il forth nel tentativo di au...  ...  charles moore created forth in an attempt to i...\n",
       "344998  se la tua azienda opera principalmente con lam...  ...  if your company primarily does business with a...\n",
       "344999  se la sua azienda opera principalmente con lam...  ...  if your company primarily does business with a...\n",
       "345000  se la vostra azienda opera principalmente con ...  ...  if your company primarily does business with a...\n",
       "345001  lintelligenza  fondata nella capacit di ricono...  ...  intelligence is found in the capacity to recog...\n",
       "\n",
       "[344860 rows x 3 columns]"
      ]
     },
     "execution_count": 6,
     "metadata": {
      "tags": []
     },
     "output_type": "execute_result"
    }
   ],
   "source": [
    "# REMOVING SENTENCES WITH LENGTH GREATER THAN 20\n",
    "df[\"eng_len\"] = df.english.apply(lambda x: len(x.split()))\n",
    "df = df[df.eng_len<=20]\n",
    "df[\"ita_len\"] = df.italian.apply(lambda x: len(x.split()))\n",
    "df  = df[df.ita_len<=20]\n",
    "# ADDING <start> TO THE BEGINING OF ENGLISH SENTENCES\n",
    "df[\"english_inp\"]= \"<start> \"+ df.english\n",
    "df[\"english_out\"]= df.english+ \" <end>\"\n",
    "df.drop([\"english\",\"eng_len\",\"ita_len\"],axis=1,inplace=True)\n",
    "df"
   ]
  },
  {
   "cell_type": "markdown",
   "metadata": {
    "id": "WhQdgzMVdcof"
   },
   "source": [
    " ## Train Test Split"
   ]
  },
  {
   "cell_type": "code",
   "execution_count": 4,
   "metadata": {
    "executionInfo": {
     "elapsed": 12,
     "status": "ok",
     "timestamp": 1624280828123,
     "user": {
      "displayName": "PUSHAP GANDHI",
      "photoUrl": "https://lh3.googleusercontent.com/a-/AOh14GhtvSq40Q0iR7PAFnCqNljCvZEL0u3Jwy5L59EZTA=s64",
      "userId": "12599792132870778014"
     },
     "user_tz": -330
    },
    "id": "ZvM6sgCGC36I"
   },
   "outputs": [],
   "source": [
    "from sklearn.model_selection import train_test_split"
   ]
  },
  {
   "cell_type": "code",
   "execution_count": 8,
   "metadata": {
    "executionInfo": {
     "elapsed": 11,
     "status": "ok",
     "timestamp": 1624280828123,
     "user": {
      "displayName": "PUSHAP GANDHI",
      "photoUrl": "https://lh3.googleusercontent.com/a-/AOh14GhtvSq40Q0iR7PAFnCqNljCvZEL0u3Jwy5L59EZTA=s64",
      "userId": "12599792132870778014"
     },
     "user_tz": -330
    },
    "id": "LxFu6nQ1DKrR"
   },
   "outputs": [],
   "source": [
    "train , validation = train_test_split(df,test_size = 0.2,random_state=33)\n",
    "#ADDING <end> RO THE END OF FIRST ENGLISH SENTENCE IN \"english_inp\"\n",
    "train.iloc[0][\"english_inp\"]  = train.iloc[0][\"english_inp\"] + \" <end>\""
   ]
  },
  {
   "cell_type": "code",
   "execution_count": null,
   "metadata": {
    "id": "ovJpqTbaDKuW"
   },
   "outputs": [],
   "source": []
  },
  {
   "cell_type": "markdown",
   "metadata": {
    "id": "x7LLyfLmdj5i"
   },
   "source": [
    "## Tokenization"
   ]
  },
  {
   "cell_type": "code",
   "execution_count": 5,
   "metadata": {
    "executionInfo": {
     "elapsed": 696,
     "status": "ok",
     "timestamp": 1624280828808,
     "user": {
      "displayName": "PUSHAP GANDHI",
      "photoUrl": "https://lh3.googleusercontent.com/a-/AOh14GhtvSq40Q0iR7PAFnCqNljCvZEL0u3Jwy5L59EZTA=s64",
      "userId": "12599792132870778014"
     },
     "user_tz": -330
    },
    "id": "bBI8mQ5jDKxb"
   },
   "outputs": [],
   "source": [
    "from tensorflow.keras.preprocessing.text import Tokenizer\n",
    "from  tensorflow.keras.preprocessing.sequence import pad_sequences"
   ]
  },
  {
   "cell_type": "code",
   "execution_count": 10,
   "metadata": {
    "executionInfo": {
     "elapsed": 5561,
     "status": "ok",
     "timestamp": 1624280834358,
     "user": {
      "displayName": "PUSHAP GANDHI",
      "photoUrl": "https://lh3.googleusercontent.com/a-/AOh14GhtvSq40Q0iR7PAFnCqNljCvZEL0u3Jwy5L59EZTA=s64",
      "userId": "12599792132870778014"
     },
     "user_tz": -330
    },
    "id": "_hIiNqQJDK0Q"
   },
   "outputs": [],
   "source": [
    "# TOKENIZE ENGLISH SENTENCES\n",
    "tk_eng = Tokenizer(filters = '!\"#$%&()*+,-./:;=?@[\\\\]^_`{|}~\\t\\n')\n",
    "tk_eng.fit_on_texts(train.english_inp.values)\n",
    "# TOKENIZING ITALIAN SENTENCES\n",
    "tk_ita = Tokenizer()\n",
    "tk_ita.fit_on_texts(train.italian)"
   ]
  },
  {
   "cell_type": "markdown",
   "metadata": {
    "id": "7_LYaEmXdpj1"
   },
   "source": [
    "## Data Generator"
   ]
  },
  {
   "cell_type": "code",
   "execution_count": 11,
   "metadata": {
    "executionInfo": {
     "elapsed": 18,
     "status": "ok",
     "timestamp": 1624280834360,
     "user": {
      "displayName": "PUSHAP GANDHI",
      "photoUrl": "https://lh3.googleusercontent.com/a-/AOh14GhtvSq40Q0iR7PAFnCqNljCvZEL0u3Jwy5L59EZTA=s64",
      "userId": "12599792132870778014"
     },
     "user_tz": -330
    },
    "id": "PeVTeYlaDK3J"
   },
   "outputs": [],
   "source": [
    "from  tensorflow.keras.preprocessing.sequence import pad_sequences"
   ]
  },
  {
   "cell_type": "code",
   "execution_count": 6,
   "metadata": {
    "executionInfo": {
     "elapsed": 17,
     "status": "ok",
     "timestamp": 1624280834361,
     "user": {
      "displayName": "PUSHAP GANDHI",
      "photoUrl": "https://lh3.googleusercontent.com/a-/AOh14GhtvSq40Q0iR7PAFnCqNljCvZEL0u3Jwy5L59EZTA=s64",
      "userId": "12599792132870778014"
     },
     "user_tz": -330
    },
    "id": "bhFY92l8DK5e"
   },
   "outputs": [],
   "source": [
    "\n",
    "class Dataset :\n",
    "    def __init__(self, data,tk_eng,tk_ita,max_len):\n",
    "        self.encoder_inp = data[\"italian\"].values\n",
    "        self.decoder_inp = data[\"english_inp\"].values\n",
    "        self.decoder_out = data[\"english_out\"].values\n",
    "        self.tk_eng = tk_eng\n",
    "        self.tk_ita = tk_ita\n",
    "        self.max_len = max_len\n",
    "        \n",
    "    def __getitem__(self,i):\n",
    "        # ITALIAN TO INTEGER SEQUENCES\n",
    "        self.encoder_seq = self.tk_ita.texts_to_sequences([self.encoder_inp[i]])\n",
    "        # ENGLISH TO INTEGER SEQUENCES \n",
    "        self.decoder_inp_seq = self.tk_eng.texts_to_sequences([self.decoder_inp[i]])\n",
    "        # ENGLISH TO INTEGER SEQUENCES\n",
    "        self.decoder_out_seq = self.tk_eng.texts_to_sequences([self.decoder_out[i]])\n",
    "        \n",
    "        # PADDING THE ENCODER INPUT SEQUENCES\n",
    "        self.encoder_seq = pad_sequences(self.encoder_seq,maxlen = self.max_len,padding=\"post\")\n",
    "        # PADDING THE DECODER INPUT SEQUENCES\n",
    "        self.decoder_inp_seq = pad_sequences(self.decoder_inp_seq,maxlen = self.max_len,padding = \"post\")\n",
    "        # PADDING DECODER OUTPUT SEQUENCES\n",
    "        self.decoder_out_seq = pad_sequences(self.decoder_out_seq,maxlen = self.max_len,padding = \"post\")\n",
    "        return self.encoder_seq ,  self.decoder_inp_seq,  self.decoder_out_seq\n",
    "    \n",
    "    def __len__(self):\n",
    "        # RETURN THE LEN OF INPUT ENDODER\n",
    "        return len(self.encoder_inp)"
   ]
  },
  {
   "cell_type": "code",
   "execution_count": 13,
   "metadata": {
    "executionInfo": {
     "elapsed": 16,
     "status": "ok",
     "timestamp": 1624280834361,
     "user": {
      "displayName": "PUSHAP GANDHI",
      "photoUrl": "https://lh3.googleusercontent.com/a-/AOh14GhtvSq40Q0iR7PAFnCqNljCvZEL0u3Jwy5L59EZTA=s64",
      "userId": "12599792132870778014"
     },
     "user_tz": -330
    },
    "id": "d6legz6QDbCP"
   },
   "outputs": [],
   "source": [
    "class Dataloader(tf.keras.utils.Sequence):\n",
    "    def __init__(self,batch_size,dataset):\n",
    "        # INTIALIZING THE REQUIRED VARIABLES \n",
    "        self.dataset = dataset\n",
    "        self.batch_size = batch_size\n",
    "        self.totl_points = self.dataset.encoder_inp.shape[0]\n",
    "        \n",
    "    def __getitem__(self,i):\n",
    "        # STATING THE START AND STOP VATIABLE CONTAINGING INDEX VALUES FOR EACH BATCH\n",
    "        start = i * self.batch_size\n",
    "        stop = (i+1)*self.batch_size\n",
    "        \n",
    "        # PLACEHOLDERS FOR BATCHED DATA\n",
    "        batch_ita =[]\n",
    "        batch_eng_input = []\n",
    "        batch_eng_out =[]\n",
    "\n",
    "        for j in range(start,stop): # FOR EACH VALUE IN START TO STOP \n",
    "            \n",
    "            a,b,c = self.dataset[j] # DATASET RETURNS ITALIAN , ENGLIGH_INPUT, ENGLISH_OUTPUT\n",
    "            batch_ita.append(a[0]) # APPENDING ITALIAN TO batch_ita\n",
    "            batch_eng_input.append(b[0]) # APPENGIND ENGLISH INPUT TO batch_eng_input\n",
    "            batch_eng_out.append(c[0]) # APPENDING ENGLISH OUTPUT TO batch_eng_out\n",
    "        \n",
    "        # Conveting list to array   \n",
    "        batch_ita = (np.array(batch_ita)) \n",
    "        batch_eng_input = np.array(batch_eng_input)\n",
    "        batch_eng_out = np.array(batch_eng_out)\n",
    "        \n",
    "        return [batch_ita , batch_eng_input],batch_eng_out\n",
    "    \n",
    "    def __len__(self):\n",
    "        # Returning the number of batches\n",
    "        return int(self.totl_points/self.batch_size)"
   ]
  },
  {
   "cell_type": "markdown",
   "metadata": {
    "id": "7O_a9F2bI5oQ"
   },
   "source": [
    "## Encoder"
   ]
  },
  {
   "cell_type": "code",
   "execution_count": 7,
   "metadata": {
    "executionInfo": {
     "elapsed": 5,
     "status": "ok",
     "timestamp": 1624280837609,
     "user": {
      "displayName": "PUSHAP GANDHI",
      "photoUrl": "https://lh3.googleusercontent.com/a-/AOh14GhtvSq40Q0iR7PAFnCqNljCvZEL0u3Jwy5L59EZTA=s64",
      "userId": "12599792132870778014"
     },
     "user_tz": -330
    },
    "id": "syaff3pmI9QP"
   },
   "outputs": [],
   "source": [
    "from tensorflow.keras import layers"
   ]
  },
  {
   "cell_type": "code",
   "execution_count": 13,
   "metadata": {
    "executionInfo": {
     "elapsed": 534,
     "status": "ok",
     "timestamp": 1624280844168,
     "user": {
      "displayName": "PUSHAP GANDHI",
      "photoUrl": "https://lh3.googleusercontent.com/a-/AOh14GhtvSq40Q0iR7PAFnCqNljCvZEL0u3Jwy5L59EZTA=s64",
      "userId": "12599792132870778014"
     },
     "user_tz": -330
    },
    "id": "GgWl71_pDbFC"
   },
   "outputs": [],
   "source": [
    "class Encoder(tf.keras.layers.Layer):\n",
    "    '''\n",
    "    Encoder model -- That takes a input sequence and returns encoder-outputs,encoder_final_state_h,encoder_final_state_c\n",
    "    '''\n",
    "    \n",
    "    def __init__(self, vocab_size,emb_dims, enc_units, input_length,batch_size):\n",
    "        super().__init__()\n",
    "        # INITIALIZING THE REQUIRED VARIABLES\n",
    "        self.batch_size=batch_size # BATHCH SIZE\n",
    "        self.enc_units = enc_units # ENCODER UNITS\n",
    "\n",
    "        # EMBEDDING LAYER\n",
    "        self.embedding= layers.Embedding(vocab_size ,emb_dims) \n",
    "        # LSTM LAYER WITH RETURN SEQ AND RETURN STATES\n",
    "        self.lstm = layers.LSTM(self.enc_units,return_state= True,return_sequences =  True) \n",
    "    def call(self, enc_input , states):\n",
    "        '''\n",
    "          This function takes a sequence input and the initial states of the encoder.\n",
    "          Pass the input_sequence input to the Embedding layer, Pass the embedding layer ouput to encoder_lstm\n",
    "          returns -- encoder_output, last time step's hidden and cell state\n",
    "        '''\n",
    "        # FORMING THE EMBEDDED VECTOR \n",
    "        emb = self.embedding(enc_input)\n",
    "        # PASSING THE EMBEDDED VECTIO THROUGH LSTM LAYERS \n",
    "        enc_output,state_h,state_c = self.lstm(emb,initial_state=states)\n",
    "        #RETURNING THE OUTPUT OF LSTM LAYER\n",
    "        return enc_output,state_h,state_c \n",
    "\n",
    "    def initialize(self,batch_size):\n",
    "        '''\n",
    "        Given a batch size it will return intial hidden state and intial cell state.\n",
    "        If batch size is 32- Hidden state is zeros of size [32,lstm_units], cell state zeros is of size [32,lstm_units]\n",
    "        '''\n",
    "        return tf.zeros(shape=(batch_size,self.enc_units)),tf.zeros(shape=(batch_size,self.enc_units))"
   ]
  },
  {
   "cell_type": "code",
   "execution_count": 14,
   "metadata": {
    "colab": {
     "base_uri": "https://localhost:8080/"
    },
    "executionInfo": {
     "elapsed": 8536,
     "status": "ok",
     "timestamp": 1624280854069,
     "user": {
      "displayName": "PUSHAP GANDHI",
      "photoUrl": "https://lh3.googleusercontent.com/a-/AOh14GhtvSq40Q0iR7PAFnCqNljCvZEL0u3Jwy5L59EZTA=s64",
      "userId": "12599792132870778014"
     },
     "user_tz": -330
    },
    "id": "wHGwq_exDehX",
    "outputId": "5f221bce-47df-406b-e94b-6f498b05200b"
   },
   "outputs": [
    {
     "name": "stdout",
     "output_type": "stream",
     "text": [
      "ENCODER OUTPUT SHAPE= (16, 10, 32)\n",
      "ENCODER STATE H SHAPE= (16, 32)\n",
      "ENCODER STATE C SHAPE= (16, 32)\n"
     ]
    }
   ],
   "source": [
    "vocab_size=10\n",
    "embedding_size=20\n",
    "lstm_size=32\n",
    "input_length=10\n",
    "batch_size=16\n",
    "\n",
    "enc = Encoder(vocab_size,embedding_size,lstm_size,input_length,batch_size)\n",
    "a,b,c = enc(tf.random.uniform((batch_size,input_length)),enc.initialize(batch_size))\n",
    "print(\"ENCODER OUTPUT SHAPE=\",a.shape)\n",
    "print(\"ENCODER STATE H SHAPE=\",b.shape)\n",
    "print(\"ENCODER STATE C SHAPE=\",c.shape)"
   ]
  },
  {
   "cell_type": "markdown",
   "metadata": {},
   "source": [
    "### Grader Function 1"
   ]
  },
  {
   "cell_type": "code",
   "execution_count": 15,
   "metadata": {},
   "outputs": [
    {
     "ename": "TypeError",
     "evalue": "__init__() missing 1 required positional argument: 'batch_size'",
     "output_type": "error",
     "traceback": [
      "\u001b[1;31m---------------------------------------------------------------------------\u001b[0m",
      "\u001b[1;31mTypeError\u001b[0m                                 Traceback (most recent call last)",
      "\u001b[1;32m<ipython-input-15-11b658172760>\u001b[0m in \u001b[0;36m<module>\u001b[1;34m\u001b[0m\n\u001b[0;32m     21\u001b[0m     \u001b[1;32massert\u001b[0m\u001b[1;33m(\u001b[0m\u001b[0mencoder_output\u001b[0m\u001b[1;33m.\u001b[0m\u001b[0mshape\u001b[0m\u001b[1;33m==\u001b[0m\u001b[1;33m(\u001b[0m\u001b[0mbatch_size\u001b[0m\u001b[1;33m,\u001b[0m\u001b[0minput_length\u001b[0m\u001b[1;33m,\u001b[0m\u001b[0mlstm_size\u001b[0m\u001b[1;33m)\u001b[0m \u001b[1;32mand\u001b[0m \u001b[0mstate_h\u001b[0m\u001b[1;33m.\u001b[0m\u001b[0mshape\u001b[0m\u001b[1;33m==\u001b[0m\u001b[1;33m(\u001b[0m\u001b[0mbatch_size\u001b[0m\u001b[1;33m,\u001b[0m\u001b[0mlstm_size\u001b[0m\u001b[1;33m)\u001b[0m \u001b[1;32mand\u001b[0m \u001b[0mstate_c\u001b[0m\u001b[1;33m.\u001b[0m\u001b[0mshape\u001b[0m\u001b[1;33m==\u001b[0m\u001b[1;33m(\u001b[0m\u001b[0mbatch_size\u001b[0m\u001b[1;33m,\u001b[0m\u001b[0mlstm_size\u001b[0m\u001b[1;33m)\u001b[0m\u001b[1;33m)\u001b[0m\u001b[1;33m\u001b[0m\u001b[1;33m\u001b[0m\u001b[0m\n\u001b[0;32m     22\u001b[0m     \u001b[1;32mreturn\u001b[0m \u001b[1;32mTrue\u001b[0m\u001b[1;33m\u001b[0m\u001b[1;33m\u001b[0m\u001b[0m\n\u001b[1;32m---> 23\u001b[1;33m \u001b[0mprint\u001b[0m\u001b[1;33m(\u001b[0m\u001b[0mgrader_check_encoder\u001b[0m\u001b[1;33m(\u001b[0m\u001b[1;33m)\u001b[0m\u001b[1;33m)\u001b[0m\u001b[1;33m\u001b[0m\u001b[1;33m\u001b[0m\u001b[0m\n\u001b[0m",
      "\u001b[1;32m<ipython-input-15-11b658172760>\u001b[0m in \u001b[0;36mgrader_check_encoder\u001b[1;34m()\u001b[0m\n\u001b[0;32m     14\u001b[0m     \u001b[0minput_length\u001b[0m\u001b[1;33m=\u001b[0m\u001b[1;36m10\u001b[0m\u001b[1;33m\u001b[0m\u001b[1;33m\u001b[0m\u001b[0m\n\u001b[0;32m     15\u001b[0m     \u001b[0mbatch_size\u001b[0m\u001b[1;33m=\u001b[0m\u001b[1;36m16\u001b[0m\u001b[1;33m\u001b[0m\u001b[1;33m\u001b[0m\u001b[0m\n\u001b[1;32m---> 16\u001b[1;33m     \u001b[0mencoder\u001b[0m\u001b[1;33m=\u001b[0m\u001b[0mEncoder\u001b[0m\u001b[1;33m(\u001b[0m\u001b[0mvocab_size\u001b[0m\u001b[1;33m,\u001b[0m\u001b[0membedding_size\u001b[0m\u001b[1;33m,\u001b[0m\u001b[0mlstm_size\u001b[0m\u001b[1;33m,\u001b[0m\u001b[0minput_length\u001b[0m\u001b[1;33m)\u001b[0m\u001b[1;33m\u001b[0m\u001b[1;33m\u001b[0m\u001b[0m\n\u001b[0m\u001b[0;32m     17\u001b[0m     \u001b[0minput_sequence\u001b[0m\u001b[1;33m=\u001b[0m\u001b[0mtf\u001b[0m\u001b[1;33m.\u001b[0m\u001b[0mrandom\u001b[0m\u001b[1;33m.\u001b[0m\u001b[0muniform\u001b[0m\u001b[1;33m(\u001b[0m\u001b[0mshape\u001b[0m\u001b[1;33m=\u001b[0m\u001b[1;33m[\u001b[0m\u001b[0mbatch_size\u001b[0m\u001b[1;33m,\u001b[0m\u001b[0minput_length\u001b[0m\u001b[1;33m]\u001b[0m\u001b[1;33m,\u001b[0m\u001b[0mmaxval\u001b[0m\u001b[1;33m=\u001b[0m\u001b[0mvocab_size\u001b[0m\u001b[1;33m,\u001b[0m\u001b[0mminval\u001b[0m\u001b[1;33m=\u001b[0m\u001b[1;36m0\u001b[0m\u001b[1;33m,\u001b[0m\u001b[0mdtype\u001b[0m\u001b[1;33m=\u001b[0m\u001b[0mtf\u001b[0m\u001b[1;33m.\u001b[0m\u001b[0mint32\u001b[0m\u001b[1;33m)\u001b[0m\u001b[1;33m\u001b[0m\u001b[1;33m\u001b[0m\u001b[0m\n\u001b[0;32m     18\u001b[0m     \u001b[0minitial_state\u001b[0m\u001b[1;33m=\u001b[0m\u001b[0mencoder\u001b[0m\u001b[1;33m.\u001b[0m\u001b[0minitialize_states\u001b[0m\u001b[1;33m(\u001b[0m\u001b[0mbatch_size\u001b[0m\u001b[1;33m)\u001b[0m\u001b[1;33m\u001b[0m\u001b[1;33m\u001b[0m\u001b[0m\n",
      "\u001b[1;31mTypeError\u001b[0m: __init__() missing 1 required positional argument: 'batch_size'"
     ]
    }
   ],
   "source": [
    "def grader_check_encoder():\n",
    "    \n",
    "    '''\n",
    "        vocab-size: Unique words of the input language,\n",
    "        embedding_size: output embedding dimension for each word after embedding layer,\n",
    "        lstm_size: Number of lstm units in encoder,\n",
    "        input_length: Length of the input sentence,\n",
    "        batch_size\n",
    "    '''\n",
    "    \n",
    "    vocab_size=10\n",
    "    embedding_size=20\n",
    "    lstm_size=32\n",
    "    input_length=10\n",
    "    batch_size=16\n",
    "    encoder=Encoder(vocab_size,embedding_size,lstm_size,input_length)\n",
    "    input_sequence=tf.random.uniform(shape=[batch_size,input_length],maxval=vocab_size,minval=0,dtype=tf.int32)\n",
    "    initial_state=encoder.initialize_states(batch_size)\n",
    "    encoder_output,state_h,state_c=encoder(input_sequence,initial_state)\n",
    "    \n",
    "    assert(encoder_output.shape==(batch_size,input_length,lstm_size) and state_h.shape==(batch_size,lstm_size) and state_c.shape==(batch_size,lstm_size))\n",
    "    return True\n",
    "print(grader_check_encoder())"
   ]
  },
  {
   "cell_type": "markdown",
   "metadata": {
    "id": "9cpSD5STd2Hx"
   },
   "source": [
    "## Attention  for General Model"
   ]
  },
  {
   "cell_type": "code",
   "execution_count": 17,
   "metadata": {
    "executionInfo": {
     "elapsed": 466,
     "status": "ok",
     "timestamp": 1624281675277,
     "user": {
      "displayName": "PUSHAP GANDHI",
      "photoUrl": "https://lh3.googleusercontent.com/a-/AOh14GhtvSq40Q0iR7PAFnCqNljCvZEL0u3Jwy5L59EZTA=s64",
      "userId": "12599792132870778014"
     },
     "user_tz": -330
    },
    "id": "85PLh3GkDekY"
   },
   "outputs": [],
   "source": [
    "class Attention(tf.keras.layers.Layer):\n",
    "    '''THIS FUNCTION RETURNS THE CONTEXT VECTOR AND ATTENTION WEIGHTS (ALPHA VALUES)'''\n",
    "    def __init__(self,units):\n",
    "        super().__init__()\n",
    "        # INITIALIZING THE DENSE LAYERS\n",
    "        self.dense = layers.Dense(units)\n",
    "\n",
    "    def call(self,enc_output,dec_state):\n",
    "         # EXPANDING THE DIMENSION OF DECODER STATE  EG. FROM (16,32) TO (16,32,1)\n",
    "        dec_state =  tf.expand_dims(dec_state,axis=-1)\n",
    "        # APPLYING DENSE LAYER TO THE ENCODER OUTPUT \n",
    "        dense_output = self.dense(enc_output)\n",
    "        \n",
    "        # MATRIX MULTIPLICATION OF MODIFIED ENCODER OUTPUT AND EXPANDED DECODER STATE\n",
    "        # (16,32,1)*(16,13,32) = (16,13,1)\n",
    "        score = tf.matmul(dense_output , dec_state)\n",
    "        \n",
    "        # APPLYING SOFTMAX TO THE AXIS 1\n",
    "        # OUPUT SHAPE = (16,13,1)\n",
    "        att_weights = tf.nn.softmax(score,axis=1)\n",
    "        \n",
    "        # CALCULATING THE CONTEXT VECTOR BY FIRST ELEMENTWISE MULTIPLICATION AND THEN ADDING THE AXIS 1\n",
    "        # (16,13,1)*(16,13,32)=(16,13,32)\n",
    "        context_vec  = att_weights* enc_output\n",
    "        \n",
    "        # (16,13,32) SUM AND REDUCE THE DIMENSION AT AXIS 1 => (16,32)\n",
    "        context_vec = tf.reduce_sum(context_vec,axis=1)\n",
    "        \n",
    "        # RETURNING THE CONTEXT VECTOR AND ATTENTION WEIGHTS\n",
    "        return context_vec,att_weights"
   ]
  },
  {
   "cell_type": "code",
   "execution_count": 18,
   "metadata": {
    "colab": {
     "base_uri": "https://localhost:8080/"
    },
    "executionInfo": {
     "elapsed": 640,
     "status": "ok",
     "timestamp": 1624281688803,
     "user": {
      "displayName": "PUSHAP GANDHI",
      "photoUrl": "https://lh3.googleusercontent.com/a-/AOh14GhtvSq40Q0iR7PAFnCqNljCvZEL0u3Jwy5L59EZTA=s64",
      "userId": "12599792132870778014"
     },
     "user_tz": -330
    },
    "id": "yxHe2kHjDenZ",
    "outputId": "4447b23d-85fc-40cc-e183-dae1214c3338"
   },
   "outputs": [
    {
     "name": "stdout",
     "output_type": "stream",
     "text": [
      "CONTEXT VECTOR SHAPE= (16, 32)\n",
      "ATTENTION WEIGHTS SHAPE= (16, 10, 1)\n"
     ]
    }
   ],
   "source": [
    "input_length=10\n",
    "batch_size=16\n",
    "att_units=32\n",
    "\n",
    "att = Attention(att_units)\n",
    "encoder_output =  tf.random.uniform((batch_size,input_length,att_units))\n",
    "dec_state_h=tf.random.uniform(shape=[batch_size,att_units])\n",
    "x1, x2 = att(encoder_output,dec_state_h)\n",
    "print(\"CONTEXT VECTOR SHAPE=\",x1.shape)\n",
    "print(\"ATTENTION WEIGHTS SHAPE=\",x2.shape)"
   ]
  },
  {
   "cell_type": "markdown",
   "metadata": {},
   "source": [
    "### Grader Function 2"
   ]
  },
  {
   "cell_type": "code",
   "execution_count": 19,
   "metadata": {},
   "outputs": [
    {
     "ename": "TypeError",
     "evalue": "__init__() takes 2 positional arguments but 3 were given",
     "output_type": "error",
     "traceback": [
      "\u001b[1;31m---------------------------------------------------------------------------\u001b[0m",
      "\u001b[1;31mTypeError\u001b[0m                                 Traceback (most recent call last)",
      "\u001b[1;32m<ipython-input-19-1b8722fdfe69>\u001b[0m in \u001b[0;36m<module>\u001b[1;34m\u001b[0m\n\u001b[0;32m     17\u001b[0m     \u001b[1;32massert\u001b[0m\u001b[1;33m(\u001b[0m\u001b[0mcontext_vector\u001b[0m\u001b[1;33m.\u001b[0m\u001b[0mshape\u001b[0m\u001b[1;33m==\u001b[0m\u001b[1;33m(\u001b[0m\u001b[0mbatch_size\u001b[0m\u001b[1;33m,\u001b[0m\u001b[0matt_units\u001b[0m\u001b[1;33m)\u001b[0m \u001b[1;32mand\u001b[0m \u001b[0mattention_weights\u001b[0m\u001b[1;33m.\u001b[0m\u001b[0mshape\u001b[0m\u001b[1;33m==\u001b[0m\u001b[1;33m(\u001b[0m\u001b[0mbatch_size\u001b[0m\u001b[1;33m,\u001b[0m\u001b[0minput_length\u001b[0m\u001b[1;33m,\u001b[0m\u001b[1;36m1\u001b[0m\u001b[1;33m)\u001b[0m\u001b[1;33m)\u001b[0m\u001b[1;33m\u001b[0m\u001b[1;33m\u001b[0m\u001b[0m\n\u001b[0;32m     18\u001b[0m     \u001b[1;32mreturn\u001b[0m \u001b[1;32mTrue\u001b[0m\u001b[1;33m\u001b[0m\u001b[1;33m\u001b[0m\u001b[0m\n\u001b[1;32m---> 19\u001b[1;33m \u001b[0mprint\u001b[0m\u001b[1;33m(\u001b[0m\u001b[0mgrader_check_attention\u001b[0m\u001b[1;33m(\u001b[0m\u001b[1;34m'dot'\u001b[0m\u001b[1;33m)\u001b[0m\u001b[1;33m)\u001b[0m\u001b[1;33m\u001b[0m\u001b[1;33m\u001b[0m\u001b[0m\n\u001b[0m\u001b[0;32m     20\u001b[0m \u001b[0mprint\u001b[0m\u001b[1;33m(\u001b[0m\u001b[0mgrader_check_attention\u001b[0m\u001b[1;33m(\u001b[0m\u001b[1;34m'general'\u001b[0m\u001b[1;33m)\u001b[0m\u001b[1;33m)\u001b[0m\u001b[1;33m\u001b[0m\u001b[1;33m\u001b[0m\u001b[0m\n\u001b[0;32m     21\u001b[0m \u001b[0mprint\u001b[0m\u001b[1;33m(\u001b[0m\u001b[0mgrader_check_attention\u001b[0m\u001b[1;33m(\u001b[0m\u001b[1;34m'concat'\u001b[0m\u001b[1;33m)\u001b[0m\u001b[1;33m)\u001b[0m\u001b[1;33m\u001b[0m\u001b[1;33m\u001b[0m\u001b[0m\n",
      "\u001b[1;32m<ipython-input-19-1b8722fdfe69>\u001b[0m in \u001b[0;36mgrader_check_attention\u001b[1;34m(scoring_fun)\u001b[0m\n\u001b[0;32m     13\u001b[0m     \u001b[0mstate_h\u001b[0m\u001b[1;33m=\u001b[0m\u001b[0mtf\u001b[0m\u001b[1;33m.\u001b[0m\u001b[0mrandom\u001b[0m\u001b[1;33m.\u001b[0m\u001b[0muniform\u001b[0m\u001b[1;33m(\u001b[0m\u001b[0mshape\u001b[0m\u001b[1;33m=\u001b[0m\u001b[1;33m[\u001b[0m\u001b[0mbatch_size\u001b[0m\u001b[1;33m,\u001b[0m\u001b[0matt_units\u001b[0m\u001b[1;33m]\u001b[0m\u001b[1;33m)\u001b[0m\u001b[1;33m\u001b[0m\u001b[1;33m\u001b[0m\u001b[0m\n\u001b[0;32m     14\u001b[0m     \u001b[0mencoder_output\u001b[0m\u001b[1;33m=\u001b[0m\u001b[0mtf\u001b[0m\u001b[1;33m.\u001b[0m\u001b[0mrandom\u001b[0m\u001b[1;33m.\u001b[0m\u001b[0muniform\u001b[0m\u001b[1;33m(\u001b[0m\u001b[0mshape\u001b[0m\u001b[1;33m=\u001b[0m\u001b[1;33m[\u001b[0m\u001b[0mbatch_size\u001b[0m\u001b[1;33m,\u001b[0m\u001b[0minput_length\u001b[0m\u001b[1;33m,\u001b[0m\u001b[0matt_units\u001b[0m\u001b[1;33m]\u001b[0m\u001b[1;33m)\u001b[0m\u001b[1;33m\u001b[0m\u001b[1;33m\u001b[0m\u001b[0m\n\u001b[1;32m---> 15\u001b[1;33m     \u001b[0mattention\u001b[0m\u001b[1;33m=\u001b[0m\u001b[0mAttention\u001b[0m\u001b[1;33m(\u001b[0m\u001b[0mscoring_fun\u001b[0m\u001b[1;33m,\u001b[0m\u001b[0matt_units\u001b[0m\u001b[1;33m)\u001b[0m\u001b[1;33m\u001b[0m\u001b[1;33m\u001b[0m\u001b[0m\n\u001b[0m\u001b[0;32m     16\u001b[0m     \u001b[0mcontext_vector\u001b[0m\u001b[1;33m,\u001b[0m\u001b[0mattention_weights\u001b[0m\u001b[1;33m=\u001b[0m\u001b[0mattention\u001b[0m\u001b[1;33m(\u001b[0m\u001b[0mstate_h\u001b[0m\u001b[1;33m,\u001b[0m\u001b[0mencoder_output\u001b[0m\u001b[1;33m)\u001b[0m\u001b[1;33m\u001b[0m\u001b[1;33m\u001b[0m\u001b[0m\n\u001b[0;32m     17\u001b[0m     \u001b[1;32massert\u001b[0m\u001b[1;33m(\u001b[0m\u001b[0mcontext_vector\u001b[0m\u001b[1;33m.\u001b[0m\u001b[0mshape\u001b[0m\u001b[1;33m==\u001b[0m\u001b[1;33m(\u001b[0m\u001b[0mbatch_size\u001b[0m\u001b[1;33m,\u001b[0m\u001b[0matt_units\u001b[0m\u001b[1;33m)\u001b[0m \u001b[1;32mand\u001b[0m \u001b[0mattention_weights\u001b[0m\u001b[1;33m.\u001b[0m\u001b[0mshape\u001b[0m\u001b[1;33m==\u001b[0m\u001b[1;33m(\u001b[0m\u001b[0mbatch_size\u001b[0m\u001b[1;33m,\u001b[0m\u001b[0minput_length\u001b[0m\u001b[1;33m,\u001b[0m\u001b[1;36m1\u001b[0m\u001b[1;33m)\u001b[0m\u001b[1;33m)\u001b[0m\u001b[1;33m\u001b[0m\u001b[1;33m\u001b[0m\u001b[0m\n",
      "\u001b[1;31mTypeError\u001b[0m: __init__() takes 2 positional arguments but 3 were given"
     ]
    }
   ],
   "source": [
    "def grader_check_attention(scoring_fun):\n",
    "    \n",
    "    ''' \n",
    "        att_units: Used in matrix multiplications for scoring functions,\n",
    "        input_length: Length of the input sentence,\n",
    "        batch_size\n",
    "    '''\n",
    "    \n",
    "    input_length=10\n",
    "    batch_size=16\n",
    "    att_units=32\n",
    "    \n",
    "    state_h=tf.random.uniform(shape=[batch_size,att_units])\n",
    "    encoder_output=tf.random.uniform(shape=[batch_size,input_length,att_units])\n",
    "    attention=Attention(scoring_fun,att_units)\n",
    "    context_vector,attention_weights=attention(state_h,encoder_output)\n",
    "    assert(context_vector.shape==(batch_size,att_units) and attention_weights.shape==(batch_size,input_length,1))\n",
    "    return True\n",
    "print(grader_check_attention('dot'))\n",
    "print(grader_check_attention('general'))\n",
    "print(grader_check_attention('concat'))"
   ]
  },
  {
   "cell_type": "markdown",
   "metadata": {
    "id": "Ieh_z3F5d7vd"
   },
   "source": [
    "## One Step Decoder"
   ]
  },
  {
   "cell_type": "code",
   "execution_count": 20,
   "metadata": {
    "executionInfo": {
     "elapsed": 728,
     "status": "ok",
     "timestamp": 1624281714195,
     "user": {
      "displayName": "PUSHAP GANDHI",
      "photoUrl": "https://lh3.googleusercontent.com/a-/AOh14GhtvSq40Q0iR7PAFnCqNljCvZEL0u3Jwy5L59EZTA=s64",
      "userId": "12599792132870778014"
     },
     "user_tz": -330
    },
    "id": "tdXJLk_vdP-1"
   },
   "outputs": [],
   "source": [
    "class Onestepdecoder(tf.keras.Model):\n",
    "    '''THIS MODEL OUTPUTS THE RESULT OF DECODER FOR ONE TIME SETP GIVEN THE INPUT FOR PRECIOVE TIME STEP'''\n",
    "    \n",
    "    def __init__(self, vocab_size,emb_dims, dec_units, input_len,att_units,batch_size):\n",
    "        super().__init__()\n",
    "        # INTITALIZING THE REQUIRED VARIABLES\n",
    "        # EMBEDDING LAYERS\n",
    "        self.emb = layers.Embedding(vocab_size,emb_dims,input_length= input_len)\n",
    "        # ATTENTION LAYER\n",
    "        self.att = Attention(att_units)\n",
    "        # LSTM LAYER\n",
    "        self.lstm = layers.LSTM(dec_units,return_sequences=True,return_state=True)\n",
    "        # DENSE LAYER\n",
    "        self.dense = layers.Dense(vocab_size)\n",
    "\n",
    "    def call(self, encoder_output , input , state_h):\n",
    "        # FORMING THE EMBEDDED VECTOR FOR THE WORD\n",
    "        # (32,1)=>(32,1,12)\n",
    "        emb = self.emb(input)\n",
    "        \n",
    "        # GETTING THE CONTEXT VECTOR AND ATTENTION WEIGHTS BASED ON THE ENCODER OUTPUT AND PREVIOUS DECODER STATE_H\n",
    "        context_vec,alphas = self.att(encoder_output,state_h)\n",
    "        \n",
    "        # CONCATINATING THE CONTEXT VECTOR(BY EXPANDING DIMENSION) AND ENBEDDED VECTOR\n",
    "        # (32,1,16)|(32,1,12)=>(32,1,28)\n",
    "        dec_input =  tf.concat([tf.expand_dims(context_vec,1),emb],axis=-1)\n",
    "        \n",
    "        # PASSING THE CONTEXT VECTOR THROUGH LSTM UNIT\n",
    "        dec_output,dec_state_h,state_c = self.lstm(dec_input)\n",
    "        \n",
    "        # PASSING THE DECODER OUTPUT THROUGH DENSE LAYER WITH UNITS EQUAL TO VOCAB SIZE\n",
    "        fc = self.dense(dec_output)\n",
    "        \n",
    "        # RETURNING THE OUTPUT\n",
    "        return fc , dec_state_h , alphas"
   ]
  },
  {
   "cell_type": "code",
   "execution_count": 21,
   "metadata": {
    "colab": {
     "base_uri": "https://localhost:8080/"
    },
    "executionInfo": {
     "elapsed": 11,
     "status": "ok",
     "timestamp": 1624281714197,
     "user": {
      "displayName": "PUSHAP GANDHI",
      "photoUrl": "https://lh3.googleusercontent.com/a-/AOh14GhtvSq40Q0iR7PAFnCqNljCvZEL0u3Jwy5L59EZTA=s64",
      "userId": "12599792132870778014"
     },
     "user_tz": -330
    },
    "id": "kOGZ4L44gV1L",
    "outputId": "1f12a457-2ab9-4692-bee9-32c6629c9f30"
   },
   "outputs": [
    {
     "name": "stdout",
     "output_type": "stream",
     "text": [
      "one_step_dec output shape (32, 1, 13)\n",
      "state_h (32, 10)\n",
      "attention_weight (32, 10, 1)\n"
     ]
    }
   ],
   "source": [
    "tar_vocab_size=13 \n",
    "embedding_dim=12 \n",
    "input_length=10\n",
    "dec_units=16 \n",
    "att_units=16\n",
    "batch_size=32\n",
    "\n",
    "onestepdecoder=Onestepdecoder(tar_vocab_size, embedding_dim, input_length, dec_units , att_units , batch_size)\n",
    "input_to_decoder=tf.random.uniform(shape=(batch_size,1),maxval=10,minval=0,dtype=tf.int32)\n",
    "encoder_output=tf.random.uniform(shape=[batch_size,input_length,dec_units])\n",
    "state_h=tf.random.uniform(shape=[batch_size,dec_units])\n",
    "\n",
    "output,state_h,attention_weights=onestepdecoder(encoder_output,input_to_decoder,state_h)\n",
    "\n",
    "print(\"one_step_dec output shape\",output.shape)\n",
    "print(\"state_h\",state_h.shape)\n",
    "print(\"attention_weight\",attention_weights.shape)"
   ]
  },
  {
   "cell_type": "markdown",
   "metadata": {},
   "source": [
    "### Grader Function 3 "
   ]
  },
  {
   "cell_type": "code",
   "execution_count": 22,
   "metadata": {},
   "outputs": [
    {
     "ename": "NameError",
     "evalue": "name 'One_Step_Decoder' is not defined",
     "output_type": "error",
     "traceback": [
      "\u001b[1;31m---------------------------------------------------------------------------\u001b[0m",
      "\u001b[1;31mNameError\u001b[0m                                 Traceback (most recent call last)",
      "\u001b[1;32m<ipython-input-22-bc4618541f5d>\u001b[0m in \u001b[0;36m<module>\u001b[1;34m\u001b[0m\n\u001b[0;32m     31\u001b[0m     \u001b[1;32mreturn\u001b[0m \u001b[1;32mTrue\u001b[0m\u001b[1;33m\u001b[0m\u001b[1;33m\u001b[0m\u001b[0m\n\u001b[0;32m     32\u001b[0m \u001b[1;33m\u001b[0m\u001b[0m\n\u001b[1;32m---> 33\u001b[1;33m \u001b[0mprint\u001b[0m\u001b[1;33m(\u001b[0m\u001b[0mgrader_onestepdecoder\u001b[0m\u001b[1;33m(\u001b[0m\u001b[1;34m'dot'\u001b[0m\u001b[1;33m)\u001b[0m\u001b[1;33m)\u001b[0m\u001b[1;33m\u001b[0m\u001b[1;33m\u001b[0m\u001b[0m\n\u001b[0m\u001b[0;32m     34\u001b[0m \u001b[0mprint\u001b[0m\u001b[1;33m(\u001b[0m\u001b[0mgrader_onestepdecoder\u001b[0m\u001b[1;33m(\u001b[0m\u001b[1;34m'general'\u001b[0m\u001b[1;33m)\u001b[0m\u001b[1;33m)\u001b[0m\u001b[1;33m\u001b[0m\u001b[1;33m\u001b[0m\u001b[0m\n\u001b[0;32m     35\u001b[0m \u001b[0mprint\u001b[0m\u001b[1;33m(\u001b[0m\u001b[0mgrader_onestepdecoder\u001b[0m\u001b[1;33m(\u001b[0m\u001b[1;34m'concat'\u001b[0m\u001b[1;33m)\u001b[0m\u001b[1;33m)\u001b[0m\u001b[1;33m\u001b[0m\u001b[1;33m\u001b[0m\u001b[0m\n",
      "\u001b[1;32m<ipython-input-22-bc4618541f5d>\u001b[0m in \u001b[0;36mgrader_onestepdecoder\u001b[1;34m(score_fun)\u001b[0m\n\u001b[0;32m     18\u001b[0m     \u001b[0matt_units\u001b[0m\u001b[1;33m=\u001b[0m\u001b[1;36m16\u001b[0m\u001b[1;33m\u001b[0m\u001b[1;33m\u001b[0m\u001b[0m\n\u001b[0;32m     19\u001b[0m     \u001b[0mbatch_size\u001b[0m\u001b[1;33m=\u001b[0m\u001b[1;36m32\u001b[0m\u001b[1;33m\u001b[0m\u001b[1;33m\u001b[0m\u001b[0m\n\u001b[1;32m---> 20\u001b[1;33m     \u001b[0monestepdecoder\u001b[0m\u001b[1;33m=\u001b[0m\u001b[0mOne_Step_Decoder\u001b[0m\u001b[1;33m(\u001b[0m\u001b[0mtar_vocab_size\u001b[0m\u001b[1;33m,\u001b[0m \u001b[0membedding_dim\u001b[0m\u001b[1;33m,\u001b[0m \u001b[0minput_length\u001b[0m\u001b[1;33m,\u001b[0m \u001b[0mdec_units\u001b[0m \u001b[1;33m,\u001b[0m\u001b[0mscore_fun\u001b[0m \u001b[1;33m,\u001b[0m\u001b[0matt_units\u001b[0m\u001b[1;33m)\u001b[0m\u001b[1;33m\u001b[0m\u001b[1;33m\u001b[0m\u001b[0m\n\u001b[0m\u001b[0;32m     21\u001b[0m     \u001b[0minput_to_decoder\u001b[0m\u001b[1;33m=\u001b[0m\u001b[0mtf\u001b[0m\u001b[1;33m.\u001b[0m\u001b[0mrandom\u001b[0m\u001b[1;33m.\u001b[0m\u001b[0muniform\u001b[0m\u001b[1;33m(\u001b[0m\u001b[0mshape\u001b[0m\u001b[1;33m=\u001b[0m\u001b[1;33m(\u001b[0m\u001b[0mbatch_size\u001b[0m\u001b[1;33m,\u001b[0m\u001b[1;36m1\u001b[0m\u001b[1;33m)\u001b[0m\u001b[1;33m,\u001b[0m\u001b[0mmaxval\u001b[0m\u001b[1;33m=\u001b[0m\u001b[1;36m10\u001b[0m\u001b[1;33m,\u001b[0m\u001b[0mminval\u001b[0m\u001b[1;33m=\u001b[0m\u001b[1;36m0\u001b[0m\u001b[1;33m,\u001b[0m\u001b[0mdtype\u001b[0m\u001b[1;33m=\u001b[0m\u001b[0mtf\u001b[0m\u001b[1;33m.\u001b[0m\u001b[0mint32\u001b[0m\u001b[1;33m)\u001b[0m\u001b[1;33m\u001b[0m\u001b[1;33m\u001b[0m\u001b[0m\n\u001b[0;32m     22\u001b[0m     \u001b[0mencoder_output\u001b[0m\u001b[1;33m=\u001b[0m\u001b[0mtf\u001b[0m\u001b[1;33m.\u001b[0m\u001b[0mrandom\u001b[0m\u001b[1;33m.\u001b[0m\u001b[0muniform\u001b[0m\u001b[1;33m(\u001b[0m\u001b[0mshape\u001b[0m\u001b[1;33m=\u001b[0m\u001b[1;33m[\u001b[0m\u001b[0mbatch_size\u001b[0m\u001b[1;33m,\u001b[0m\u001b[0minput_length\u001b[0m\u001b[1;33m,\u001b[0m\u001b[0mdec_units\u001b[0m\u001b[1;33m]\u001b[0m\u001b[1;33m)\u001b[0m\u001b[1;33m\u001b[0m\u001b[1;33m\u001b[0m\u001b[0m\n",
      "\u001b[1;31mNameError\u001b[0m: name 'One_Step_Decoder' is not defined"
     ]
    }
   ],
   "source": [
    "def grader_onestepdecoder(score_fun):\n",
    "    \n",
    "    '''\n",
    "        tar_vocab_size: Unique words of the target language,\n",
    "        embedding_dim: output embedding dimension for each word after embedding layer,\n",
    "        dec_units: Number of lstm units in decoder,\n",
    "        att_units: Used in matrix multiplications for scoring functions in attention class,\n",
    "        input_length: Length of the target sentence,\n",
    "        batch_size\n",
    "        \n",
    "    \n",
    "    '''\n",
    "    \n",
    "    tar_vocab_size=13 \n",
    "    embedding_dim=12 \n",
    "    input_length=10\n",
    "    dec_units=16 \n",
    "    att_units=16\n",
    "    batch_size=32\n",
    "    onestepdecoder=One_Step_Decoder(tar_vocab_size, embedding_dim, input_length, dec_units ,score_fun ,att_units)\n",
    "    input_to_decoder=tf.random.uniform(shape=(batch_size,1),maxval=10,minval=0,dtype=tf.int32)\n",
    "    encoder_output=tf.random.uniform(shape=[batch_size,input_length,dec_units])\n",
    "    state_h=tf.random.uniform(shape=[batch_size,dec_units])\n",
    "    state_c=tf.random.uniform(shape=[batch_size,dec_units])\n",
    "    output,state_h,state_c,attention_weights,context_vector=onestepdecoder(input_to_decoder,encoder_output,state_h,state_c)\n",
    "    assert(output.shape==(batch_size,tar_vocab_size))\n",
    "    assert(state_h.shape==(batch_size,dec_units))\n",
    "    assert(state_c.shape==(batch_size,dec_units))\n",
    "    assert(attention_weights.shape==(batch_size,input_length,1))\n",
    "    assert(context_vector.shape==(batch_size,dec_units))\n",
    "    return True\n",
    "    \n",
    "print(grader_onestepdecoder('dot'))\n",
    "print(grader_onestepdecoder('general'))\n",
    "print(grader_onestepdecoder('concat'))\n",
    "    "
   ]
  },
  {
   "cell_type": "markdown",
   "metadata": {
    "id": "6vpuLNQEeA2n"
   },
   "source": [
    "## Decoder"
   ]
  },
  {
   "cell_type": "code",
   "execution_count": 23,
   "metadata": {
    "executionInfo": {
     "elapsed": 8,
     "status": "ok",
     "timestamp": 1624281716045,
     "user": {
      "displayName": "PUSHAP GANDHI",
      "photoUrl": "https://lh3.googleusercontent.com/a-/AOh14GhtvSq40Q0iR7PAFnCqNljCvZEL0u3Jwy5L59EZTA=s64",
      "userId": "12599792132870778014"
     },
     "user_tz": -330
    },
    "id": "IxVY1QHTgV3z"
   },
   "outputs": [],
   "source": [
    "class Decoder(tf.keras.Model):\n",
    "    '''THIS MODEL PERFORMS THE WHOLE DECODER OPERATION FOR THE COMPLETE SENTENCE'''\n",
    "    def __init__(self, vocab_size,emb_dims, dec_units, input_len,att_units,batch_size):\n",
    "        super().__init__()\n",
    "        # INITIALIZING THE VARIABLES\n",
    "        # LENGTH OF INPUT SENTENCE\n",
    "        self.input_len = input_len\n",
    "        # ONE STEP DECODER\n",
    "        self.onestepdecoder = Onestepdecoder(vocab_size,emb_dims, dec_units, input_len,att_units,batch_size)\n",
    "\n",
    "    def call(self,dec_input,enc_output,state_h):\n",
    "        # THIS VATIABLE STORES THE VALUE OF STATE_H FOR THE PREVIOUS STATE\n",
    "        current_state_h = state_h \n",
    "        # THIS STORES THE DECODER OUTPUT FOR EACH TIME STEP\n",
    "        pred = []\n",
    "        # THIS STORED THE ALPHA VALUES\n",
    "        alpha_values = []\n",
    "        # FOR EACH WORD IN THE INPUT SENTENCE\n",
    "        for i in range(self.input_len):\n",
    "            \n",
    "            # CURRENT WORD TO INPUT TO ONE STEP DECODER\n",
    "            current_vec = dec_input[:,i]\n",
    "            # EXPANDING THE DIMENSION FOR THE WORD\n",
    "            current_vec = tf.expand_dims(current_vec,axis=-1)\n",
    "            # PERFORMING THE ONE STEP DECODER OPERATION \n",
    "            dec_output,dec_state_h,alphas = self.onestepdecoder(enc_output ,current_vec,current_state_h)\n",
    "            #UPDATING THE CURRENT STATE_H\n",
    "            current_state_h = dec_state_h\n",
    "            #APPENDING THE DECODER OUTPUT TO \"pred\" LIST\n",
    "            pred.append(dec_output)\n",
    "            # APPENDING THE ALPHA VALUES\n",
    "            alpha_values.append(alphas)\n",
    "            \n",
    "        # CONCATINATING ALL THE VALUES IN THE LIST\n",
    "        output = tf.concat(pred,axis=1)\n",
    "        # CONCATINATING ALL THE ALPHA VALUES IN THE LIST\n",
    "        alpha_values = tf.concat(alpha_values,axis = -1)\n",
    "        # RETURNING THE OUTPUT\n",
    "        return output , alpha_values\n"
   ]
  },
  {
   "cell_type": "code",
   "execution_count": 24,
   "metadata": {
    "colab": {
     "base_uri": "https://localhost:8080/"
    },
    "executionInfo": {
     "elapsed": 5,
     "status": "ok",
     "timestamp": 1624281717725,
     "user": {
      "displayName": "PUSHAP GANDHI",
      "photoUrl": "https://lh3.googleusercontent.com/a-/AOh14GhtvSq40Q0iR7PAFnCqNljCvZEL0u3Jwy5L59EZTA=s64",
      "userId": "12599792132870778014"
     },
     "user_tz": -330
    },
    "id": "oPCpcKBJvmBE",
    "outputId": "071df795-11c2-4115-9de6-bab90c622705",
    "scrolled": true
   },
   "outputs": [
    {
     "name": "stdout",
     "output_type": "stream",
     "text": [
      "Decoder Output= (32, 11, 13)\n",
      "Alpha Values= (32, 11, 11)\n"
     ]
    }
   ],
   "source": [
    "out_vocab_size=13 \n",
    "embedding_dim=12 \n",
    "input_length=11\n",
    "dec_units=16 \n",
    "att_units=16\n",
    "batch_size=32\n",
    "target_sentences=tf.random.uniform(shape=(batch_size,input_length),maxval=10,minval=0,dtype=tf.int32)\n",
    "encoder_output=tf.random.uniform(shape=[batch_size,input_length,dec_units])\n",
    "state_h=tf.random.uniform(shape=[batch_size,dec_units])\n",
    "\n",
    "decoder =Decoder(out_vocab_size, embedding_dim,dec_units , input_length, att_units,batch_size )\n",
    "output,alpha_values = decoder(target_sentences,encoder_output, state_h)\n",
    "print(\"Decoder Output=\",output.shape)\n",
    "print(\"Alpha Values=\",alpha_values.shape)"
   ]
  },
  {
   "cell_type": "markdown",
   "metadata": {},
   "source": [
    "### Grader Function 4 "
   ]
  },
  {
   "cell_type": "code",
   "execution_count": 25,
   "metadata": {},
   "outputs": [
    {
     "ename": "ValueError",
     "evalue": "invalid literal for int() with base 10: 'dot'",
     "output_type": "error",
     "traceback": [
      "\u001b[1;31m---------------------------------------------------------------------------\u001b[0m",
      "\u001b[1;31mValueError\u001b[0m                                Traceback (most recent call last)",
      "\u001b[1;32m<ipython-input-25-ca3f12bb002e>\u001b[0m in \u001b[0;36m<module>\u001b[1;34m\u001b[0m\n\u001b[0;32m     28\u001b[0m     \u001b[1;32massert\u001b[0m\u001b[1;33m(\u001b[0m\u001b[0moutput\u001b[0m\u001b[1;33m.\u001b[0m\u001b[0mshape\u001b[0m\u001b[1;33m==\u001b[0m\u001b[1;33m(\u001b[0m\u001b[0mbatch_size\u001b[0m\u001b[1;33m,\u001b[0m\u001b[0minput_length\u001b[0m\u001b[1;33m,\u001b[0m\u001b[0mout_vocab_size\u001b[0m\u001b[1;33m)\u001b[0m\u001b[1;33m)\u001b[0m\u001b[1;33m\u001b[0m\u001b[1;33m\u001b[0m\u001b[0m\n\u001b[0;32m     29\u001b[0m     \u001b[1;32mreturn\u001b[0m \u001b[1;32mTrue\u001b[0m\u001b[1;33m\u001b[0m\u001b[1;33m\u001b[0m\u001b[0m\n\u001b[1;32m---> 30\u001b[1;33m \u001b[0mprint\u001b[0m\u001b[1;33m(\u001b[0m\u001b[0mgrader_decoder\u001b[0m\u001b[1;33m(\u001b[0m\u001b[1;34m'dot'\u001b[0m\u001b[1;33m)\u001b[0m\u001b[1;33m)\u001b[0m\u001b[1;33m\u001b[0m\u001b[1;33m\u001b[0m\u001b[0m\n\u001b[0m\u001b[0;32m     31\u001b[0m \u001b[0mprint\u001b[0m\u001b[1;33m(\u001b[0m\u001b[0mgrader_decoder\u001b[0m\u001b[1;33m(\u001b[0m\u001b[1;34m'general'\u001b[0m\u001b[1;33m)\u001b[0m\u001b[1;33m)\u001b[0m\u001b[1;33m\u001b[0m\u001b[1;33m\u001b[0m\u001b[0m\n\u001b[0;32m     32\u001b[0m \u001b[0mprint\u001b[0m\u001b[1;33m(\u001b[0m\u001b[0mgrader_decoder\u001b[0m\u001b[1;33m(\u001b[0m\u001b[1;34m'concat'\u001b[0m\u001b[1;33m)\u001b[0m\u001b[1;33m)\u001b[0m\u001b[1;33m\u001b[0m\u001b[1;33m\u001b[0m\u001b[0m\n",
      "\u001b[1;32m<ipython-input-25-ca3f12bb002e>\u001b[0m in \u001b[0;36mgrader_decoder\u001b[1;34m(score_fun)\u001b[0m\n\u001b[0;32m     24\u001b[0m     \u001b[0mstate_c\u001b[0m\u001b[1;33m=\u001b[0m\u001b[0mtf\u001b[0m\u001b[1;33m.\u001b[0m\u001b[0mrandom\u001b[0m\u001b[1;33m.\u001b[0m\u001b[0muniform\u001b[0m\u001b[1;33m(\u001b[0m\u001b[0mshape\u001b[0m\u001b[1;33m=\u001b[0m\u001b[1;33m[\u001b[0m\u001b[0mbatch_size\u001b[0m\u001b[1;33m,\u001b[0m\u001b[0mdec_units\u001b[0m\u001b[1;33m]\u001b[0m\u001b[1;33m)\u001b[0m\u001b[1;33m\u001b[0m\u001b[1;33m\u001b[0m\u001b[0m\n\u001b[0;32m     25\u001b[0m \u001b[1;33m\u001b[0m\u001b[0m\n\u001b[1;32m---> 26\u001b[1;33m     \u001b[0mdecoder\u001b[0m\u001b[1;33m=\u001b[0m\u001b[0mDecoder\u001b[0m\u001b[1;33m(\u001b[0m\u001b[0mout_vocab_size\u001b[0m\u001b[1;33m,\u001b[0m \u001b[0membedding_dim\u001b[0m\u001b[1;33m,\u001b[0m \u001b[0minput_length\u001b[0m\u001b[1;33m,\u001b[0m \u001b[0mdec_units\u001b[0m \u001b[1;33m,\u001b[0m\u001b[0mscore_fun\u001b[0m \u001b[1;33m,\u001b[0m\u001b[0matt_units\u001b[0m\u001b[1;33m)\u001b[0m\u001b[1;33m\u001b[0m\u001b[1;33m\u001b[0m\u001b[0m\n\u001b[0m\u001b[0;32m     27\u001b[0m     \u001b[0moutput\u001b[0m\u001b[1;33m=\u001b[0m\u001b[0mdecoder\u001b[0m\u001b[1;33m(\u001b[0m\u001b[0mtarget_sentences\u001b[0m\u001b[1;33m,\u001b[0m\u001b[0mencoder_output\u001b[0m\u001b[1;33m,\u001b[0m \u001b[0mstate_h\u001b[0m\u001b[1;33m,\u001b[0m \u001b[0mstate_c\u001b[0m\u001b[1;33m)\u001b[0m\u001b[1;33m\u001b[0m\u001b[1;33m\u001b[0m\u001b[0m\n\u001b[0;32m     28\u001b[0m     \u001b[1;32massert\u001b[0m\u001b[1;33m(\u001b[0m\u001b[0moutput\u001b[0m\u001b[1;33m.\u001b[0m\u001b[0mshape\u001b[0m\u001b[1;33m==\u001b[0m\u001b[1;33m(\u001b[0m\u001b[0mbatch_size\u001b[0m\u001b[1;33m,\u001b[0m\u001b[0minput_length\u001b[0m\u001b[1;33m,\u001b[0m\u001b[0mout_vocab_size\u001b[0m\u001b[1;33m)\u001b[0m\u001b[1;33m)\u001b[0m\u001b[1;33m\u001b[0m\u001b[1;33m\u001b[0m\u001b[0m\n",
      "\u001b[1;32m<ipython-input-23-964c38301a48>\u001b[0m in \u001b[0;36m__init__\u001b[1;34m(self, vocab_size, emb_dims, dec_units, input_len, att_units, batch_size)\u001b[0m\n\u001b[0;32m      7\u001b[0m         \u001b[0mself\u001b[0m\u001b[1;33m.\u001b[0m\u001b[0minput_len\u001b[0m \u001b[1;33m=\u001b[0m \u001b[0minput_len\u001b[0m\u001b[1;33m\u001b[0m\u001b[1;33m\u001b[0m\u001b[0m\n\u001b[0;32m      8\u001b[0m         \u001b[1;31m# ONE STEP DECODER\u001b[0m\u001b[1;33m\u001b[0m\u001b[1;33m\u001b[0m\u001b[1;33m\u001b[0m\u001b[0m\n\u001b[1;32m----> 9\u001b[1;33m         \u001b[0mself\u001b[0m\u001b[1;33m.\u001b[0m\u001b[0monestepdecoder\u001b[0m \u001b[1;33m=\u001b[0m \u001b[0mOnestepdecoder\u001b[0m\u001b[1;33m(\u001b[0m\u001b[0mvocab_size\u001b[0m\u001b[1;33m,\u001b[0m\u001b[0memb_dims\u001b[0m\u001b[1;33m,\u001b[0m \u001b[0mdec_units\u001b[0m\u001b[1;33m,\u001b[0m \u001b[0minput_len\u001b[0m\u001b[1;33m,\u001b[0m\u001b[0matt_units\u001b[0m\u001b[1;33m,\u001b[0m\u001b[0mbatch_size\u001b[0m\u001b[1;33m)\u001b[0m\u001b[1;33m\u001b[0m\u001b[1;33m\u001b[0m\u001b[0m\n\u001b[0m\u001b[0;32m     10\u001b[0m \u001b[1;33m\u001b[0m\u001b[0m\n\u001b[0;32m     11\u001b[0m     \u001b[1;32mdef\u001b[0m \u001b[0mcall\u001b[0m\u001b[1;33m(\u001b[0m\u001b[0mself\u001b[0m\u001b[1;33m,\u001b[0m\u001b[0mdec_input\u001b[0m\u001b[1;33m,\u001b[0m\u001b[0menc_output\u001b[0m\u001b[1;33m,\u001b[0m\u001b[0mstate_h\u001b[0m\u001b[1;33m)\u001b[0m\u001b[1;33m:\u001b[0m\u001b[1;33m\u001b[0m\u001b[1;33m\u001b[0m\u001b[0m\n",
      "\u001b[1;32m<ipython-input-20-0747abbe9cd9>\u001b[0m in \u001b[0;36m__init__\u001b[1;34m(self, vocab_size, emb_dims, dec_units, input_len, att_units, batch_size)\u001b[0m\n\u001b[0;32m      8\u001b[0m         \u001b[0mself\u001b[0m\u001b[1;33m.\u001b[0m\u001b[0memb\u001b[0m \u001b[1;33m=\u001b[0m \u001b[0mlayers\u001b[0m\u001b[1;33m.\u001b[0m\u001b[0mEmbedding\u001b[0m\u001b[1;33m(\u001b[0m\u001b[0mvocab_size\u001b[0m\u001b[1;33m,\u001b[0m\u001b[0memb_dims\u001b[0m\u001b[1;33m,\u001b[0m\u001b[0minput_length\u001b[0m\u001b[1;33m=\u001b[0m \u001b[0minput_len\u001b[0m\u001b[1;33m)\u001b[0m\u001b[1;33m\u001b[0m\u001b[1;33m\u001b[0m\u001b[0m\n\u001b[0;32m      9\u001b[0m         \u001b[1;31m# ATTENTION LAYER\u001b[0m\u001b[1;33m\u001b[0m\u001b[1;33m\u001b[0m\u001b[1;33m\u001b[0m\u001b[0m\n\u001b[1;32m---> 10\u001b[1;33m         \u001b[0mself\u001b[0m\u001b[1;33m.\u001b[0m\u001b[0matt\u001b[0m \u001b[1;33m=\u001b[0m \u001b[0mAttention\u001b[0m\u001b[1;33m(\u001b[0m\u001b[0matt_units\u001b[0m\u001b[1;33m)\u001b[0m\u001b[1;33m\u001b[0m\u001b[1;33m\u001b[0m\u001b[0m\n\u001b[0m\u001b[0;32m     11\u001b[0m         \u001b[1;31m# LSTM LAYER\u001b[0m\u001b[1;33m\u001b[0m\u001b[1;33m\u001b[0m\u001b[1;33m\u001b[0m\u001b[0m\n\u001b[0;32m     12\u001b[0m         \u001b[0mself\u001b[0m\u001b[1;33m.\u001b[0m\u001b[0mlstm\u001b[0m \u001b[1;33m=\u001b[0m \u001b[0mlayers\u001b[0m\u001b[1;33m.\u001b[0m\u001b[0mLSTM\u001b[0m\u001b[1;33m(\u001b[0m\u001b[0mdec_units\u001b[0m\u001b[1;33m,\u001b[0m\u001b[0mreturn_sequences\u001b[0m\u001b[1;33m=\u001b[0m\u001b[1;32mTrue\u001b[0m\u001b[1;33m,\u001b[0m\u001b[0mreturn_state\u001b[0m\u001b[1;33m=\u001b[0m\u001b[1;32mTrue\u001b[0m\u001b[1;33m)\u001b[0m\u001b[1;33m\u001b[0m\u001b[1;33m\u001b[0m\u001b[0m\n",
      "\u001b[1;32m<ipython-input-17-b92afd74493c>\u001b[0m in \u001b[0;36m__init__\u001b[1;34m(self, units)\u001b[0m\n\u001b[0;32m      4\u001b[0m         \u001b[0msuper\u001b[0m\u001b[1;33m(\u001b[0m\u001b[1;33m)\u001b[0m\u001b[1;33m.\u001b[0m\u001b[0m__init__\u001b[0m\u001b[1;33m(\u001b[0m\u001b[1;33m)\u001b[0m\u001b[1;33m\u001b[0m\u001b[1;33m\u001b[0m\u001b[0m\n\u001b[0;32m      5\u001b[0m         \u001b[1;31m# INITIALIZING THE NUMBER OF UNITS IN ATTENTION MODEL\u001b[0m\u001b[1;33m\u001b[0m\u001b[1;33m\u001b[0m\u001b[1;33m\u001b[0m\u001b[0m\n\u001b[1;32m----> 6\u001b[1;33m         \u001b[0mself\u001b[0m\u001b[1;33m.\u001b[0m\u001b[0mdense\u001b[0m \u001b[1;33m=\u001b[0m \u001b[0mlayers\u001b[0m\u001b[1;33m.\u001b[0m\u001b[0mDense\u001b[0m\u001b[1;33m(\u001b[0m\u001b[0munits\u001b[0m\u001b[1;33m)\u001b[0m\u001b[1;33m\u001b[0m\u001b[1;33m\u001b[0m\u001b[0m\n\u001b[0m\u001b[0;32m      7\u001b[0m \u001b[1;33m\u001b[0m\u001b[0m\n\u001b[0;32m      8\u001b[0m     \u001b[1;32mdef\u001b[0m \u001b[0mcall\u001b[0m\u001b[1;33m(\u001b[0m\u001b[0mself\u001b[0m\u001b[1;33m,\u001b[0m\u001b[0menc_output\u001b[0m\u001b[1;33m,\u001b[0m\u001b[0mdec_state\u001b[0m\u001b[1;33m)\u001b[0m\u001b[1;33m:\u001b[0m\u001b[1;33m\u001b[0m\u001b[1;33m\u001b[0m\u001b[0m\n",
      "\u001b[1;32mC:\\ProgramData\\Anaconda3\\lib\\site-packages\\tensorflow_core\\python\\keras\\layers\\core.py\u001b[0m in \u001b[0;36m__init__\u001b[1;34m(self, units, activation, use_bias, kernel_initializer, bias_initializer, kernel_regularizer, bias_regularizer, activity_regularizer, kernel_constraint, bias_constraint, **kwargs)\u001b[0m\n\u001b[0;32m   1079\u001b[0m         activity_regularizer=regularizers.get(activity_regularizer), **kwargs)\n\u001b[0;32m   1080\u001b[0m \u001b[1;33m\u001b[0m\u001b[0m\n\u001b[1;32m-> 1081\u001b[1;33m     \u001b[0mself\u001b[0m\u001b[1;33m.\u001b[0m\u001b[0munits\u001b[0m \u001b[1;33m=\u001b[0m \u001b[0mint\u001b[0m\u001b[1;33m(\u001b[0m\u001b[0munits\u001b[0m\u001b[1;33m)\u001b[0m \u001b[1;32mif\u001b[0m \u001b[1;32mnot\u001b[0m \u001b[0misinstance\u001b[0m\u001b[1;33m(\u001b[0m\u001b[0munits\u001b[0m\u001b[1;33m,\u001b[0m \u001b[0mint\u001b[0m\u001b[1;33m)\u001b[0m \u001b[1;32melse\u001b[0m \u001b[0munits\u001b[0m\u001b[1;33m\u001b[0m\u001b[1;33m\u001b[0m\u001b[0m\n\u001b[0m\u001b[0;32m   1082\u001b[0m     \u001b[0mself\u001b[0m\u001b[1;33m.\u001b[0m\u001b[0mactivation\u001b[0m \u001b[1;33m=\u001b[0m \u001b[0mactivations\u001b[0m\u001b[1;33m.\u001b[0m\u001b[0mget\u001b[0m\u001b[1;33m(\u001b[0m\u001b[0mactivation\u001b[0m\u001b[1;33m)\u001b[0m\u001b[1;33m\u001b[0m\u001b[1;33m\u001b[0m\u001b[0m\n\u001b[0;32m   1083\u001b[0m     \u001b[0mself\u001b[0m\u001b[1;33m.\u001b[0m\u001b[0muse_bias\u001b[0m \u001b[1;33m=\u001b[0m \u001b[0muse_bias\u001b[0m\u001b[1;33m\u001b[0m\u001b[1;33m\u001b[0m\u001b[0m\n",
      "\u001b[1;31mValueError\u001b[0m: invalid literal for int() with base 10: 'dot'"
     ]
    }
   ],
   "source": [
    "def grader_decoder(score_fun):\n",
    "    \n",
    "    '''\n",
    "        out_vocab_size: Unique words of the target language,\n",
    "        embedding_dim: output embedding dimension for each word after embedding layer,\n",
    "        dec_units: Number of lstm units in decoder,\n",
    "        att_units: Used in matrix multiplications for scoring functions in attention class,\n",
    "        input_length: Length of the target sentence,\n",
    "        batch_size\n",
    "        \n",
    "    \n",
    "    '''\n",
    "    \n",
    "    out_vocab_size=13 \n",
    "    embedding_dim=12 \n",
    "    input_length=11\n",
    "    dec_units=16 \n",
    "    att_units=16\n",
    "    batch_size=32\n",
    "    \n",
    "    target_sentences=tf.random.uniform(shape=(batch_size,input_length),maxval=10,minval=0,dtype=tf.int32)\n",
    "    encoder_output=tf.random.uniform(shape=[batch_size,input_length,dec_units])\n",
    "    state_h=tf.random.uniform(shape=[batch_size,dec_units])\n",
    "    state_c=tf.random.uniform(shape=[batch_size,dec_units])\n",
    "    \n",
    "    decoder=Decoder(out_vocab_size, embedding_dim, input_length, dec_units ,score_fun ,att_units)\n",
    "    output=decoder(target_sentences,encoder_output, state_h, state_c)\n",
    "    assert(output.shape==(batch_size,input_length,out_vocab_size))\n",
    "    return True\n",
    "print(grader_decoder('dot'))\n",
    "print(grader_decoder('general'))\n",
    "print(grader_decoder('concat'))"
   ]
  },
  {
   "cell_type": "markdown",
   "metadata": {
    "id": "NxNfne9eeFHa"
   },
   "source": [
    "## Encoder Decoder "
   ]
  },
  {
   "cell_type": "code",
   "execution_count": 26,
   "metadata": {
    "executionInfo": {
     "elapsed": 14,
     "status": "ok",
     "timestamp": 1624281719156,
     "user": {
      "displayName": "PUSHAP GANDHI",
      "photoUrl": "https://lh3.googleusercontent.com/a-/AOh14GhtvSq40Q0iR7PAFnCqNljCvZEL0u3Jwy5L59EZTA=s64",
      "userId": "12599792132870778014"
     },
     "user_tz": -330
    },
    "id": "FDarCDN3vl-N"
   },
   "outputs": [],
   "source": [
    "class encoder_decoder(tf.keras.Model):\n",
    "    '''THIS MODEL COMBINES ALL THE LAYERS AND FORM IN ENCODER DECODER MODEL WITH ATTENTION MECHANISM'''\n",
    "    def __init__(self,enc_vocab_size,enc_emb_dim,enc_units,enc_input_length,\n",
    "             dec_vocab_size,dec_emb_dim,dec_units,dec_input_length ,att_units, batch_size):\n",
    "        # INITAILIZING ALL VARIABLES\n",
    "        super().__init__()\n",
    "        # BATCH SIZE\n",
    "        self.batch_size = batch_size\n",
    "        # INITIALIZING ENCODER LAYER\n",
    "        self.encoder = Encoder(enc_vocab_size, enc_emb_dim,enc_units, enc_input_length,batch_size)\n",
    "        # INITALIZING DECODER LAYER\n",
    "        self.decoder = Decoder(dec_vocab_size ,dec_emb_dim,dec_units,dec_input_length  ,att_units, batch_size)\n",
    "\n",
    "    def call(self,data):\n",
    "        # THE INPUT OF DATALOADER IS IN A LIST FORM FOR EACH BATCH IT GIVER TWO INPUTS\n",
    "        # INPUT1 IS FOR ENCODER\n",
    "        # INPUT2 IS FOR DECODER\n",
    "        inp1 , inp2 = data\n",
    "        # PASSING THE INPUT1 TO ENCODER LAYER\n",
    "        enc_output, enc_state_h, enc_state_c = self.encoder(inp1,self.encoder.initialize(self.batch_size))\n",
    "        # PASSING INPUT2 TO THE DECODER LAYER\n",
    "        dec_output , alphas = self.decoder(inp2 , enc_output,enc_state_h)\n",
    "        # THE OUTPUT OF MODEL IS ONLY DECODER OUTPUT THE ALPHA VALUES ARE IGNORED HERE\n",
    "        return dec_output\n",
    "\n"
   ]
  },
  {
   "cell_type": "code",
   "execution_count": 27,
   "metadata": {
    "colab": {
     "base_uri": "https://localhost:8080/"
    },
    "executionInfo": {
     "elapsed": 5,
     "status": "ok",
     "timestamp": 1624281722631,
     "user": {
      "displayName": "PUSHAP GANDHI",
      "photoUrl": "https://lh3.googleusercontent.com/a-/AOh14GhtvSq40Q0iR7PAFnCqNljCvZEL0u3Jwy5L59EZTA=s64",
      "userId": "12599792132870778014"
     },
     "user_tz": -330
    },
    "id": "rzua6_eJvl7H",
    "outputId": "60e0a676-569f-4cd4-88f8-a281b35c014b"
   },
   "outputs": [
    {
     "name": "stdout",
     "output_type": "stream",
     "text": [
      "MODEL OUPUT (32, 10, 13)\n"
     ]
    }
   ],
   "source": [
    "enc_vocab_size=13\n",
    "enc_emb_dim=12\n",
    "enc_units=16\n",
    "enc_input_length=10\n",
    "dec_vocab_size=13\n",
    "dec_emb_dim=12\n",
    "dec_units=16\n",
    "dec_input_length=10\n",
    "batch_size=32\n",
    "att_units=16\n",
    "\n",
    "e_d = encoder_decoder(enc_vocab_size,enc_emb_dim,enc_units,enc_input_length,\n",
    "                      dec_vocab_size,dec_emb_dim,dec_units,dec_input_length, att_units,batch_size)\n",
    "\n",
    "data1 = tf.random.uniform(shape=[batch_size , enc_input_length])\n",
    "data2 = tf.random.uniform(shape=[batch_size , dec_input_length])\n",
    "output = e_d([data1,data2])\n",
    "print(\"MODEL OUPUT\",output.shape)"
   ]
  },
  {
   "cell_type": "code",
   "execution_count": 31,
   "metadata": {
    "executionInfo": {
     "elapsed": 5,
     "status": "ok",
     "timestamp": 1624281724018,
     "user": {
      "displayName": "PUSHAP GANDHI",
      "photoUrl": "https://lh3.googleusercontent.com/a-/AOh14GhtvSq40Q0iR7PAFnCqNljCvZEL0u3Jwy5L59EZTA=s64",
      "userId": "12599792132870778014"
     },
     "user_tz": -330
    },
    "id": "77HfQogZ69ax"
   },
   "outputs": [],
   "source": [
    "# FORMING THE BATCHED DATASET FOR TRAIN DATA\n",
    "train_dataset = Dataset(train,tk_eng,tk_ita,20)\n",
    "train_dataloader = Dataloader( batch_size = 1000 , dataset=train_dataset)\n",
    "#FORMING THE BATCHED DATASET FOR TEST DATA\n",
    "val_dataset = Dataset(validation,tk_eng,tk_ita,20)\n",
    "val_dataloader = Dataloader(batch_size=1000,dataset=val_dataset)"
   ]
  },
  {
   "cell_type": "code",
   "execution_count": 32,
   "metadata": {
    "executionInfo": {
     "elapsed": 5,
     "status": "ok",
     "timestamp": 1624281726089,
     "user": {
      "displayName": "PUSHAP GANDHI",
      "photoUrl": "https://lh3.googleusercontent.com/a-/AOh14GhtvSq40Q0iR7PAFnCqNljCvZEL0u3Jwy5L59EZTA=s64",
      "userId": "12599792132870778014"
     },
     "user_tz": -330
    },
    "id": "8IOXnjkZ7A27"
   },
   "outputs": [],
   "source": [
    "# INITAILZING THE MODEL\n",
    "model = encoder_decoder(enc_vocab_size=len(tk_ita.word_index)+1,\n",
    "                         enc_emb_dim = 50,\n",
    "                         enc_units=512,enc_input_length=20,\n",
    "                         dec_vocab_size =len(tk_eng.word_index)+1,\n",
    "                         dec_emb_dim =50,\n",
    "                         dec_units=512,\n",
    "                         dec_input_length = 20,\n",
    "                         \n",
    "                         att_units=512,\n",
    "                         batch_size=1000)"
   ]
  },
  {
   "cell_type": "code",
   "execution_count": 33,
   "metadata": {
    "colab": {
     "base_uri": "https://localhost:8080/"
    },
    "executionInfo": {
     "elapsed": 10622575,
     "status": "ok",
     "timestamp": 1624292364191,
     "user": {
      "displayName": "PUSHAP GANDHI",
      "photoUrl": "https://lh3.googleusercontent.com/a-/AOh14GhtvSq40Q0iR7PAFnCqNljCvZEL0u3Jwy5L59EZTA=s64",
      "userId": "12599792132870778014"
     },
     "user_tz": -330
    },
    "id": "iYROJtdBFjOB",
    "outputId": "fa4f5a56-0f29-4479-adeb-6b7c42e25200"
   },
   "outputs": [
    {
     "name": "stdout",
     "output_type": "stream",
     "text": [
      "Epoch 1/50\n",
      "275/275 [==============================] - 232s 762ms/step - loss: 2.6612 - val_loss: 2.1309\n",
      "\n",
      "Epoch 00001: val_loss improved from inf to 2.13094, saving model to /content/drive/MyDrive/Colab Notebooks/ass-28/test_save3/best.h5\n",
      "Epoch 2/50\n",
      "275/275 [==============================] - 206s 748ms/step - loss: 1.9337 - val_loss: 1.7946\n",
      "\n",
      "Epoch 00002: val_loss improved from 2.13094 to 1.79456, saving model to /content/drive/MyDrive/Colab Notebooks/ass-28/test_save3/best.h5\n",
      "Epoch 3/50\n",
      "275/275 [==============================] - 204s 741ms/step - loss: 1.7366 - val_loss: 1.6869\n",
      "\n",
      "Epoch 00003: val_loss improved from 1.79456 to 1.68688, saving model to /content/drive/MyDrive/Colab Notebooks/ass-28/test_save3/best.h5\n",
      "Epoch 4/50\n",
      "275/275 [==============================] - 205s 743ms/step - loss: 1.6346 - val_loss: 1.5664\n",
      "\n",
      "Epoch 00004: val_loss improved from 1.68688 to 1.56640, saving model to /content/drive/MyDrive/Colab Notebooks/ass-28/test_save3/best.h5\n",
      "Epoch 5/50\n",
      "275/275 [==============================] - 205s 745ms/step - loss: 1.5195 - val_loss: 1.4711\n",
      "\n",
      "Epoch 00005: val_loss improved from 1.56640 to 1.47111, saving model to /content/drive/MyDrive/Colab Notebooks/ass-28/test_save3/best.h5\n",
      "Epoch 6/50\n",
      "275/275 [==============================] - 206s 748ms/step - loss: 1.4495 - val_loss: 1.4266\n",
      "\n",
      "Epoch 00006: val_loss improved from 1.47111 to 1.42665, saving model to /content/drive/MyDrive/Colab Notebooks/ass-28/test_save3/best.h5\n",
      "Epoch 7/50\n",
      "275/275 [==============================] - 208s 757ms/step - loss: 1.4102 - val_loss: 1.3784\n",
      "\n",
      "Epoch 00007: val_loss improved from 1.42665 to 1.37839, saving model to /content/drive/MyDrive/Colab Notebooks/ass-28/test_save3/best.h5\n",
      "Epoch 8/50\n",
      "275/275 [==============================] - 208s 758ms/step - loss: 1.3511 - val_loss: 1.3216\n",
      "\n",
      "Epoch 00008: val_loss improved from 1.37839 to 1.32164, saving model to /content/drive/MyDrive/Colab Notebooks/ass-28/test_save3/best.h5\n",
      "Epoch 9/50\n",
      "275/275 [==============================] - 209s 761ms/step - loss: 1.2943 - val_loss: 1.2581\n",
      "\n",
      "Epoch 00009: val_loss improved from 1.32164 to 1.25807, saving model to /content/drive/MyDrive/Colab Notebooks/ass-28/test_save3/best.h5\n",
      "Epoch 10/50\n",
      "275/275 [==============================] - 210s 763ms/step - loss: 1.2197 - val_loss: 1.1929\n",
      "\n",
      "Epoch 00010: val_loss improved from 1.25807 to 1.19286, saving model to /content/drive/MyDrive/Colab Notebooks/ass-28/test_save3/best.h5\n",
      "Epoch 11/50\n",
      "275/275 [==============================] - 210s 764ms/step - loss: 1.1603 - val_loss: 1.1435\n",
      "\n",
      "Epoch 00011: val_loss improved from 1.19286 to 1.14346, saving model to /content/drive/MyDrive/Colab Notebooks/ass-28/test_save3/best.h5\n",
      "Epoch 12/50\n",
      "275/275 [==============================] - 211s 766ms/step - loss: 1.1134 - val_loss: 1.1034\n",
      "\n",
      "Epoch 00012: val_loss improved from 1.14346 to 1.10337, saving model to /content/drive/MyDrive/Colab Notebooks/ass-28/test_save3/best.h5\n",
      "Epoch 13/50\n",
      "275/275 [==============================] - 210s 764ms/step - loss: 1.0639 - val_loss: 1.0462\n",
      "\n",
      "Epoch 00013: val_loss improved from 1.10337 to 1.04616, saving model to /content/drive/MyDrive/Colab Notebooks/ass-28/test_save3/best.h5\n",
      "Epoch 14/50\n",
      "275/275 [==============================] - 210s 765ms/step - loss: 1.0063 - val_loss: 0.9936\n",
      "\n",
      "Epoch 00014: val_loss improved from 1.04616 to 0.99359, saving model to /content/drive/MyDrive/Colab Notebooks/ass-28/test_save3/best.h5\n",
      "Epoch 15/50\n",
      "275/275 [==============================] - 211s 766ms/step - loss: 0.9578 - val_loss: 0.9617\n",
      "\n",
      "Epoch 00015: val_loss improved from 0.99359 to 0.96175, saving model to /content/drive/MyDrive/Colab Notebooks/ass-28/test_save3/best.h5\n",
      "Epoch 16/50\n",
      "275/275 [==============================] - 211s 766ms/step - loss: 0.9069 - val_loss: 0.9043\n",
      "\n",
      "Epoch 00016: val_loss improved from 0.96175 to 0.90428, saving model to /content/drive/MyDrive/Colab Notebooks/ass-28/test_save3/best.h5\n",
      "Epoch 17/50\n",
      "275/275 [==============================] - 211s 766ms/step - loss: 0.8638 - val_loss: 0.9025\n",
      "\n",
      "Epoch 00017: val_loss improved from 0.90428 to 0.90251, saving model to /content/drive/MyDrive/Colab Notebooks/ass-28/test_save3/best.h5\n",
      "Epoch 18/50\n",
      "275/275 [==============================] - 211s 767ms/step - loss: 0.8266 - val_loss: 0.8339\n",
      "\n",
      "Epoch 00018: val_loss improved from 0.90251 to 0.83395, saving model to /content/drive/MyDrive/Colab Notebooks/ass-28/test_save3/best.h5\n",
      "Epoch 19/50\n",
      "275/275 [==============================] - 211s 766ms/step - loss: 0.7708 - val_loss: 0.7792\n",
      "\n",
      "Epoch 00019: val_loss improved from 0.83395 to 0.77920, saving model to /content/drive/MyDrive/Colab Notebooks/ass-28/test_save3/best.h5\n",
      "Epoch 20/50\n",
      "275/275 [==============================] - 211s 767ms/step - loss: 0.7199 - val_loss: 0.7373\n",
      "\n",
      "Epoch 00020: val_loss improved from 0.77920 to 0.73728, saving model to /content/drive/MyDrive/Colab Notebooks/ass-28/test_save3/best.h5\n",
      "Epoch 21/50\n",
      "275/275 [==============================] - 211s 767ms/step - loss: 0.6716 - val_loss: 0.6983\n",
      "\n",
      "Epoch 00021: val_loss improved from 0.73728 to 0.69825, saving model to /content/drive/MyDrive/Colab Notebooks/ass-28/test_save3/best.h5\n",
      "Epoch 22/50\n",
      "275/275 [==============================] - 211s 767ms/step - loss: 0.6197 - val_loss: 0.6410\n",
      "\n",
      "Epoch 00022: val_loss improved from 0.69825 to 0.64105, saving model to /content/drive/MyDrive/Colab Notebooks/ass-28/test_save3/best.h5\n",
      "Epoch 23/50\n",
      "275/275 [==============================] - 211s 768ms/step - loss: 0.5750 - val_loss: 0.6032\n",
      "\n",
      "Epoch 00023: val_loss improved from 0.64105 to 0.60316, saving model to /content/drive/MyDrive/Colab Notebooks/ass-28/test_save3/best.h5\n",
      "Epoch 24/50\n",
      "275/275 [==============================] - 211s 768ms/step - loss: 0.5314 - val_loss: 0.5708\n",
      "\n",
      "Epoch 00024: val_loss improved from 0.60316 to 0.57083, saving model to /content/drive/MyDrive/Colab Notebooks/ass-28/test_save3/best.h5\n",
      "Epoch 25/50\n",
      "275/275 [==============================] - 211s 768ms/step - loss: 0.4937 - val_loss: 0.5354\n",
      "\n",
      "Epoch 00025: val_loss improved from 0.57083 to 0.53544, saving model to /content/drive/MyDrive/Colab Notebooks/ass-28/test_save3/best.h5\n",
      "Epoch 26/50\n",
      "275/275 [==============================] - 211s 768ms/step - loss: 0.4595 - val_loss: 0.5056\n",
      "\n",
      "Epoch 00026: val_loss improved from 0.53544 to 0.50565, saving model to /content/drive/MyDrive/Colab Notebooks/ass-28/test_save3/best.h5\n",
      "Epoch 27/50\n",
      "275/275 [==============================] - 211s 769ms/step - loss: 0.4269 - val_loss: 0.4820\n",
      "\n",
      "Epoch 00027: val_loss improved from 0.50565 to 0.48198, saving model to /content/drive/MyDrive/Colab Notebooks/ass-28/test_save3/best.h5\n",
      "Epoch 28/50\n",
      "275/275 [==============================] - 211s 769ms/step - loss: 0.3981 - val_loss: 0.4620\n",
      "\n",
      "Epoch 00028: val_loss improved from 0.48198 to 0.46205, saving model to /content/drive/MyDrive/Colab Notebooks/ass-28/test_save3/best.h5\n",
      "Epoch 29/50\n",
      "275/275 [==============================] - 211s 768ms/step - loss: 0.3738 - val_loss: 0.4376\n",
      "\n",
      "Epoch 00029: val_loss improved from 0.46205 to 0.43761, saving model to /content/drive/MyDrive/Colab Notebooks/ass-28/test_save3/best.h5\n",
      "Epoch 30/50\n",
      "275/275 [==============================] - 211s 769ms/step - loss: 0.3492 - val_loss: 0.4210\n",
      "\n",
      "Epoch 00030: val_loss improved from 0.43761 to 0.42099, saving model to /content/drive/MyDrive/Colab Notebooks/ass-28/test_save3/best.h5\n",
      "Epoch 31/50\n",
      "275/275 [==============================] - 211s 768ms/step - loss: 0.3365 - val_loss: 0.4065\n",
      "\n",
      "Epoch 00031: val_loss improved from 0.42099 to 0.40648, saving model to /content/drive/MyDrive/Colab Notebooks/ass-28/test_save3/best.h5\n",
      "Epoch 32/50\n",
      "275/275 [==============================] - 211s 768ms/step - loss: 0.3096 - val_loss: 0.3875\n",
      "\n",
      "Epoch 00032: val_loss improved from 0.40648 to 0.38747, saving model to /content/drive/MyDrive/Colab Notebooks/ass-28/test_save3/best.h5\n",
      "Epoch 33/50\n",
      "275/275 [==============================] - 211s 768ms/step - loss: 0.2920 - val_loss: 0.3773\n",
      "\n",
      "Epoch 00033: val_loss improved from 0.38747 to 0.37731, saving model to /content/drive/MyDrive/Colab Notebooks/ass-28/test_save3/best.h5\n",
      "Epoch 34/50\n",
      "275/275 [==============================] - 211s 768ms/step - loss: 0.2762 - val_loss: 0.3654\n",
      "\n",
      "Epoch 00034: val_loss improved from 0.37731 to 0.36540, saving model to /content/drive/MyDrive/Colab Notebooks/ass-28/test_save3/best.h5\n",
      "Epoch 35/50\n",
      "275/275 [==============================] - 211s 768ms/step - loss: 0.2606 - val_loss: 0.3537\n",
      "\n",
      "Epoch 00035: val_loss improved from 0.36540 to 0.35372, saving model to /content/drive/MyDrive/Colab Notebooks/ass-28/test_save3/best.h5\n",
      "Epoch 36/50\n",
      "275/275 [==============================] - 211s 768ms/step - loss: 0.2476 - val_loss: 0.3507\n",
      "\n",
      "Epoch 00036: val_loss improved from 0.35372 to 0.35066, saving model to /content/drive/MyDrive/Colab Notebooks/ass-28/test_save3/best.h5\n",
      "Epoch 37/50\n",
      "275/275 [==============================] - 211s 768ms/step - loss: 0.2370 - val_loss: 0.3366\n",
      "\n",
      "Epoch 00037: val_loss improved from 0.35066 to 0.33664, saving model to /content/drive/MyDrive/Colab Notebooks/ass-28/test_save3/best.h5\n",
      "Epoch 38/50\n",
      "275/275 [==============================] - 211s 768ms/step - loss: 0.2240 - val_loss: 0.3282\n",
      "\n",
      "Epoch 00038: val_loss improved from 0.33664 to 0.32821, saving model to /content/drive/MyDrive/Colab Notebooks/ass-28/test_save3/best.h5\n",
      "Epoch 39/50\n",
      "275/275 [==============================] - 211s 768ms/step - loss: 0.2153 - val_loss: 0.3225\n",
      "\n",
      "Epoch 00039: val_loss improved from 0.32821 to 0.32249, saving model to /content/drive/MyDrive/Colab Notebooks/ass-28/test_save3/best.h5\n",
      "Epoch 40/50\n",
      "275/275 [==============================] - 211s 768ms/step - loss: 0.2041 - val_loss: 0.3190\n",
      "\n",
      "Epoch 00040: val_loss improved from 0.32249 to 0.31899, saving model to /content/drive/MyDrive/Colab Notebooks/ass-28/test_save3/best.h5\n",
      "Epoch 41/50\n",
      "275/275 [==============================] - 212s 769ms/step - loss: 0.1971 - val_loss: 0.3159\n",
      "\n",
      "Epoch 00041: val_loss improved from 0.31899 to 0.31595, saving model to /content/drive/MyDrive/Colab Notebooks/ass-28/test_save3/best.h5\n",
      "Epoch 42/50\n",
      "275/275 [==============================] - 211s 768ms/step - loss: 0.1878 - val_loss: 0.3041\n",
      "\n",
      "Epoch 00042: val_loss improved from 0.31595 to 0.30414, saving model to /content/drive/MyDrive/Colab Notebooks/ass-28/test_save3/best.h5\n",
      "Epoch 43/50\n",
      "275/275 [==============================] - 212s 769ms/step - loss: 0.1878 - val_loss: 0.3773\n",
      "\n",
      "Epoch 00043: val_loss did not improve from 0.30414\n",
      "Epoch 44/50\n",
      "275/275 [==============================] - 211s 769ms/step - loss: 0.1799 - val_loss: 0.2951\n",
      "\n",
      "Epoch 00044: val_loss improved from 0.30414 to 0.29507, saving model to /content/drive/MyDrive/Colab Notebooks/ass-28/test_save3/best.h5\n",
      "Epoch 45/50\n",
      "275/275 [==============================] - 212s 769ms/step - loss: 0.1648 - val_loss: 0.2896\n",
      "\n",
      "Epoch 00045: val_loss improved from 0.29507 to 0.28960, saving model to /content/drive/MyDrive/Colab Notebooks/ass-28/test_save3/best.h5\n",
      "Epoch 46/50\n",
      "275/275 [==============================] - 212s 769ms/step - loss: 0.1595 - val_loss: 0.2886\n",
      "\n",
      "Epoch 00046: val_loss improved from 0.28960 to 0.28865, saving model to /content/drive/MyDrive/Colab Notebooks/ass-28/test_save3/best.h5\n",
      "Epoch 47/50\n",
      "275/275 [==============================] - 211s 769ms/step - loss: 0.1544 - val_loss: 0.2841\n",
      "\n",
      "Epoch 00047: val_loss improved from 0.28865 to 0.28413, saving model to /content/drive/MyDrive/Colab Notebooks/ass-28/test_save3/best.h5\n",
      "Epoch 48/50\n",
      "275/275 [==============================] - 211s 769ms/step - loss: 0.1467 - val_loss: 0.2823\n",
      "\n",
      "Epoch 00048: val_loss improved from 0.28413 to 0.28228, saving model to /content/drive/MyDrive/Colab Notebooks/ass-28/test_save3/best.h5\n",
      "Epoch 49/50\n",
      "275/275 [==============================] - 212s 769ms/step - loss: 0.1418 - val_loss: 0.2847\n",
      "\n",
      "Epoch 00049: val_loss did not improve from 0.28228\n",
      "Epoch 50/50\n",
      "275/275 [==============================] - 211s 768ms/step - loss: 0.1371 - val_loss: 0.2786\n",
      "\n",
      "Epoch 00050: val_loss improved from 0.28228 to 0.27859, saving model to /content/drive/MyDrive/Colab Notebooks/ass-28/test_save3/best.h5\n"
     ]
    },
    {
     "data": {
      "text/plain": [
       "<tensorflow.python.keras.callbacks.History at 0x7f94d00f3450>"
      ]
     },
     "execution_count": 33,
     "metadata": {
      "tags": []
     },
     "output_type": "execute_result"
    }
   ],
   "source": [
    "# TRAIN STEPS\n",
    "train_steps = train_dataloader.__len__()\n",
    "# VALIDATION STEPS\n",
    "val_steps  = val_dataloader.__len__()\n",
    "callback = [tf.keras.callbacks.ModelCheckpoint(\"/content/drive/MyDrive/Colab Notebooks/ass-28/test_save3/best.h5\",\"val_loss\",verbose=1,save_best_only=True,save_weights_only=True)\n",
    "            ]\n",
    "# COMPILIG THE MODEL WITH ADAM OPTIMIZER AND LOSS AS SPARSE CROSS ENROPY WITH LOGITS EQUAL TO TRUE\n",
    "model.compile(optimizer=\"adam\",loss=tf.keras.losses.SparseCategoricalCrossentropy(from_logits=True,reduction=\"none\" ))\n",
    "# FITTING THE MODEL\n",
    "model.fit(train_dataloader, steps_per_epoch=train_steps,epochs= 50,validation_data = val_dataloader,validation_steps =val_steps,callbacks=callback)"
   ]
  },
  {
   "cell_type": "code",
   "execution_count": null,
   "metadata": {
    "id": "JcukXvmNBrNB"
   },
   "outputs": [],
   "source": [
    "model.load_weights(\"/content/drive/MyDrive/Colab Notebooks/ass-28/test_save3/best.h5\")"
   ]
  },
  {
   "cell_type": "markdown",
   "metadata": {
    "id": "UYYpFTWpfENH"
   },
   "source": [
    "## Prediction"
   ]
  },
  {
   "cell_type": "code",
   "execution_count": 34,
   "metadata": {
    "executionInfo": {
     "elapsed": 10,
     "status": "ok",
     "timestamp": 1624292364644,
     "user": {
      "displayName": "PUSHAP GANDHI",
      "photoUrl": "https://lh3.googleusercontent.com/a-/AOh14GhtvSq40Q0iR7PAFnCqNljCvZEL0u3Jwy5L59EZTA=s64",
      "userId": "12599792132870778014"
     },
     "user_tz": -330
    },
    "id": "MhvVlZjs61iq"
   },
   "outputs": [],
   "source": [
    "def predict(ita_text,model):\n",
    "    '''THIS FUNCTION IS USED IN INFERENCE TIME WHICH GIVEN ANY SENTENCE IN ITALIAN OUTPUTS THE ENGLISH SENTENCE AND ALPHA VALUES'''\n",
    "    # FORMING TOKENIZED SEQUENCES FOR INPUT SENTENCE\n",
    "    seq = tk_ita.texts_to_sequences([ita_text])\n",
    "    # PADDING THE SEQUENCES\n",
    "    seq = pad_sequences(seq,maxlen = 20 , padding=\"post\")\n",
    "    # INITIALIZING THE STATES FOR INPUTING TO ENCODER\n",
    "    state = model.layers[0].initialize(1)\n",
    "    # GETTING THE ENCODED OUTPUT\n",
    "    enc_output,state_h,state_c= model.layers[0](seq,state)\n",
    "    # VARIABLE TO STORE PREDICTED SENTENCE\n",
    "    pred = []\n",
    "    # THIS VARIABLE STORES THE STATE TO BE INPUTED TO ONE STEP ENCODER\n",
    "    input_state_h = state_h\n",
    "    input_state_c = state_c\n",
    "    # THIS VARIABLE STORES THE VECTOR TO VE INPUTED TO ONE STEP ENCODER\n",
    "    current_vec = tf.ones((1,1))\n",
    "    # THIS VARIABLE WILL STORE ALL THE ALPHA VALUES OUTPUTS\n",
    "    alpha_values = []\n",
    "\n",
    "    for i in range(20):\n",
    "        # PASSING THE REQUIRED VARIABLE TO ONE STEP ENCODER LAYER\n",
    "        fc , dec_state_h , alphas = model.layers[1].layers[0](enc_output , current_vec ,input_state_h )\n",
    "        #APPENDING THE ALPHA VALUES TO THE LIST \"alpha_values\"\n",
    "        alpha_values.append(alphas)\n",
    "         # UPDATING THE CURRENT VECTOR \n",
    "        current_vec = np.argmax(fc , axis = -1)\n",
    "         # UPDATING THE INPUT STATE\n",
    "        input_state_h = dec_state_h\n",
    "        # GETTING THE ACTUAL WORDS FRO THE TOKENIZED INDEXES\n",
    "        pred.append(tk_eng.index_word[current_vec[0][0]])\n",
    "        # IF THE WORD \"<end>\" COMES THE LOOP WILL BREAK\n",
    "        if tk_eng.index_word[current_vec[0][0]]==\"<end>\":\n",
    "              break\n",
    "    # JOINING THE PREDICTED WORDS\n",
    "    pred_sent = \" \".join(pred)\n",
    "    # CONCATINATING ALL THE ALPHA VALUES\n",
    "    alpha_values = tf.squeeze(tf.concat(alpha_values,axis=-1),axis=0)\n",
    "    # RETURNING THE PREDICTED SENTENCE AND ALPHA VALUES\n",
    "    return  pred_sent , alpha_values"
   ]
  },
  {
   "cell_type": "code",
   "execution_count": 36,
   "metadata": {
    "executionInfo": {
     "elapsed": 3,
     "status": "ok",
     "timestamp": 1624292369112,
     "user": {
      "displayName": "PUSHAP GANDHI",
      "photoUrl": "https://lh3.googleusercontent.com/a-/AOh14GhtvSq40Q0iR7PAFnCqNljCvZEL0u3Jwy5L59EZTA=s64",
      "userId": "12599792132870778014"
     },
     "user_tz": -330
    },
    "id": "zSDmS-a_SW1g"
   },
   "outputs": [],
   "source": [
    "import seaborn as sns\n",
    "import matplotlib.pyplot as plt\n",
    "def plot( input_sent , output_sent , alpha ) :\n",
    "    input_words = input_sent.split() # SPLITTING THE INPUT SENTENCE\n",
    "    output_words = output_sent.split() # SPLITTING THE OUTPUT SENTENCE\n",
    "\n",
    "    fig, ax = plt.subplots()\n",
    "    sns.set_style(\"darkgrid\")\n",
    "    # HEAT MAP WITH ALPHA VALURS \n",
    "    # X LABELS ARE THE OUTPUT WORDS \n",
    "    # T LABELS ARE THE INPUT WORDS\n",
    "    sns.heatmap(alpha, xticklabels= output_words , yticklabels=input_words,linewidths=0.01)\n",
    "    # PLACING THE TICKS ON  THE TOP\n",
    "    ax.xaxis.tick_top( ) \n",
    "    plt.show()"
   ]
  },
  {
   "cell_type": "markdown",
   "metadata": {},
   "source": [
    "### Predicting Some Random Results"
   ]
  },
  {
   "cell_type": "code",
   "execution_count": 37,
   "metadata": {
    "colab": {
     "base_uri": "https://localhost:8080/",
     "height": 339
    },
    "executionInfo": {
     "elapsed": 1034,
     "status": "ok",
     "timestamp": 1624292370976,
     "user": {
      "displayName": "PUSHAP GANDHI",
      "photoUrl": "https://lh3.googleusercontent.com/a-/AOh14GhtvSq40Q0iR7PAFnCqNljCvZEL0u3Jwy5L59EZTA=s64",
      "userId": "12599792132870778014"
     },
     "user_tz": -330
    },
    "id": "UYiSI5aBgV6H",
    "outputId": "894523cc-dddf-487d-b1b4-39435c085f82"
   },
   "outputs": [
    {
     "name": "stdout",
     "output_type": "stream",
     "text": [
      "Input=> io aprii tutte le mie valigie\n",
      "Predicted=> i opened the suitcases is mine <end>\n",
      "Actual=> i opened all my suitcases <end>\n",
      "==================================================\n"
     ]
    },
    {
     "data": {
      "image/png": "[encoded data removed]",
      "text/plain": [
       "<Figure size 432x288 with 2 Axes>"
      ]
     },
     "metadata": {
      "needs_background": "light",
      "tags": []
     },
     "output_type": "display_data"
    }
   ],
   "source": [
    "random = np.random.randint(0,2000,1)[0]\n",
    "print(\"Input=>\",validation.italian.values[random])\n",
    "print(\"Predicted=>\", predict( validation.italian.values[random] , model)[0])\n",
    "print(\"Actual=>\",validation.english_out.values[random])\n",
    "print(\"=\"*50)\n",
    "plot( validation.italian.values[random] , predict( validation.italian.values[random] , model)[0], predict( validation.italian.values[random] , model)[1] )"
   ]
  },
  {
   "cell_type": "code",
   "execution_count": 38,
   "metadata": {
    "colab": {
     "base_uri": "https://localhost:8080/",
     "height": 339
    },
    "executionInfo": {
     "elapsed": 724,
     "status": "ok",
     "timestamp": 1624292382577,
     "user": {
      "displayName": "PUSHAP GANDHI",
      "photoUrl": "https://lh3.googleusercontent.com/a-/AOh14GhtvSq40Q0iR7PAFnCqNljCvZEL0u3Jwy5L59EZTA=s64",
      "userId": "12599792132870778014"
     },
     "user_tz": -330
    },
    "id": "SxrPxC8aqasD",
    "outputId": "cdfd1d22-cdea-4bca-bd54-01a5947691d2"
   },
   "outputs": [
    {
     "name": "stdout",
     "output_type": "stream",
     "text": [
      "Input=> noi speriamo che tom non lo rifaccia\n",
      "Predicted=> we hope tom will not do that <end>\n",
      "Actual=> we hope tom does not do that again <end>\n",
      "==================================================\n"
     ]
    },
    {
     "data": {
      "image/png": "[encoded data removed]",
      "text/plain": [
       "<Figure size 432x288 with 2 Axes>"
      ]
     },
     "metadata": {
      "tags": []
     },
     "output_type": "display_data"
    }
   ],
   "source": [
    "random = np.random.randint(0,2000,1)[0]\n",
    "print(\"Input=>\",validation.italian.values[random])\n",
    "print(\"Predicted=>\", predict( validation.italian.values[random] , model)[0])\n",
    "print(\"Actual=>\",validation.english_out.values[random])\n",
    "print(\"=\"*50)\n",
    "plot( validation.italian.values[random] , predict( validation.italian.values[random] , model)[0], predict( validation.italian.values[random] , model)[1] )"
   ]
  },
  {
   "cell_type": "code",
   "execution_count": 39,
   "metadata": {
    "colab": {
     "base_uri": "https://localhost:8080/",
     "height": 339
    },
    "executionInfo": {
     "elapsed": 1670,
     "status": "ok",
     "timestamp": 1624292392203,
     "user": {
      "displayName": "PUSHAP GANDHI",
      "photoUrl": "https://lh3.googleusercontent.com/a-/AOh14GhtvSq40Q0iR7PAFnCqNljCvZEL0u3Jwy5L59EZTA=s64",
      "userId": "12599792132870778014"
     },
     "user_tz": -330
    },
    "id": "X3d6dhUYqavP",
    "outputId": "9fe9db6a-8a51-4846-fb7f-458ca9f9851d"
   },
   "outputs": [
    {
     "name": "stdout",
     "output_type": "stream",
     "text": [
      "Input=> vuole sapere dove ha fatto il suo errore\n",
      "Predicted=> do you want to know who made the mistakes <end>\n",
      "Actual=> do you want to know where you made your mistake <end>\n",
      "==================================================\n"
     ]
    },
    {
     "data": {
      "image/png": "[encoded data removed]",
      "text/plain": [
       "<Figure size 432x288 with 2 Axes>"
      ]
     },
     "metadata": {
      "tags": []
     },
     "output_type": "display_data"
    }
   ],
   "source": [
    "random = np.random.randint(0,2000,1)[0]\n",
    "print(\"Input=>\",validation.italian.values[random])\n",
    "print(\"Predicted=>\", predict( validation.italian.values[random] , model)[0])\n",
    "print(\"Actual=>\",validation.english_out.values[random])\n",
    "print(\"=\"*50)\n",
    "plot( validation.italian.values[random] , predict( validation.italian.values[random] , model)[0], predict( validation.italian.values[random] , model)[1] )"
   ]
  },
  {
   "cell_type": "code",
   "execution_count": 40,
   "metadata": {
    "colab": {
     "base_uri": "https://localhost:8080/",
     "height": 339
    },
    "executionInfo": {
     "elapsed": 776,
     "status": "ok",
     "timestamp": 1624292403623,
     "user": {
      "displayName": "PUSHAP GANDHI",
      "photoUrl": "https://lh3.googleusercontent.com/a-/AOh14GhtvSq40Q0iR7PAFnCqNljCvZEL0u3Jwy5L59EZTA=s64",
      "userId": "12599792132870778014"
     },
     "user_tz": -330
    },
    "id": "w4S1EySNqaxr",
    "outputId": "badacb6b-b9eb-4668-d5a7-181f65aebc0a"
   },
   "outputs": [
    {
     "name": "stdout",
     "output_type": "stream",
     "text": [
      "Input=> tom non spos mary\n",
      "Predicted=> tom has not married mary <end>\n",
      "Actual=> tom did not marry mary <end>\n",
      "==================================================\n"
     ]
    },
    {
     "data": {
      "image/png": "[encoded data removed]",
      "text/plain": [
       "<Figure size 432x288 with 2 Axes>"
      ]
     },
     "metadata": {
      "tags": []
     },
     "output_type": "display_data"
    }
   ],
   "source": [
    "random = np.random.randint(0,2000,1)[0]\n",
    "print(\"Input=>\",validation.italian.values[random])\n",
    "print(\"Predicted=>\", predict( validation.italian.values[random] , model)[0])\n",
    "print(\"Actual=>\",validation.english_out.values[random])\n",
    "print(\"=\"*50)\n",
    "plot( validation.italian.values[random] , predict( validation.italian.values[random] , model)[0], predict( validation.italian.values[random] , model)[1] )"
   ]
  },
  {
   "cell_type": "code",
   "execution_count": 41,
   "metadata": {
    "colab": {
     "base_uri": "https://localhost:8080/",
     "height": 339
    },
    "executionInfo": {
     "elapsed": 817,
     "status": "ok",
     "timestamp": 1624292409688,
     "user": {
      "displayName": "PUSHAP GANDHI",
      "photoUrl": "https://lh3.googleusercontent.com/a-/AOh14GhtvSq40Q0iR7PAFnCqNljCvZEL0u3Jwy5L59EZTA=s64",
      "userId": "12599792132870778014"
     },
     "user_tz": -330
    },
    "id": "5bWZBYGaKHet",
    "outputId": "26477938-d02c-489e-b742-61204cf696fb"
   },
   "outputs": [
    {
     "name": "stdout",
     "output_type": "stream",
     "text": [
      "Input=> tom ha una famiglia ora\n",
      "Predicted=> tom has a family now <end>\n",
      "Actual=> tom has a family now <end>\n",
      "==================================================\n"
     ]
    },
    {
     "data": {
      "image/png": "[encoded data removed]",
      "text/plain": [
       "<Figure size 432x288 with 2 Axes>"
      ]
     },
     "metadata": {
      "tags": []
     },
     "output_type": "display_data"
    }
   ],
   "source": [
    "random = np.random.randint(0,2000,1)[0]\n",
    "print(\"Input=>\",validation.italian.values[random])\n",
    "print(\"Predicted=>\", predict( validation.italian.values[random] , model)[0])\n",
    "print(\"Actual=>\",validation.english_out.values[random])\n",
    "print(\"=\"*50)\n",
    "plot( validation.italian.values[random] , predict( validation.italian.values[random] , model)[0], predict( validation.italian.values[random] , model)[1] )"
   ]
  },
  {
   "cell_type": "code",
   "execution_count": 42,
   "metadata": {
    "colab": {
     "base_uri": "https://localhost:8080/",
     "height": 339
    },
    "executionInfo": {
     "elapsed": 574,
     "status": "ok",
     "timestamp": 1624292414718,
     "user": {
      "displayName": "PUSHAP GANDHI",
      "photoUrl": "https://lh3.googleusercontent.com/a-/AOh14GhtvSq40Q0iR7PAFnCqNljCvZEL0u3Jwy5L59EZTA=s64",
      "userId": "12599792132870778014"
     },
     "user_tz": -330
    },
    "id": "SpO6OjjIKHb3",
    "outputId": "7be09fe1-f21b-4f99-b8f1-48d5e36ff181"
   },
   "outputs": [
    {
     "name": "stdout",
     "output_type": "stream",
     "text": [
      "Input=> lei  favorevole o contrario al mio piano\n",
      "Predicted=> are you for or against my plan <end>\n",
      "Actual=> are you for or against my plan <end>\n",
      "==================================================\n"
     ]
    },
    {
     "data": {
      "image/png": "[encoded data removed]",
      "text/plain": [
       "<Figure size 432x288 with 2 Axes>"
      ]
     },
     "metadata": {
      "tags": []
     },
     "output_type": "display_data"
    }
   ],
   "source": [
    "random = np.random.randint(0,2000,1)[0]\n",
    "print(\"Input=>\",validation.italian.values[random])\n",
    "print(\"Predicted=>\", predict( validation.italian.values[random] , model)[0])\n",
    "print(\"Actual=>\",validation.english_out.values[random])\n",
    "print(\"=\"*50)\n",
    "plot( validation.italian.values[random] , predict( validation.italian.values[random] , model)[0], predict( validation.italian.values[random] , model)[1] )"
   ]
  },
  {
   "cell_type": "markdown",
   "metadata": {
    "id": "8KqT17-RfPnm"
   },
   "source": [
    "## BLEU Score for General Model"
   ]
  },
  {
   "cell_type": "code",
   "execution_count": 43,
   "metadata": {
    "executionInfo": {
     "elapsed": 718,
     "status": "ok",
     "timestamp": 1624292419955,
     "user": {
      "displayName": "PUSHAP GANDHI",
      "photoUrl": "https://lh3.googleusercontent.com/a-/AOh14GhtvSq40Q0iR7PAFnCqNljCvZEL0u3Jwy5L59EZTA=s64",
      "userId": "12599792132870778014"
     },
     "user_tz": -330
    },
    "id": "WMZCpmgxWhZM"
   },
   "outputs": [],
   "source": [
    "import nltk.translate.bleu_score as bleu\n",
    "from tqdm import tqdm\n",
    "import warnings\n",
    "warnings.filterwarnings('ignore')"
   ]
  },
  {
   "cell_type": "code",
   "execution_count": 44,
   "metadata": {
    "colab": {
     "base_uri": "https://localhost:8080/"
    },
    "executionInfo": {
     "elapsed": 51128,
     "status": "ok",
     "timestamp": 1624292473243,
     "user": {
      "displayName": "PUSHAP GANDHI",
      "photoUrl": "https://lh3.googleusercontent.com/a-/AOh14GhtvSq40Q0iR7PAFnCqNljCvZEL0u3Jwy5L59EZTA=s64",
      "userId": "12599792132870778014"
     },
     "user_tz": -330
    },
    "id": "hQsoqlv_WhSm",
    "outputId": "abdbc0bc-20f7-4e94-bddb-0ccfb353f056"
   },
   "outputs": [
    {
     "name": "stderr",
     "output_type": "stream",
     "text": [
      "1000it [00:50, 19.64it/s]"
     ]
    },
    {
     "name": "stdout",
     "output_type": "stream",
     "text": [
      "BLEU DOT Score =  0.8371551298739571\n"
     ]
    },
    {
     "name": "stderr",
     "output_type": "stream",
     "text": [
      "\n"
     ]
    }
   ],
   "source": [
    "BLEU = []\n",
    "\n",
    "test_data = validation.loc[np.random.choice(validation.index,size = 1000)][[\"italian\",\"english_out\"]]\n",
    "for ind,i in tqdm(test_data.iterrows()):\n",
    "    pred = predict(i.italian , model)[0]\n",
    "    act = i.english_out\n",
    "    b =bleu.sentence_bleu(act,pred)\n",
    "    BLEU.append(b)\n",
    "\n",
    "print(\"BLEU DOT Score = \",np.mean(BLEU))"
   ]
  },
  {
   "cell_type": "code",
   "execution_count": null,
   "metadata": {
    "id": "ojSU1PdvROub"
   },
   "outputs": [],
   "source": []
  }
 ],
 "metadata": {
  "accelerator": "GPU",
  "colab": {
   "collapsed_sections": [],
   "name": "Final_General_model.ipynb",
   "provenance": []
  },
  "kernelspec": {
   "display_name": "Python 3",
   "language": "python",
   "name": "python3"
  },
  "language_info": {
   "codemirror_mode": {
    "name": "ipython",
    "version": 3
   },
   "file_extension": ".py",
   "mimetype": "text/x-python",
   "name": "python",
   "nbconvert_exporter": "python",
   "pygments_lexer": "ipython3",
   "version": "3.7.6"
  }
 },
 "nbformat": 4,
 "nbformat_minor": 1
}
