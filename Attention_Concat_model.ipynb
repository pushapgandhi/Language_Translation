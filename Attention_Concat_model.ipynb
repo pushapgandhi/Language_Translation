{
 "cells": [
  {
   "cell_type": "markdown",
   "metadata": {},
   "source": [
    "# Concat Attention Model"
   ]
  },
  {
   "cell_type": "code",
   "execution_count": 1,
   "metadata": {
    "colab": {
     "base_uri": "https://localhost:8080/"
    },
    "executionInfo": {
     "elapsed": 32463,
     "status": "ok",
     "timestamp": 1624269803385,
     "user": {
      "displayName": "Namnesh Goyal",
      "photoUrl": "",
      "userId": "04336517495820410220"
     },
     "user_tz": -330
    },
    "id": "A0VvDFUbCiSy",
    "outputId": "0e3bb545-5805-4b43-d710-70d7fe690123"
   },
   "outputs": [
    {
     "name": "stdout",
     "output_type": "stream",
     "text": [
      "Mounted at /content/drive\n"
     ]
    }
   ],
   "source": [
    "from google.colab import drive\n",
    "drive.mount('/content/drive')"
   ]
  },
  {
   "cell_type": "code",
   "execution_count": 1,
   "metadata": {
    "executionInfo": {
     "elapsed": 1718,
     "status": "ok",
     "timestamp": 1624269805099,
     "user": {
      "displayName": "Namnesh Goyal",
      "photoUrl": "",
      "userId": "04336517495820410220"
     },
     "user_tz": -330
    },
    "id": "uiSey5qICuQu"
   },
   "outputs": [],
   "source": [
    "import pandas as pd\n",
    "import numpy as np\n",
    "import tensorflow as tf\n",
    "import re"
   ]
  },
  {
   "cell_type": "markdown",
   "metadata": {
    "id": "Dt9mf6bQdRPY"
   },
   "source": [
    "## Loading the Data"
   ]
  },
  {
   "cell_type": "code",
   "execution_count": 3,
   "metadata": {
    "colab": {
     "base_uri": "https://localhost:8080/",
     "height": 419
    },
    "executionInfo": {
     "elapsed": 3222,
     "status": "ok",
     "timestamp": 1624269808317,
     "user": {
      "displayName": "Namnesh Goyal",
      "photoUrl": "",
      "userId": "04336517495820410220"
     },
     "user_tz": -330
    },
    "id": "GECop4Q-C3uX",
    "outputId": "da74be02-ba89-4e2d-ae2e-00ecf89dba65"
   },
   "outputs": [
    {
     "data": {
      "text/html": [
       "<div>\n",
       "<style scoped>\n",
       "    .dataframe tbody tr th:only-of-type {\n",
       "        vertical-align: middle;\n",
       "    }\n",
       "\n",
       "    .dataframe tbody tr th {\n",
       "        vertical-align: top;\n",
       "    }\n",
       "\n",
       "    .dataframe thead th {\n",
       "        text-align: right;\n",
       "    }\n",
       "</style>\n",
       "<table border=\"1\" class=\"dataframe\">\n",
       "  <thead>\n",
       "    <tr style=\"text-align: right;\">\n",
       "      <th></th>\n",
       "      <th>english</th>\n",
       "      <th>italian</th>\n",
       "    </tr>\n",
       "  </thead>\n",
       "  <tbody>\n",
       "    <tr>\n",
       "      <th>0</th>\n",
       "      <td>Hi.</td>\n",
       "      <td>Ciao!</td>\n",
       "    </tr>\n",
       "    <tr>\n",
       "      <th>1</th>\n",
       "      <td>Run!</td>\n",
       "      <td>Corri!</td>\n",
       "    </tr>\n",
       "    <tr>\n",
       "      <th>2</th>\n",
       "      <td>Run!</td>\n",
       "      <td>Corra!</td>\n",
       "    </tr>\n",
       "    <tr>\n",
       "      <th>3</th>\n",
       "      <td>Run!</td>\n",
       "      <td>Correte!</td>\n",
       "    </tr>\n",
       "    <tr>\n",
       "      <th>4</th>\n",
       "      <td>Who?</td>\n",
       "      <td>Chi?</td>\n",
       "    </tr>\n",
       "    <tr>\n",
       "      <th>...</th>\n",
       "      <td>...</td>\n",
       "      <td>...</td>\n",
       "    </tr>\n",
       "    <tr>\n",
       "      <th>345239</th>\n",
       "      <td>If you want to sound like a native speaker, yo...</td>\n",
       "      <td>Se vuoi sembrare un madrelingua, devi essere d...</td>\n",
       "    </tr>\n",
       "    <tr>\n",
       "      <th>345240</th>\n",
       "      <td>If you want to sound like a native speaker, yo...</td>\n",
       "      <td>Se vuoi sembrare un madrelingua, devi essere d...</td>\n",
       "    </tr>\n",
       "    <tr>\n",
       "      <th>345241</th>\n",
       "      <td>If someone who doesn't know your background sa...</td>\n",
       "      <td>Se qualcuno che non conosce il tuo background ...</td>\n",
       "    </tr>\n",
       "    <tr>\n",
       "      <th>345242</th>\n",
       "      <td>Doubtless there exists in this world precisely...</td>\n",
       "      <td>Senza dubbio esiste in questo mondo proprio la...</td>\n",
       "    </tr>\n",
       "    <tr>\n",
       "      <th>345243</th>\n",
       "      <td>Doubtless there exists in this world precisely...</td>\n",
       "      <td>Senza dubbio esiste in questo mondo proprio la...</td>\n",
       "    </tr>\n",
       "  </tbody>\n",
       "</table>\n",
       "<p>345244 rows × 2 columns</p>\n",
       "</div>"
      ],
      "text/plain": [
       "                                                  english                                            italian\n",
       "0                                                     Hi.                                              Ciao!\n",
       "1                                                    Run!                                             Corri!\n",
       "2                                                    Run!                                             Corra!\n",
       "3                                                    Run!                                           Correte!\n",
       "4                                                    Who?                                               Chi?\n",
       "...                                                   ...                                                ...\n",
       "345239  If you want to sound like a native speaker, yo...  Se vuoi sembrare un madrelingua, devi essere d...\n",
       "345240  If you want to sound like a native speaker, yo...  Se vuoi sembrare un madrelingua, devi essere d...\n",
       "345241  If someone who doesn't know your background sa...  Se qualcuno che non conosce il tuo background ...\n",
       "345242  Doubtless there exists in this world precisely...  Senza dubbio esiste in questo mondo proprio la...\n",
       "345243  Doubtless there exists in this world precisely...  Senza dubbio esiste in questo mondo proprio la...\n",
       "\n",
       "[345244 rows x 2 columns]"
      ]
     },
     "execution_count": 3,
     "metadata": {
      "tags": []
     },
     "output_type": "execute_result"
    }
   ],
   "source": [
    "df = pd.read_csv('/content/drive/MyDrive/Colab Notebooks/ass-28/ita.txt', delimiter = \"\\t\",names = [\"english\",\"italian\",\"z\"]).drop(\"z\",axis=1)\n",
    "df"
   ]
  },
  {
   "cell_type": "markdown",
   "metadata": {
    "id": "7E6byhi8dYMB"
   },
   "source": [
    "## Preprocess Data"
   ]
  },
  {
   "cell_type": "code",
   "execution_count": 4,
   "metadata": {
    "executionInfo": {
     "elapsed": 12,
     "status": "ok",
     "timestamp": 1624269808318,
     "user": {
      "displayName": "Namnesh Goyal",
      "photoUrl": "",
      "userId": "04336517495820410220"
     },
     "user_tz": -330
    },
    "id": "wts_LAoHC3xd"
   },
   "outputs": [],
   "source": [
    "def decontracted(phrase):\n",
    "    # specific\n",
    "    phrase = re.sub(r\"won\\'t\", \"will not\", phrase)\n",
    "    phrase = re.sub(r\"can\\'t\", \"can not\", phrase)\n",
    "\n",
    "    # general\n",
    "    phrase = re.sub(r\"n\\'t\", \" not\", phrase)\n",
    "    phrase = re.sub(r\"\\'re\", \" are\", phrase)\n",
    "    phrase = re.sub(r\"\\'s\", \" is\", phrase)\n",
    "    phrase = re.sub(r\"\\'d\", \" would\", phrase)\n",
    "    phrase = re.sub(r\"\\'ll\", \" will\", phrase)\n",
    "    phrase = re.sub(r\"\\'t\", \" not\", phrase)\n",
    "    phrase = re.sub(r\"\\'ve\", \" have\", phrase)\n",
    "    phrase = re.sub(r\"\\'m\", \" am\", phrase)\n",
    "    return phrase\n",
    "def preprocessor(text):\n",
    "    text = text.lower()\n",
    "    text = decontracted(text)\n",
    "    text = re.sub(\"[^A-Za-z0-9 ]+\",'',text)\n",
    "    return text\n",
    "def preprocessor_ita(text):\n",
    "    text = text.lower()\n",
    "    text = decontracted(text)\n",
    "    text = re.sub(\"[^A-Za-z0-9 ]+\",'',text)\n",
    "    return text\n"
   ]
  },
  {
   "cell_type": "code",
   "execution_count": 5,
   "metadata": {
    "colab": {
     "base_uri": "https://localhost:8080/",
     "height": 419
    },
    "executionInfo": {
     "elapsed": 9186,
     "status": "ok",
     "timestamp": 1624269817495,
     "user": {
      "displayName": "Namnesh Goyal",
      "photoUrl": "",
      "userId": "04336517495820410220"
     },
     "user_tz": -330
    },
    "id": "fBrkwooSC30V",
    "outputId": "12f6ac86-9a74-4910-916b-1e8363a6b551",
    "scrolled": true
   },
   "outputs": [
    {
     "data": {
      "text/html": [
       "<div>\n",
       "<style scoped>\n",
       "    .dataframe tbody tr th:only-of-type {\n",
       "        vertical-align: middle;\n",
       "    }\n",
       "\n",
       "    .dataframe tbody tr th {\n",
       "        vertical-align: top;\n",
       "    }\n",
       "\n",
       "    .dataframe thead th {\n",
       "        text-align: right;\n",
       "    }\n",
       "</style>\n",
       "<table border=\"1\" class=\"dataframe\">\n",
       "  <thead>\n",
       "    <tr style=\"text-align: right;\">\n",
       "      <th></th>\n",
       "      <th>english</th>\n",
       "      <th>italian</th>\n",
       "    </tr>\n",
       "  </thead>\n",
       "  <tbody>\n",
       "    <tr>\n",
       "      <th>0</th>\n",
       "      <td>hi</td>\n",
       "      <td>ciao</td>\n",
       "    </tr>\n",
       "    <tr>\n",
       "      <th>1</th>\n",
       "      <td>run</td>\n",
       "      <td>corri</td>\n",
       "    </tr>\n",
       "    <tr>\n",
       "      <th>2</th>\n",
       "      <td>run</td>\n",
       "      <td>corra</td>\n",
       "    </tr>\n",
       "    <tr>\n",
       "      <th>3</th>\n",
       "      <td>run</td>\n",
       "      <td>correte</td>\n",
       "    </tr>\n",
       "    <tr>\n",
       "      <th>4</th>\n",
       "      <td>who</td>\n",
       "      <td>chi</td>\n",
       "    </tr>\n",
       "    <tr>\n",
       "      <th>...</th>\n",
       "      <td>...</td>\n",
       "      <td>...</td>\n",
       "    </tr>\n",
       "    <tr>\n",
       "      <th>345239</th>\n",
       "      <td>if you want to sound like a native speaker you...</td>\n",
       "      <td>se vuoi sembrare un madrelingua devi essere di...</td>\n",
       "    </tr>\n",
       "    <tr>\n",
       "      <th>345240</th>\n",
       "      <td>if you want to sound like a native speaker you...</td>\n",
       "      <td>se vuoi sembrare un madrelingua devi essere di...</td>\n",
       "    </tr>\n",
       "    <tr>\n",
       "      <th>345241</th>\n",
       "      <td>if someone who does not know your background s...</td>\n",
       "      <td>se qualcuno che non conosce il tuo background ...</td>\n",
       "    </tr>\n",
       "    <tr>\n",
       "      <th>345242</th>\n",
       "      <td>doubtless there exists in this world precisely...</td>\n",
       "      <td>senza dubbio esiste in questo mondo proprio la...</td>\n",
       "    </tr>\n",
       "    <tr>\n",
       "      <th>345243</th>\n",
       "      <td>doubtless there exists in this world precisely...</td>\n",
       "      <td>senza dubbio esiste in questo mondo proprio la...</td>\n",
       "    </tr>\n",
       "  </tbody>\n",
       "</table>\n",
       "<p>345244 rows × 2 columns</p>\n",
       "</div>"
      ],
      "text/plain": [
       "                                                  english                                            italian\n",
       "0                                                      hi                                               ciao\n",
       "1                                                     run                                              corri\n",
       "2                                                     run                                              corra\n",
       "3                                                     run                                            correte\n",
       "4                                                     who                                                chi\n",
       "...                                                   ...                                                ...\n",
       "345239  if you want to sound like a native speaker you...  se vuoi sembrare un madrelingua devi essere di...\n",
       "345240  if you want to sound like a native speaker you...  se vuoi sembrare un madrelingua devi essere di...\n",
       "345241  if someone who does not know your background s...  se qualcuno che non conosce il tuo background ...\n",
       "345242  doubtless there exists in this world precisely...  senza dubbio esiste in questo mondo proprio la...\n",
       "345243  doubtless there exists in this world precisely...  senza dubbio esiste in questo mondo proprio la...\n",
       "\n",
       "[345244 rows x 2 columns]"
      ]
     },
     "execution_count": 5,
     "metadata": {
      "tags": []
     },
     "output_type": "execute_result"
    }
   ],
   "source": [
    "# PREPROCESSED DATA INTO A DATAFRAME\n",
    "df[\"english\"] = df.english.apply(preprocessor)\n",
    "df[\"italian\"] = df.italian.apply(preprocessor_ita)\n",
    "df"
   ]
  },
  {
   "cell_type": "code",
   "execution_count": 6,
   "metadata": {
    "colab": {
     "base_uri": "https://localhost:8080/",
     "height": 521
    },
    "executionInfo": {
     "elapsed": 810,
     "status": "ok",
     "timestamp": 1624269818297,
     "user": {
      "displayName": "Namnesh Goyal",
      "photoUrl": "",
      "userId": "04336517495820410220"
     },
     "user_tz": -330
    },
    "id": "ObqJvTO8C33M",
    "outputId": "d4e460ec-e162-4be6-a40f-f7fc0d6564f9"
   },
   "outputs": [
    {
     "name": "stderr",
     "output_type": "stream",
     "text": [
      "/usr/local/lib/python3.7/dist-packages/ipykernel_launcher.py:3: SettingWithCopyWarning: \n",
      "A value is trying to be set on a copy of a slice from a DataFrame.\n",
      "Try using .loc[row_indexer,col_indexer] = value instead\n",
      "\n",
      "See the caveats in the documentation: https://pandas.pydata.org/pandas-docs/stable/user_guide/indexing.html#returning-a-view-versus-a-copy\n",
      "  This is separate from the ipykernel package so we can avoid doing imports until\n"
     ]
    },
    {
     "data": {
      "text/html": [
       "<div>\n",
       "<style scoped>\n",
       "    .dataframe tbody tr th:only-of-type {\n",
       "        vertical-align: middle;\n",
       "    }\n",
       "\n",
       "    .dataframe tbody tr th {\n",
       "        vertical-align: top;\n",
       "    }\n",
       "\n",
       "    .dataframe thead th {\n",
       "        text-align: right;\n",
       "    }\n",
       "</style>\n",
       "<table border=\"1\" class=\"dataframe\">\n",
       "  <thead>\n",
       "    <tr style=\"text-align: right;\">\n",
       "      <th></th>\n",
       "      <th>italian</th>\n",
       "      <th>english_inp</th>\n",
       "      <th>english_out</th>\n",
       "    </tr>\n",
       "  </thead>\n",
       "  <tbody>\n",
       "    <tr>\n",
       "      <th>0</th>\n",
       "      <td>ciao</td>\n",
       "      <td>&lt;start&gt; hi</td>\n",
       "      <td>hi &lt;end&gt;</td>\n",
       "    </tr>\n",
       "    <tr>\n",
       "      <th>1</th>\n",
       "      <td>corri</td>\n",
       "      <td>&lt;start&gt; run</td>\n",
       "      <td>run &lt;end&gt;</td>\n",
       "    </tr>\n",
       "    <tr>\n",
       "      <th>2</th>\n",
       "      <td>corra</td>\n",
       "      <td>&lt;start&gt; run</td>\n",
       "      <td>run &lt;end&gt;</td>\n",
       "    </tr>\n",
       "    <tr>\n",
       "      <th>3</th>\n",
       "      <td>correte</td>\n",
       "      <td>&lt;start&gt; run</td>\n",
       "      <td>run &lt;end&gt;</td>\n",
       "    </tr>\n",
       "    <tr>\n",
       "      <th>4</th>\n",
       "      <td>chi</td>\n",
       "      <td>&lt;start&gt; who</td>\n",
       "      <td>who &lt;end&gt;</td>\n",
       "    </tr>\n",
       "    <tr>\n",
       "      <th>...</th>\n",
       "      <td>...</td>\n",
       "      <td>...</td>\n",
       "      <td>...</td>\n",
       "    </tr>\n",
       "    <tr>\n",
       "      <th>344915</th>\n",
       "      <td>charles moore cre il forth nel tentativo di au...</td>\n",
       "      <td>&lt;start&gt; charles moore created forth in an atte...</td>\n",
       "      <td>charles moore created forth in an attempt to i...</td>\n",
       "    </tr>\n",
       "    <tr>\n",
       "      <th>344998</th>\n",
       "      <td>se la tua azienda opera principalmente con lam...</td>\n",
       "      <td>&lt;start&gt; if your company primarily does busines...</td>\n",
       "      <td>if your company primarily does business with a...</td>\n",
       "    </tr>\n",
       "    <tr>\n",
       "      <th>344999</th>\n",
       "      <td>se la sua azienda opera principalmente con lam...</td>\n",
       "      <td>&lt;start&gt; if your company primarily does busines...</td>\n",
       "      <td>if your company primarily does business with a...</td>\n",
       "    </tr>\n",
       "    <tr>\n",
       "      <th>345000</th>\n",
       "      <td>se la vostra azienda opera principalmente con ...</td>\n",
       "      <td>&lt;start&gt; if your company primarily does busines...</td>\n",
       "      <td>if your company primarily does business with a...</td>\n",
       "    </tr>\n",
       "    <tr>\n",
       "      <th>345001</th>\n",
       "      <td>lintelligenza  fondata nella capacit di ricono...</td>\n",
       "      <td>&lt;start&gt; intelligence is found in the capacity ...</td>\n",
       "      <td>intelligence is found in the capacity to recog...</td>\n",
       "    </tr>\n",
       "  </tbody>\n",
       "</table>\n",
       "<p>344860 rows × 3 columns</p>\n",
       "</div>"
      ],
      "text/plain": [
       "                                                  italian  ...                                        english_out\n",
       "0                                                    ciao  ...                                           hi <end>\n",
       "1                                                   corri  ...                                          run <end>\n",
       "2                                                   corra  ...                                          run <end>\n",
       "3                                                 correte  ...                                          run <end>\n",
       "4                                                     chi  ...                                          who <end>\n",
       "...                                                   ...  ...                                                ...\n",
       "344915  charles moore cre il forth nel tentativo di au...  ...  charles moore created forth in an attempt to i...\n",
       "344998  se la tua azienda opera principalmente con lam...  ...  if your company primarily does business with a...\n",
       "344999  se la sua azienda opera principalmente con lam...  ...  if your company primarily does business with a...\n",
       "345000  se la vostra azienda opera principalmente con ...  ...  if your company primarily does business with a...\n",
       "345001  lintelligenza  fondata nella capacit di ricono...  ...  intelligence is found in the capacity to recog...\n",
       "\n",
       "[344860 rows x 3 columns]"
      ]
     },
     "execution_count": 6,
     "metadata": {
      "tags": []
     },
     "output_type": "execute_result"
    }
   ],
   "source": [
    "# REMOVING SENTENCES WITH LENGTH GREATER THAN 20\n",
    "df[\"eng_len\"] = df.english.apply(lambda x: len(x.split()))\n",
    "df = df[df.eng_len<=20]\n",
    "df[\"ita_len\"] = df.italian.apply(lambda x: len(x.split()))\n",
    "df  = df[df.ita_len<=20]\n",
    "# ADDING <start> TO THE BEGINING OF ENGLISH SENTENCES\n",
    "df[\"english_inp\"]= \"<start> \"+ df.english\n",
    "df[\"english_out\"]= df.english+ \" <end>\"\n",
    "df.drop([\"english\",\"eng_len\",\"ita_len\"],axis=1,inplace=True)\n",
    "df"
   ]
  },
  {
   "cell_type": "markdown",
   "metadata": {
    "id": "WhQdgzMVdcof"
   },
   "source": [
    " ## Train Test Split"
   ]
  },
  {
   "cell_type": "code",
   "execution_count": 2,
   "metadata": {
    "executionInfo": {
     "elapsed": 594,
     "status": "ok",
     "timestamp": 1624269818882,
     "user": {
      "displayName": "Namnesh Goyal",
      "photoUrl": "",
      "userId": "04336517495820410220"
     },
     "user_tz": -330
    },
    "id": "ZvM6sgCGC36I"
   },
   "outputs": [],
   "source": [
    "from sklearn.model_selection import train_test_split"
   ]
  },
  {
   "cell_type": "code",
   "execution_count": 8,
   "metadata": {
    "executionInfo": {
     "elapsed": 22,
     "status": "ok",
     "timestamp": 1624269818884,
     "user": {
      "displayName": "Namnesh Goyal",
      "photoUrl": "",
      "userId": "04336517495820410220"
     },
     "user_tz": -330
    },
    "id": "LxFu6nQ1DKrR"
   },
   "outputs": [],
   "source": [
    "train , validation = train_test_split(df,test_size = 0.2,random_state=33)\n",
    "#ADDING <end> RO THE END OF FIRST ENGLISH SENTENCE IN \"english_inp\"\n",
    "train.iloc[0][\"english_inp\"]  = train.iloc[0][\"english_inp\"] + \" <end>\""
   ]
  },
  {
   "cell_type": "code",
   "execution_count": 8,
   "metadata": {
    "executionInfo": {
     "elapsed": 19,
     "status": "ok",
     "timestamp": 1624269818885,
     "user": {
      "displayName": "Namnesh Goyal",
      "photoUrl": "",
      "userId": "04336517495820410220"
     },
     "user_tz": -330
    },
    "id": "ovJpqTbaDKuW"
   },
   "outputs": [],
   "source": []
  },
  {
   "cell_type": "markdown",
   "metadata": {
    "id": "x7LLyfLmdj5i"
   },
   "source": [
    "## Tokenization"
   ]
  },
  {
   "cell_type": "code",
   "execution_count": 3,
   "metadata": {
    "executionInfo": {
     "elapsed": 18,
     "status": "ok",
     "timestamp": 1624269818886,
     "user": {
      "displayName": "Namnesh Goyal",
      "photoUrl": "",
      "userId": "04336517495820410220"
     },
     "user_tz": -330
    },
    "id": "bBI8mQ5jDKxb"
   },
   "outputs": [],
   "source": [
    "from tensorflow.keras.preprocessing.text import Tokenizer\n",
    "from  tensorflow.keras.preprocessing.sequence import pad_sequences"
   ]
  },
  {
   "cell_type": "code",
   "execution_count": 10,
   "metadata": {
    "executionInfo": {
     "elapsed": 7501,
     "status": "ok",
     "timestamp": 1624269826372,
     "user": {
      "displayName": "Namnesh Goyal",
      "photoUrl": "",
      "userId": "04336517495820410220"
     },
     "user_tz": -330
    },
    "id": "_hIiNqQJDK0Q"
   },
   "outputs": [],
   "source": [
    "# TOKENIZE ENGLISH SENTENCES\n",
    "tk_eng = Tokenizer(filters = '!\"#$%&()*+,-./:;=?@[\\\\]^_`{|}~\\t\\n')\n",
    "tk_eng.fit_on_texts(train.english_inp.values)\n",
    "# TOKENIZING ITALIAN SENTENCES\n",
    "tk_ita = Tokenizer()\n",
    "tk_ita.fit_on_texts(train.italian)"
   ]
  },
  {
   "cell_type": "markdown",
   "metadata": {
    "id": "7_LYaEmXdpj1"
   },
   "source": [
    "## Data Generator"
   ]
  },
  {
   "cell_type": "code",
   "execution_count": 4,
   "metadata": {
    "executionInfo": {
     "elapsed": 18,
     "status": "ok",
     "timestamp": 1624269826373,
     "user": {
      "displayName": "Namnesh Goyal",
      "photoUrl": "",
      "userId": "04336517495820410220"
     },
     "user_tz": -330
    },
    "id": "PeVTeYlaDK3J"
   },
   "outputs": [],
   "source": [
    "from  tensorflow.keras.preprocessing.sequence import pad_sequences"
   ]
  },
  {
   "cell_type": "code",
   "execution_count": 12,
   "metadata": {
    "executionInfo": {
     "elapsed": 13,
     "status": "ok",
     "timestamp": 1624269826374,
     "user": {
      "displayName": "Namnesh Goyal",
      "photoUrl": "",
      "userId": "04336517495820410220"
     },
     "user_tz": -330
    },
    "id": "bhFY92l8DK5e"
   },
   "outputs": [],
   "source": [
    "class Dataset :\n",
    "    def __init__(self, data,tk_eng,tk_ita,max_len):\n",
    "        self.encoder_inp = data[\"italian\"].values\n",
    "        self.decoder_inp = data[\"english_inp\"].values\n",
    "        self.decoder_out = data[\"english_out\"].values\n",
    "        self.tk_eng = tk_eng\n",
    "        self.tk_ita = tk_ita\n",
    "        self.max_len = max_len\n",
    "        \n",
    "    def __getitem__(self,i):\n",
    "        # ITALIAN TO INTEGER SEQUENCES\n",
    "        self.encoder_seq = self.tk_ita.texts_to_sequences([self.encoder_inp[i]])\n",
    "        # ENGLISH TO INTEGER SEQUENCES \n",
    "        self.decoder_inp_seq = self.tk_eng.texts_to_sequences([self.decoder_inp[i]])\n",
    "        # ENGLISH TO INTEGER SEQUENCES\n",
    "        self.decoder_out_seq = self.tk_eng.texts_to_sequences([self.decoder_out[i]])\n",
    "        \n",
    "        # PADDING THE ENCODER INPUT SEQUENCES\n",
    "        self.encoder_seq = pad_sequences(self.encoder_seq,maxlen = self.max_len,padding=\"post\")\n",
    "        # PADDING THE DECODER INPUT SEQUENCES\n",
    "        self.decoder_inp_seq = pad_sequences(self.decoder_inp_seq,maxlen = self.max_len,padding = \"post\")\n",
    "        # PADDING DECODER OUTPUT SEQUENCES\n",
    "        self.decoder_out_seq = pad_sequences(self.decoder_out_seq,maxlen = self.max_len,padding = \"post\")\n",
    "        return self.encoder_seq ,  self.decoder_inp_seq,  self.decoder_out_seq\n",
    "    \n",
    "    def __len__(self):\n",
    "        # RETURN THE LEN OF INPUT ENDODER\n",
    "        return len(self.encoder_inp)"
   ]
  },
  {
   "cell_type": "code",
   "execution_count": 13,
   "metadata": {
    "executionInfo": {
     "elapsed": 12,
     "status": "ok",
     "timestamp": 1624269826374,
     "user": {
      "displayName": "Namnesh Goyal",
      "photoUrl": "",
      "userId": "04336517495820410220"
     },
     "user_tz": -330
    },
    "id": "d6legz6QDbCP"
   },
   "outputs": [],
   "source": [
    "class Dataloader(tf.keras.utils.Sequence):\n",
    "    def __init__(self,batch_size,dataset):\n",
    "        # INTIALIZING THE REQUIRED VARIABLES \n",
    "        self.dataset = dataset\n",
    "        self.batch_size = batch_size\n",
    "        self.totl_points = self.dataset.encoder_inp.shape[0]\n",
    "        \n",
    "    def __getitem__(self,i):\n",
    "        # STATING THE START AND STOP VATIABLE CONTAINGING INDEX VALUES FOR EACH BATCH\n",
    "        start = i * self.batch_size\n",
    "        stop = (i+1)*self.batch_size\n",
    "        \n",
    "        # PLACEHOLDERS FOR BATCHED DATA\n",
    "        batch_ita =[]\n",
    "        batch_eng_input = []\n",
    "        batch_eng_out =[]\n",
    "\n",
    "        for j in range(start,stop): # FOR EACH VALUE IN START TO STOP \n",
    "            \n",
    "            a,b,c = self.dataset[j] # DATASET RETURNS ITALIAN , ENGLIGH_INPUT, ENGLISH_OUTPUT\n",
    "            batch_ita.append(a[0]) # APPENDING ITALIAN TO batch_ita\n",
    "            batch_eng_input.append(b[0]) # APPENGIND ENGLISH INPUT TO batch_eng_input\n",
    "            batch_eng_out.append(c[0]) # APPENDING ENGLISH OUTPUT TO batch_eng_out\n",
    "        \n",
    "        # Conveting list to array   \n",
    "        batch_ita = (np.array(batch_ita)) \n",
    "        batch_eng_input = np.array(batch_eng_input)\n",
    "        batch_eng_out = np.array(batch_eng_out)\n",
    "        \n",
    "        return [batch_ita , batch_eng_input],batch_eng_out\n",
    "    \n",
    "    def __len__(self):\n",
    "        # Returning the number of batches\n",
    "        return int(self.totl_points/self.batch_size)"
   ]
  },
  {
   "cell_type": "markdown",
   "metadata": {
    "id": "7O_a9F2bI5oQ"
   },
   "source": [
    "## Encoder"
   ]
  },
  {
   "cell_type": "code",
   "execution_count": 5,
   "metadata": {
    "executionInfo": {
     "elapsed": 12,
     "status": "ok",
     "timestamp": 1624269826375,
     "user": {
      "displayName": "Namnesh Goyal",
      "photoUrl": "",
      "userId": "04336517495820410220"
     },
     "user_tz": -330
    },
    "id": "syaff3pmI9QP"
   },
   "outputs": [],
   "source": [
    "from tensorflow.keras import layers"
   ]
  },
  {
   "cell_type": "code",
   "execution_count": 17,
   "metadata": {
    "executionInfo": {
     "elapsed": 3,
     "status": "ok",
     "timestamp": 1624277823579,
     "user": {
      "displayName": "Namnesh Goyal",
      "photoUrl": "",
      "userId": "04336517495820410220"
     },
     "user_tz": -330
    },
    "id": "GgWl71_pDbFC"
   },
   "outputs": [],
   "source": [
    "class Encoder(tf.keras.layers.Layer):\n",
    "    '''\n",
    "    Encoder model -- That takes a input sequence and returns encoder-outputs,encoder_final_state_h,encoder_final_state_c\n",
    "    '''\n",
    "    \n",
    "    def __init__(self, vocab_size,emb_dims, enc_units, input_length,batch_size):\n",
    "        super().__init__()\n",
    "        # INITIALIZING THE REQUIRED VARIABLES\n",
    "        self.batch_size=batch_size # BATHCH SIZE\n",
    "        self.enc_units = enc_units # ENCODER UNITS\n",
    "\n",
    "        # EMBEDDING LAYER\n",
    "        self.embedding= layers.Embedding(vocab_size ,emb_dims) \n",
    "        # LSTM LAYER WITH RETURN SEQ AND RETURN STATES\n",
    "        self.lstm = layers.LSTM(self.enc_units,return_state= True,return_sequences =  True) \n",
    "    def call(self, enc_input , states):\n",
    "        '''\n",
    "          This function takes a sequence input and the initial states of the encoder.\n",
    "          Pass the input_sequence input to the Embedding layer, Pass the embedding layer ouput to encoder_lstm\n",
    "          returns -- encoder_output, last time step's hidden and cell state\n",
    "        '''\n",
    "        # FORMING THE EMBEDDED VECTOR \n",
    "        emb = self.embedding(enc_input)\n",
    "        # PASSING THE EMBEDDED VECTIO THROUGH LSTM LAYERS \n",
    "        enc_output,state_h,state_c = self.lstm(emb,initial_state=states)\n",
    "        #RETURNING THE OUTPUT OF LSTM LAYER\n",
    "        return enc_output,state_h,state_c \n",
    "\n",
    "    def initialize(self,batch_size):\n",
    "        '''\n",
    "        Given a batch size it will return intial hidden state and intial cell state.\n",
    "        If batch size is 32- Hidden state is zeros of size [32,lstm_units], cell state zeros is of size [32,lstm_units]\n",
    "        '''\n",
    "        return tf.zeros(shape=(batch_size,self.enc_units)),tf.zeros(shape=(batch_size,self.enc_units))"
   ]
  },
  {
   "cell_type": "markdown",
   "metadata": {},
   "source": [
    "### Encoder Check"
   ]
  },
  {
   "cell_type": "code",
   "execution_count": 18,
   "metadata": {
    "colab": {
     "base_uri": "https://localhost:8080/"
    },
    "executionInfo": {
     "elapsed": 8,
     "status": "ok",
     "timestamp": 1624270104469,
     "user": {
      "displayName": "Namnesh Goyal",
      "photoUrl": "",
      "userId": "04336517495820410220"
     },
     "user_tz": -330
    },
    "id": "wHGwq_exDehX",
    "outputId": "169a2cd0-a076-443a-c06b-a04d4d1c1fa4"
   },
   "outputs": [
    {
     "name": "stdout",
     "output_type": "stream",
     "text": [
      "ENCODER OUTPUT SHAPE= (16, 10, 32)\n",
      "ENCODER STATE H SHAPE= (16, 32)\n",
      "ENCODER STATE C SHAPE= (16, 32)\n"
     ]
    }
   ],
   "source": [
    "vocab_size=10\n",
    "embedding_size=20\n",
    "lstm_size=32\n",
    "input_length=10\n",
    "batch_size=16\n",
    "\n",
    "enc = Encoder(vocab_size,embedding_size,lstm_size,input_length,batch_size)\n",
    "a,b,c = enc(tf.random.uniform((batch_size,input_length)),enc.initialize(batch_size))\n",
    "print(\"ENCODER OUTPUT SHAPE=\",a.shape)\n",
    "print(\"ENCODER STATE H SHAPE=\",b.shape)\n",
    "print(\"ENCODER STATE C SHAPE=\",c.shape)"
   ]
  },
  {
   "cell_type": "markdown",
   "metadata": {
    "id": "9cpSD5STd2Hx"
   },
   "source": [
    "## Attention  for Concat Model"
   ]
  },
  {
   "cell_type": "code",
   "execution_count": 21,
   "metadata": {
    "executionInfo": {
     "elapsed": 2,
     "status": "ok",
     "timestamp": 1624277824953,
     "user": {
      "displayName": "Namnesh Goyal",
      "photoUrl": "",
      "userId": "04336517495820410220"
     },
     "user_tz": -330
    },
    "id": "85PLh3GkDekY"
   },
   "outputs": [],
   "source": [
    "# THIS IS ATTNETION LAYER FOR DOT MODEL\n",
    "class Attention(tf.keras.layers.Layer):\n",
    "    '''THIS FUNCTION RETURNS THE CONTEXT VECTOR AND ATTENTION WEIGHTS (ALPHA VALUES)'''\n",
    "    def __init__(self,units):\n",
    "        super().__init__()\n",
    "        # INITIALIZING THE DENSE LAYER W1\n",
    "        self.W1 = layers.Dense(units)\n",
    "        # INITIALIZING THE DENSE LAYER W2\n",
    "        self.W2 = layers.Dense(units)\n",
    "        # INITIALIZING THE DENSE LAYER V\n",
    "        self.v = layers.Dense(1)\n",
    "        \n",
    "    def call(self,enc_output,dec_state):\n",
    "        # EXPANDING THE DIMENSION OF DECODER STATE  EG. FROM (16,32) TO (16,32,1)\n",
    "        dec_state =  tf.expand_dims(dec_state,axis=1)\n",
    "        \n",
    "        # FINDING THE SCORE FOR CONCAT MODEL\n",
    "        score = self.v(tf.nn.tanh(\n",
    "            self.W1(dec_state)+ self.W2(enc_output)\n",
    "        ))\n",
    "        # APPLYING SOFTMAX TO THE AXIS 1\n",
    "        # OUPUT SHAPE = (16,13,1)\n",
    "        att_weights = tf.nn.softmax(score,axis=1)\n",
    "        \n",
    "        # CALCULATING THE CONTEXT VECTOR BY FIRST ELEMENTWISE MULTIPLICATION AND THEN ADDING THE AXIS 1\n",
    "        # (16,13,1)*(16,13,32)=(16,13,32)\n",
    "        context_vec  = att_weights* enc_output\n",
    "        \n",
    "        # (16,13,32) SUM AND REDUCE THE DIMENSION AT AXIS 1 => (16,32)\n",
    "        context_vec = tf.reduce_sum(context_vec,axis=1)\n",
    "        \n",
    "        # RETURNING THE CONTEXT VECTOR AND ATTENTION WEIGHTS\n",
    "        return context_vec,att_weights"
   ]
  },
  {
   "cell_type": "markdown",
   "metadata": {},
   "source": [
    "### Attention Check"
   ]
  },
  {
   "cell_type": "code",
   "execution_count": 22,
   "metadata": {
    "colab": {
     "base_uri": "https://localhost:8080/"
    },
    "executionInfo": {
     "elapsed": 14,
     "status": "ok",
     "timestamp": 1624269827243,
     "user": {
      "displayName": "Namnesh Goyal",
      "photoUrl": "",
      "userId": "04336517495820410220"
     },
     "user_tz": -330
    },
    "id": "yxHe2kHjDenZ",
    "outputId": "b9f3456f-3e0c-443b-8e03-9064a532d896",
    "scrolled": true
   },
   "outputs": [
    {
     "name": "stdout",
     "output_type": "stream",
     "text": [
      "CONTEXT VECTOR SHAPE= (16, 32)\n",
      "ATTENTION WEIGHTS SHAPE= (16, 10, 1)\n"
     ]
    }
   ],
   "source": [
    "input_length=10\n",
    "batch_size=16\n",
    "att_units=32\n",
    "\n",
    "att = Attention(att_units)\n",
    "encoder_output =  tf.random.uniform((batch_size,input_length,att_units))\n",
    "dec_state_h=tf.random.uniform(shape=[batch_size,att_units])\n",
    "x1, x2 = att(encoder_output,dec_state_h)\n",
    "print(\"CONTEXT VECTOR SHAPE=\",x1.shape)\n",
    "print(\"ATTENTION WEIGHTS SHAPE=\",x2.shape)"
   ]
  },
  {
   "cell_type": "markdown",
   "metadata": {
    "id": "Ieh_z3F5d7vd"
   },
   "source": [
    "## One Step Decoder"
   ]
  },
  {
   "cell_type": "code",
   "execution_count": 26,
   "metadata": {
    "executionInfo": {
     "elapsed": 3,
     "status": "ok",
     "timestamp": 1624277826803,
     "user": {
      "displayName": "Namnesh Goyal",
      "photoUrl": "",
      "userId": "04336517495820410220"
     },
     "user_tz": -330
    },
    "id": "tdXJLk_vdP-1"
   },
   "outputs": [],
   "source": [
    "class Onestepdecoder(tf.keras.Model):\n",
    "    '''THIS MODEL OUTPUTS THE RESULT OF DECODER FOR ONE TIME SETP GIVEN THE INPUT FOR PRECIOVE TIME STEP'''\n",
    "    \n",
    "    def __init__(self, vocab_size,emb_dims, dec_units, input_len,att_units,batch_size):\n",
    "        super().__init__()\n",
    "        # INTITALIZING THE REQUIRED VARIABLES\n",
    "        # EMBEDDING LAYERS\n",
    "        self.emb = layers.Embedding(vocab_size,emb_dims,input_length= input_len)\n",
    "        # ATTENTION LAYER\n",
    "        self.att = Attention(att_units)\n",
    "        # LSTM LAYER\n",
    "        self.lstm = layers.LSTM(dec_units,return_sequences=True,return_state=True)\n",
    "        # DENSE LAYER\n",
    "        self.dense = layers.Dense(vocab_size)\n",
    "\n",
    "    def call(self, encoder_output , input , state_h):\n",
    "        # FORMING THE EMBEDDED VECTOR FOR THE WORD\n",
    "        # (32,1)=>(32,1,12)\n",
    "        emb = self.emb(input)\n",
    "        \n",
    "        # GETTING THE CONTEXT VECTOR AND ATTENTION WEIGHTS BASED ON THE ENCODER OUTPUT AND PREVIOUS DECODER STATE_H\n",
    "        context_vec,alphas = self.att(encoder_output,state_h)\n",
    "        \n",
    "        # CONCATINATING THE CONTEXT VECTOR(BY EXPANDING DIMENSION) AND ENBEDDED VECTOR\n",
    "        # (32,1,16)|(32,1,12)=>(32,1,28)\n",
    "        dec_input =  tf.concat([tf.expand_dims(context_vec,1),emb],axis=-1)\n",
    "        \n",
    "        # PASSING THE CONTEXT VECTOR THROUGH LSTM UNIT\n",
    "        dec_output,dec_state_h,state_c = self.lstm(dec_input)\n",
    "        \n",
    "        # PASSING THE DECODER OUTPUT THROUGH DENSE LAYER WITH UNITS EQUAL TO VOCAB SIZE\n",
    "        fc = self.dense(dec_output)\n",
    "        \n",
    "        # RETURNING THE OUTPUT\n",
    "        return fc , dec_state_h , alphas"
   ]
  },
  {
   "cell_type": "markdown",
   "metadata": {},
   "source": [
    "### One step Decoder Check"
   ]
  },
  {
   "cell_type": "code",
   "execution_count": 27,
   "metadata": {
    "colab": {
     "base_uri": "https://localhost:8080/"
    },
    "executionInfo": {
     "elapsed": 18,
     "status": "ok",
     "timestamp": 1624270075379,
     "user": {
      "displayName": "Namnesh Goyal",
      "photoUrl": "",
      "userId": "04336517495820410220"
     },
     "user_tz": -330
    },
    "id": "kOGZ4L44gV1L",
    "outputId": "6c4b8619-871c-4829-99fd-5c2033b77e0f"
   },
   "outputs": [
    {
     "name": "stdout",
     "output_type": "stream",
     "text": [
      "one_step_dec output shape (32, 1, 13)\n",
      "state_h (32, 10)\n",
      "attention_weight (32, 10, 1)\n"
     ]
    }
   ],
   "source": [
    "tar_vocab_size=13 \n",
    "embedding_dim=12 \n",
    "input_length=10\n",
    "dec_units=16 \n",
    "att_units=16\n",
    "batch_size=32\n",
    "\n",
    "onestepdecoder=Onestepdecoder(tar_vocab_size, embedding_dim, input_length, dec_units , att_units , batch_size)\n",
    "input_to_decoder=tf.random.uniform(shape=(batch_size,1),maxval=10,minval=0,dtype=tf.int32)\n",
    "encoder_output=tf.random.uniform(shape=[batch_size,input_length,dec_units])\n",
    "state_h=tf.random.uniform(shape=[batch_size,dec_units])\n",
    "\n",
    "output,state_h,attention_weights=onestepdecoder(encoder_output,input_to_decoder,state_h)\n",
    "\n",
    "print(\"one_step_dec output shape\",output.shape)\n",
    "print(\"state_h\",state_h.shape)\n",
    "print(\"attention_weight\",attention_weights.shape)"
   ]
  },
  {
   "cell_type": "markdown",
   "metadata": {
    "id": "6vpuLNQEeA2n"
   },
   "source": [
    "## Decoder"
   ]
  },
  {
   "cell_type": "code",
   "execution_count": 29,
   "metadata": {
    "executionInfo": {
     "elapsed": 3,
     "status": "ok",
     "timestamp": 1624277828347,
     "user": {
      "displayName": "Namnesh Goyal",
      "photoUrl": "",
      "userId": "04336517495820410220"
     },
     "user_tz": -330
    },
    "id": "IxVY1QHTgV3z"
   },
   "outputs": [],
   "source": [
    "class Decoder(tf.keras.Model):\n",
    "    '''THIS MODEL PERFORMS THE WHOLE DECODER OPERATION FOR THE COMPLETE SENTENCE'''\n",
    "    def __init__(self, vocab_size,emb_dims, dec_units, input_len,att_units,batch_size):\n",
    "        super().__init__()\n",
    "        # INITIALIZING THE VARIABLES\n",
    "        # LENGTH OF INPUT SENTENCE\n",
    "        self.input_len = input_len\n",
    "        # ONE STEP DECODER\n",
    "        self.onestepdecoder = Onestepdecoder(vocab_size,emb_dims, dec_units, input_len,att_units,batch_size)\n",
    "\n",
    "    def call(self,dec_input,enc_output,state_h):\n",
    "        # THIS VATIABLE STORES THE VALUE OF STATE_H FOR THE PREVIOUS STATE\n",
    "        current_state_h = state_h \n",
    "        # THIS STORES THE DECODER OUTPUT FOR EACH TIME STEP\n",
    "        pred = []\n",
    "        # THIS STORED THE ALPHA VALUES\n",
    "        alpha_values = []\n",
    "        # FOR EACH WORD IN THE INPUT SENTENCE\n",
    "        for i in range(self.input_len):\n",
    "            \n",
    "            # CURRENT WORD TO INPUT TO ONE STEP DECODER\n",
    "            current_vec = dec_input[:,i]\n",
    "            # EXPANDING THE DIMENSION FOR THE WORD\n",
    "            current_vec = tf.expand_dims(current_vec,axis=-1)\n",
    "            # PERFORMING THE ONE STEP DECODER OPERATION \n",
    "            dec_output,dec_state_h,alphas = self.onestepdecoder(enc_output ,current_vec,current_state_h)\n",
    "            #UPDATING THE CURRENT STATE_H\n",
    "            current_state_h = dec_state_h\n",
    "            #APPENDING THE DECODER OUTPUT TO \"pred\" LIST\n",
    "            pred.append(dec_output)\n",
    "            # APPENDING THE ALPHA VALUES\n",
    "            alpha_values.append(alphas)\n",
    "            \n",
    "        # CONCATINATING ALL THE VALUES IN THE LIST\n",
    "        output = tf.concat(pred,axis=1)\n",
    "        # CONCATINATING ALL THE ALPHA VALUES IN THE LIST\n",
    "        alpha_values = tf.concat(alpha_values,axis = -1)\n",
    "        # RETURNING THE OUTPUT\n",
    "        return output , alpha_values\n"
   ]
  },
  {
   "cell_type": "markdown",
   "metadata": {},
   "source": [
    "### Decoder Check"
   ]
  },
  {
   "cell_type": "code",
   "execution_count": 30,
   "metadata": {
    "colab": {
     "base_uri": "https://localhost:8080/"
    },
    "executionInfo": {
     "elapsed": 2657,
     "status": "ok",
     "timestamp": 1624269829893,
     "user": {
      "displayName": "Namnesh Goyal",
      "photoUrl": "",
      "userId": "04336517495820410220"
     },
     "user_tz": -330
    },
    "id": "oPCpcKBJvmBE",
    "outputId": "62577025-5232-472b-c350-da7d124aea69"
   },
   "outputs": [
    {
     "name": "stdout",
     "output_type": "stream",
     "text": [
      "Decoder Output= (32, 11, 13)\n",
      "Alpha Values= (32, 11, 11)\n"
     ]
    }
   ],
   "source": [
    "out_vocab_size=13 \n",
    "embedding_dim=12 \n",
    "input_length=11\n",
    "dec_units=16 \n",
    "att_units=16\n",
    "batch_size=32\n",
    "target_sentences=tf.random.uniform(shape=(batch_size,input_length),maxval=10,minval=0,dtype=tf.int32)\n",
    "encoder_output=tf.random.uniform(shape=[batch_size,input_length,dec_units])\n",
    "state_h=tf.random.uniform(shape=[batch_size,dec_units])\n",
    "\n",
    "decoder =Decoder(out_vocab_size, embedding_dim,dec_units , input_length, att_units,batch_size )\n",
    "output,alpha_values = decoder(target_sentences,encoder_output, state_h)\n",
    "print(\"Decoder Output=\",output.shape)\n",
    "print(\"Alpha Values=\",alpha_values.shape)"
   ]
  },
  {
   "cell_type": "markdown",
   "metadata": {
    "id": "NxNfne9eeFHa"
   },
   "source": [
    "## Encoder Decoder "
   ]
  },
  {
   "cell_type": "code",
   "execution_count": 32,
   "metadata": {
    "executionInfo": {
     "elapsed": 7,
     "status": "ok",
     "timestamp": 1624277830109,
     "user": {
      "displayName": "Namnesh Goyal",
      "photoUrl": "",
      "userId": "04336517495820410220"
     },
     "user_tz": -330
    },
    "id": "FDarCDN3vl-N"
   },
   "outputs": [],
   "source": [
    "class encoder_decoder(tf.keras.Model):\n",
    "    '''THIS MODEL COMBINES ALL THE LAYERS AND FORM IN ENCODER DECODER MODEL WITH ATTENTION MECHANISM'''\n",
    "    def __init__(self,enc_vocab_size,enc_emb_dim,enc_units,enc_input_length,\n",
    "             dec_vocab_size,dec_emb_dim,dec_units,dec_input_length ,att_units, batch_size):\n",
    "        # INITAILIZING ALL VARIABLES\n",
    "        super().__init__()\n",
    "        # BATCH SIZE\n",
    "        self.batch_size = batch_size\n",
    "        # INITIALIZING ENCODER LAYER\n",
    "        self.encoder = Encoder(enc_vocab_size, enc_emb_dim,enc_units, enc_input_length,batch_size)\n",
    "        # INITALIZING DECODER LAYER\n",
    "        self.decoder = Decoder(dec_vocab_size ,dec_emb_dim,dec_units,dec_input_length  ,att_units, batch_size)\n",
    "\n",
    "    def call(self,data):\n",
    "        # THE INPUT OF DATALOADER IS IN A LIST FORM FOR EACH BATCH IT GIVER TWO INPUTS\n",
    "        # INPUT1 IS FOR ENCODER\n",
    "        # INPUT2 IS FOR DECODER\n",
    "        inp1 , inp2 = data\n",
    "        # PASSING THE INPUT1 TO ENCODER LAYER\n",
    "        enc_output, enc_state_h, enc_state_c = self.encoder(inp1,self.encoder.initialize(self.batch_size))\n",
    "        # PASSING INPUT2 TO THE DECODER LAYER\n",
    "        dec_output , alphas = self.decoder(inp2 , enc_output,enc_state_h)\n",
    "        # THE OUTPUT OF MODEL IS ONLY DECODER OUTPUT THE ALPHA VALUES ARE IGNORED HERE\n",
    "        return dec_output\n",
    "\n"
   ]
  },
  {
   "cell_type": "markdown",
   "metadata": {},
   "source": [
    "### Model Check"
   ]
  },
  {
   "cell_type": "code",
   "execution_count": 33,
   "metadata": {
    "colab": {
     "base_uri": "https://localhost:8080/"
    },
    "executionInfo": {
     "elapsed": 1454,
     "status": "ok",
     "timestamp": 1624269831339,
     "user": {
      "displayName": "Namnesh Goyal",
      "photoUrl": "",
      "userId": "04336517495820410220"
     },
     "user_tz": -330
    },
    "id": "rzua6_eJvl7H",
    "outputId": "67e4d091-6f88-4303-fde5-9eca86dfda0f"
   },
   "outputs": [
    {
     "name": "stdout",
     "output_type": "stream",
     "text": [
      "MODEL OUPUT (32, 10, 13)\n"
     ]
    }
   ],
   "source": [
    "enc_vocab_size=13\n",
    "enc_emb_dim=12\n",
    "enc_units=16\n",
    "enc_input_length=10\n",
    "dec_vocab_size=13\n",
    "dec_emb_dim=12\n",
    "dec_units=16\n",
    "dec_input_length=10\n",
    "batch_size=32\n",
    "att_units=16\n",
    "\n",
    "e_d = encoder_decoder(enc_vocab_size,enc_emb_dim,enc_units,enc_input_length,\n",
    "                      dec_vocab_size,dec_emb_dim,dec_units,dec_input_length, att_units,batch_size)\n",
    "\n",
    "data1 = tf.random.uniform(shape=[batch_size , enc_input_length])\n",
    "data2 = tf.random.uniform(shape=[batch_size , dec_input_length])\n",
    "output = e_d([data1,data2])\n",
    "print(\"MODEL OUPUT\",output.shape)"
   ]
  },
  {
   "cell_type": "code",
   "execution_count": 240,
   "metadata": {
    "executionInfo": {
     "elapsed": 852,
     "status": "ok",
     "timestamp": 1624277836246,
     "user": {
      "displayName": "Namnesh Goyal",
      "photoUrl": "",
      "userId": "04336517495820410220"
     },
     "user_tz": -330
    },
    "id": "77HfQogZ69ax"
   },
   "outputs": [],
   "source": [
    "# FORMING THE BATCHED DATASET FOR TRAIN DATA\n",
    "train_dataset = Dataset(train,tk_eng,tk_ita,20)\n",
    "train_dataloader = Dataloader( batch_size = 1000 , dataset=train_dataset)\n",
    "#FORMING THE BATCHED DATASET FOR TEST DATA\n",
    "val_dataset = Dataset(validation,tk_eng,tk_ita,20)\n",
    "val_dataloader = Dataloader(batch_size=1000,dataset=val_dataset)"
   ]
  },
  {
   "cell_type": "code",
   "execution_count": 243,
   "metadata": {
    "executionInfo": {
     "elapsed": 495,
     "status": "ok",
     "timestamp": 1624277845177,
     "user": {
      "displayName": "Namnesh Goyal",
      "photoUrl": "",
      "userId": "04336517495820410220"
     },
     "user_tz": -330
    },
    "id": "8IOXnjkZ7A27"
   },
   "outputs": [],
   "source": [
    "# INITAILZING THE MODEL\n",
    "model = encoder_decoder(enc_vocab_size=len(tk_ita.word_index)+1,\n",
    "                         enc_emb_dim = 50,\n",
    "                         enc_units=512,enc_input_length=20,\n",
    "                         dec_vocab_size =len(tk_eng.word_index)+1,\n",
    "                         dec_emb_dim =50,\n",
    "                         dec_units=512,\n",
    "                         dec_input_length = 20,\n",
    "                         \n",
    "                         att_units=512,\n",
    "                         batch_size=1000)"
   ]
  },
  {
   "cell_type": "code",
   "execution_count": 60,
   "metadata": {
    "colab": {
     "base_uri": "https://localhost:8080/"
    },
    "executionInfo": {
     "elapsed": 11795192,
     "status": "ok",
     "timestamp": 1624268545807,
     "user": {
      "displayName": "Namnesh Goyal",
      "photoUrl": "",
      "userId": "04336517495820410220"
     },
     "user_tz": -330
    },
    "id": "iYROJtdBFjOB",
    "outputId": "fac314a6-eb76-42b6-feb2-13f2ab094a5b"
   },
   "outputs": [
    {
     "name": "stdout",
     "output_type": "stream",
     "text": [
      "Epoch 1/50\n",
      "275/275 [==============================] - 237s 850ms/step - loss: 1.6695 - val_loss: 1.5051\n",
      "\n",
      "Epoch 00001: val_loss improved from inf to 1.50513, saving model to /content/drive/MyDrive/Colab Notebooks/ass-28/test_save1/best.h5\n",
      "Epoch 2/50\n",
      "275/275 [==============================] - 233s 849ms/step - loss: 1.3547 - val_loss: 1.2033\n",
      "\n",
      "Epoch 00002: val_loss improved from 1.50513 to 1.20327, saving model to /content/drive/MyDrive/Colab Notebooks/ass-28/test_save1/best.h5\n",
      "Epoch 3/50\n",
      "275/275 [==============================] - 234s 852ms/step - loss: 1.1213 - val_loss: 1.0546\n",
      "\n",
      "Epoch 00003: val_loss improved from 1.20327 to 1.05455, saving model to /content/drive/MyDrive/Colab Notebooks/ass-28/test_save1/best.h5\n",
      "Epoch 4/50\n",
      "275/275 [==============================] - 234s 850ms/step - loss: 0.9851 - val_loss: 0.9380\n",
      "\n",
      "Epoch 00004: val_loss improved from 1.05455 to 0.93799, saving model to /content/drive/MyDrive/Colab Notebooks/ass-28/test_save1/best.h5\n",
      "Epoch 5/50\n",
      "275/275 [==============================] - 233s 849ms/step - loss: 0.8680 - val_loss: 0.8277\n",
      "\n",
      "Epoch 00005: val_loss improved from 0.93799 to 0.82769, saving model to /content/drive/MyDrive/Colab Notebooks/ass-28/test_save1/best.h5\n",
      "Epoch 6/50\n",
      "275/275 [==============================] - 234s 850ms/step - loss: 0.7551 - val_loss: 0.7292\n",
      "\n",
      "Epoch 00006: val_loss improved from 0.82769 to 0.72918, saving model to /content/drive/MyDrive/Colab Notebooks/ass-28/test_save1/best.h5\n",
      "Epoch 7/50\n",
      "275/275 [==============================] - 234s 851ms/step - loss: 0.6525 - val_loss: 0.6388\n",
      "\n",
      "Epoch 00007: val_loss improved from 0.72918 to 0.63876, saving model to /content/drive/MyDrive/Colab Notebooks/ass-28/test_save1/best.h5\n",
      "Epoch 8/50\n",
      "275/275 [==============================] - 234s 849ms/step - loss: 0.5624 - val_loss: 0.5665\n",
      "\n",
      "Epoch 00008: val_loss improved from 0.63876 to 0.56647, saving model to /content/drive/MyDrive/Colab Notebooks/ass-28/test_save1/best.h5\n",
      "Epoch 9/50\n",
      "275/275 [==============================] - 234s 850ms/step - loss: 0.4880 - val_loss: 0.5062\n",
      "\n",
      "Epoch 00009: val_loss improved from 0.56647 to 0.50623, saving model to /content/drive/MyDrive/Colab Notebooks/ass-28/test_save1/best.h5\n",
      "Epoch 10/50\n",
      "275/275 [==============================] - 234s 850ms/step - loss: 0.4261 - val_loss: 0.4576\n",
      "\n",
      "Epoch 00010: val_loss improved from 0.50623 to 0.45756, saving model to /content/drive/MyDrive/Colab Notebooks/ass-28/test_save1/best.h5\n",
      "Epoch 11/50\n",
      "275/275 [==============================] - 234s 851ms/step - loss: 0.3741 - val_loss: 0.4183\n",
      "\n",
      "Epoch 00011: val_loss improved from 0.45756 to 0.41835, saving model to /content/drive/MyDrive/Colab Notebooks/ass-28/test_save1/best.h5\n",
      "Epoch 12/50\n",
      "275/275 [==============================] - 234s 851ms/step - loss: 0.3302 - val_loss: 0.3850\n",
      "\n",
      "Epoch 00012: val_loss improved from 0.41835 to 0.38495, saving model to /content/drive/MyDrive/Colab Notebooks/ass-28/test_save1/best.h5\n",
      "Epoch 13/50\n",
      "275/275 [==============================] - 234s 852ms/step - loss: 0.2933 - val_loss: 0.3575\n",
      "\n",
      "Epoch 00013: val_loss improved from 0.38495 to 0.35748, saving model to /content/drive/MyDrive/Colab Notebooks/ass-28/test_save1/best.h5\n",
      "Epoch 14/50\n",
      "275/275 [==============================] - 234s 851ms/step - loss: 0.2625 - val_loss: 0.3368\n",
      "\n",
      "Epoch 00014: val_loss improved from 0.35748 to 0.33684, saving model to /content/drive/MyDrive/Colab Notebooks/ass-28/test_save1/best.h5\n",
      "Epoch 15/50\n",
      "275/275 [==============================] - 234s 852ms/step - loss: 0.2367 - val_loss: 0.3178\n",
      "\n",
      "Epoch 00015: val_loss improved from 0.33684 to 0.31778, saving model to /content/drive/MyDrive/Colab Notebooks/ass-28/test_save1/best.h5\n",
      "Epoch 16/50\n",
      "275/275 [==============================] - 234s 851ms/step - loss: 0.2130 - val_loss: 0.3010\n",
      "\n",
      "Epoch 00016: val_loss improved from 0.31778 to 0.30096, saving model to /content/drive/MyDrive/Colab Notebooks/ass-28/test_save1/best.h5\n",
      "Epoch 17/50\n",
      "275/275 [==============================] - 234s 851ms/step - loss: 0.1932 - val_loss: 0.2899\n",
      "\n",
      "Epoch 00017: val_loss improved from 0.30096 to 0.28986, saving model to /content/drive/MyDrive/Colab Notebooks/ass-28/test_save1/best.h5\n",
      "Epoch 18/50\n",
      "275/275 [==============================] - 234s 850ms/step - loss: 0.1756 - val_loss: 0.2784\n",
      "\n",
      "Epoch 00018: val_loss improved from 0.28986 to 0.27836, saving model to /content/drive/MyDrive/Colab Notebooks/ass-28/test_save1/best.h5\n",
      "Epoch 19/50\n",
      "275/275 [==============================] - 234s 850ms/step - loss: 0.1603 - val_loss: 0.2692\n",
      "\n",
      "Epoch 00019: val_loss improved from 0.27836 to 0.26916, saving model to /content/drive/MyDrive/Colab Notebooks/ass-28/test_save1/best.h5\n",
      "Epoch 20/50\n",
      "275/275 [==============================] - 234s 850ms/step - loss: 0.1463 - val_loss: 0.2618\n",
      "\n",
      "Epoch 00020: val_loss improved from 0.26916 to 0.26182, saving model to /content/drive/MyDrive/Colab Notebooks/ass-28/test_save1/best.h5\n",
      "Epoch 21/50\n",
      "275/275 [==============================] - 234s 850ms/step - loss: 0.1342 - val_loss: 0.2559\n",
      "\n",
      "Epoch 00021: val_loss improved from 0.26182 to 0.25594, saving model to /content/drive/MyDrive/Colab Notebooks/ass-28/test_save1/best.h5\n",
      "Epoch 22/50\n",
      "275/275 [==============================] - 233s 849ms/step - loss: 0.1249 - val_loss: 0.2499\n",
      "\n",
      "Epoch 00022: val_loss improved from 0.25594 to 0.24995, saving model to /content/drive/MyDrive/Colab Notebooks/ass-28/test_save1/best.h5\n",
      "Epoch 23/50\n",
      "275/275 [==============================] - 233s 849ms/step - loss: 0.1133 - val_loss: 0.2459\n",
      "\n",
      "Epoch 00023: val_loss improved from 0.24995 to 0.24592, saving model to /content/drive/MyDrive/Colab Notebooks/ass-28/test_save1/best.h5\n",
      "Epoch 24/50\n",
      "275/275 [==============================] - 234s 849ms/step - loss: 0.1058 - val_loss: 0.2416\n",
      "\n",
      "Epoch 00024: val_loss improved from 0.24592 to 0.24158, saving model to /content/drive/MyDrive/Colab Notebooks/ass-28/test_save1/best.h5\n",
      "Epoch 25/50\n",
      "275/275 [==============================] - 234s 850ms/step - loss: 0.0974 - val_loss: 0.2378\n",
      "\n",
      "Epoch 00025: val_loss improved from 0.24158 to 0.23784, saving model to /content/drive/MyDrive/Colab Notebooks/ass-28/test_save1/best.h5\n",
      "Epoch 26/50\n",
      "275/275 [==============================] - 234s 850ms/step - loss: 0.0898 - val_loss: 0.2354\n",
      "\n",
      "Epoch 00026: val_loss improved from 0.23784 to 0.23538, saving model to /content/drive/MyDrive/Colab Notebooks/ass-28/test_save1/best.h5\n",
      "Epoch 27/50\n",
      "275/275 [==============================] - 234s 850ms/step - loss: 0.0830 - val_loss: 0.2324\n",
      "\n",
      "Epoch 00027: val_loss improved from 0.23538 to 0.23242, saving model to /content/drive/MyDrive/Colab Notebooks/ass-28/test_save1/best.h5\n",
      "Epoch 28/50\n",
      "275/275 [==============================] - 234s 850ms/step - loss: 0.0764 - val_loss: 0.2316\n",
      "\n",
      "Epoch 00028: val_loss improved from 0.23242 to 0.23159, saving model to /content/drive/MyDrive/Colab Notebooks/ass-28/test_save1/best.h5\n",
      "Epoch 29/50\n",
      "275/275 [==============================] - 234s 852ms/step - loss: 0.0723 - val_loss: 0.2297\n",
      "\n",
      "Epoch 00029: val_loss improved from 0.23159 to 0.22974, saving model to /content/drive/MyDrive/Colab Notebooks/ass-28/test_save1/best.h5\n",
      "Epoch 30/50\n",
      "275/275 [==============================] - 233s 849ms/step - loss: 0.0675 - val_loss: 0.2287\n",
      "\n",
      "Epoch 00030: val_loss improved from 0.22974 to 0.22874, saving model to /content/drive/MyDrive/Colab Notebooks/ass-28/test_save1/best.h5\n",
      "Epoch 31/50\n",
      "275/275 [==============================] - 234s 850ms/step - loss: 0.0625 - val_loss: 0.2277\n",
      "\n",
      "Epoch 00031: val_loss improved from 0.22874 to 0.22766, saving model to /content/drive/MyDrive/Colab Notebooks/ass-28/test_save1/best.h5\n",
      "Epoch 32/50\n",
      "275/275 [==============================] - 234s 849ms/step - loss: 0.0585 - val_loss: 0.2269\n",
      "\n",
      "Epoch 00032: val_loss improved from 0.22766 to 0.22691, saving model to /content/drive/MyDrive/Colab Notebooks/ass-28/test_save1/best.h5\n",
      "Epoch 33/50\n",
      "275/275 [==============================] - 234s 849ms/step - loss: 0.0539 - val_loss: 0.2261\n",
      "\n",
      "Epoch 00033: val_loss improved from 0.22691 to 0.22605, saving model to /content/drive/MyDrive/Colab Notebooks/ass-28/test_save1/best.h5\n",
      "Epoch 34/50\n",
      "275/275 [==============================] - 234s 850ms/step - loss: 0.0507 - val_loss: 0.2273\n",
      "\n",
      "Epoch 00034: val_loss did not improve from 0.22605\n",
      "Epoch 35/50\n",
      "275/275 [==============================] - 233s 849ms/step - loss: 0.0480 - val_loss: 0.2265\n",
      "\n",
      "Epoch 00035: val_loss did not improve from 0.22605\n",
      "Epoch 36/50\n",
      "275/275 [==============================] - 233s 848ms/step - loss: 0.0460 - val_loss: 0.2274\n",
      "\n",
      "Epoch 00036: val_loss did not improve from 0.22605\n",
      "Epoch 37/50\n",
      "275/275 [==============================] - 233s 849ms/step - loss: 0.0420 - val_loss: 0.2277\n",
      "\n",
      "Epoch 00037: val_loss did not improve from 0.22605\n",
      "Epoch 38/50\n",
      "275/275 [==============================] - 233s 849ms/step - loss: 0.0402 - val_loss: 0.2293\n",
      "\n",
      "Epoch 00038: val_loss did not improve from 0.22605\n",
      "Epoch 39/50\n",
      "275/275 [==============================] - 233s 849ms/step - loss: 0.0380 - val_loss: 0.2307\n",
      "\n",
      "Epoch 00039: val_loss did not improve from 0.22605\n",
      "Epoch 40/50\n",
      "275/275 [==============================] - 233s 848ms/step - loss: 0.0376 - val_loss: 0.2312\n",
      "\n",
      "Epoch 00040: val_loss did not improve from 0.22605\n",
      "Epoch 41/50\n",
      "275/275 [==============================] - 233s 849ms/step - loss: 0.0341 - val_loss: 0.2331\n",
      "\n",
      "Epoch 00041: val_loss did not improve from 0.22605\n",
      "Epoch 42/50\n",
      "275/275 [==============================] - 233s 848ms/step - loss: 0.0329 - val_loss: 0.2313\n",
      "\n",
      "Epoch 00042: val_loss did not improve from 0.22605\n",
      "Epoch 43/50\n",
      "275/275 [==============================] - 233s 848ms/step - loss: 0.0305 - val_loss: 0.2325\n",
      "\n",
      "Epoch 00043: val_loss did not improve from 0.22605\n",
      "Epoch 44/50\n",
      "275/275 [==============================] - 234s 849ms/step - loss: 0.0298 - val_loss: 0.2328\n",
      "\n",
      "Epoch 00044: val_loss did not improve from 0.22605\n",
      "Epoch 45/50\n",
      "275/275 [==============================] - 234s 849ms/step - loss: 0.0279 - val_loss: 0.2342\n",
      "\n",
      "Epoch 00045: val_loss did not improve from 0.22605\n",
      "Epoch 46/50\n",
      "275/275 [==============================] - 234s 850ms/step - loss: 0.0264 - val_loss: 0.2360\n",
      "\n",
      "Epoch 00046: val_loss did not improve from 0.22605\n",
      "Epoch 47/50\n",
      "275/275 [==============================] - 234s 849ms/step - loss: 0.0264 - val_loss: 0.2378\n",
      "\n",
      "Epoch 00047: val_loss did not improve from 0.22605\n",
      "Epoch 48/50\n",
      "275/275 [==============================] - 234s 850ms/step - loss: 0.0268 - val_loss: 0.2434\n",
      "\n",
      "Epoch 00048: val_loss did not improve from 0.22605\n",
      "Epoch 49/50\n",
      "275/275 [==============================] - 234s 850ms/step - loss: 0.0264 - val_loss: 0.2409\n",
      "\n",
      "Epoch 00049: val_loss did not improve from 0.22605\n",
      "Epoch 50/50\n",
      "275/275 [==============================] - 234s 851ms/step - loss: 0.0238 - val_loss: 0.2410\n",
      "\n",
      "Epoch 00050: val_loss did not improve from 0.22605\n"
     ]
    },
    {
     "data": {
      "text/plain": [
       "<tensorflow.python.keras.callbacks.History at 0x7eff4d571bd0>"
      ]
     },
     "execution_count": 60,
     "metadata": {
      "tags": []
     },
     "output_type": "execute_result"
    }
   ],
   "source": [
    "# TRAIN STEPS\n",
    "train_steps = train_dataloader.__len__()\n",
    "# VALIDATION STEPS\n",
    "val_steps  = val_dataloader.__len__()\n",
    "# CALLBACKS FOR SAVING THE MODEL\n",
    "callback = [tf.keras.callbacks.ModelCheckpoint(\"/content/drive/MyDrive/Colab Notebooks/ass-28/test_save1/best.h5\",\"val_loss\",verbose=1,save_best_only=True,save_weights_only=True)\n",
    "            ]\n",
    "# COMPILIG THE MODEL WITH ADAM OPTIMIZER AND LOSS AS SPARSE CROSS ENROPY WITH LOGITS EQUAL TO TRUE\n",
    "model.compile(optimizer=\"adam\",loss=tf.keras.losses.SparseCategoricalCrossentropy(from_logits=True,reduction=\"none\" ))\n",
    "# FITTING THE MODEL\n",
    "model.fit(train_dataloader, steps_per_epoch=train_steps,epochs= 50,validation_data = val_dataloader,validation_steps =val_steps,callbacks=callback)"
   ]
  },
  {
   "cell_type": "code",
   "execution_count": 245,
   "metadata": {
    "executionInfo": {
     "elapsed": 6,
     "status": "ok",
     "timestamp": 1624277873679,
     "user": {
      "displayName": "Namnesh Goyal",
      "photoUrl": "",
      "userId": "04336517495820410220"
     },
     "user_tz": -330
    },
    "id": "JcukXvmNBrNB"
   },
   "outputs": [],
   "source": [
    "model.load_weights(\"/content/drive/MyDrive/Colab Notebooks/ass-28/test_save1/best.h5\")"
   ]
  },
  {
   "cell_type": "markdown",
   "metadata": {
    "id": "UYYpFTWpfENH"
   },
   "source": [
    "## Prediction"
   ]
  },
  {
   "cell_type": "code",
   "execution_count": 246,
   "metadata": {
    "executionInfo": {
     "elapsed": 770,
     "status": "ok",
     "timestamp": 1624277881942,
     "user": {
      "displayName": "Namnesh Goyal",
      "photoUrl": "",
      "userId": "04336517495820410220"
     },
     "user_tz": -330
    },
    "id": "MhvVlZjs61iq"
   },
   "outputs": [],
   "source": [
    "def predict(ita_text,model):\n",
    "    '''THIS FUNCTION IS USED IN INFERENCE TIME WHICH GIVEN ANY SENTENCE IN ITALIAN OUTPUTS THE ENGLISH SENTENCE AND ALPHA VALUES'''\n",
    "    # FORMING TOKENIZED SEQUENCES FOR INPUT SENTENCE\n",
    "    seq = tk_ita.texts_to_sequences([ita_text])\n",
    "    \n",
    "    # PADDING THE SEQUENCES\n",
    "    seq = pad_sequences(seq,maxlen = 20 , padding=\"post\")\n",
    "    \n",
    "    # INITIALIZING THE STATES FOR INPUTING TO ENCODER\n",
    "    state = model.layers[0].initialize(1)\n",
    "    \n",
    "    # GETTING THE ENCODED OUTPUT\n",
    "    enc_output,state_h,state_c= model.layers[0](seq,state)\n",
    "    \n",
    "    \n",
    "    # VARIABLE TO STORE PREDICTED SENTENCE\n",
    "    pred = []\n",
    "    \n",
    "    # THIS VARIABLE STORES THE STATE TO BE INPUTED TO ONE STEP ENCODER\n",
    "    input_state_h = state_h\n",
    "    input_state_c = state_c\n",
    "    \n",
    "    # THIS VARIABLE STORES THE VECTOR TO VE INPUTED TO ONE STEP ENCODER\n",
    "    current_vec = tf.ones((1,1))\n",
    "    # THIS VARIABLE WILL STORE ALL THE ALPHA VALUES OUTPUTS\n",
    "    alpha_values = []\n",
    "    \n",
    "    for i in range(20):\n",
    "        # PASSING THE REQUIRED VARIABLE TO ONE STEP ENCODER LAYER\n",
    "        fc , dec_state_h , alphas = model.layers[1].layers[0](enc_output , current_vec ,input_state_h )\n",
    "        #APPENDING THE ALPHA VALUES TO THE LIST \"alpha_values\"\n",
    "        alpha_values.append(alphas)\n",
    "        \n",
    "        # UPDATING THE CURRENT VECTOR \n",
    "        current_vec = np.argmax(fc , axis = -1)\n",
    "        # UPDATING THE INPUT STATE\n",
    "        input_state_h = dec_state_h\n",
    "        # GETTING THE ACTUAL WORDS FRO THE TOKENIZED INDEXES\n",
    "        pred.append(tk_eng.index_word[current_vec[0][0]])\n",
    "        # IF THE WORD \"<end>\" COMES THE LOOP WILL BREAK\n",
    "        if tk_eng.index_word[current_vec[0][0]]==\"<end>\":\n",
    "              break\n",
    "    # JOINING THE PREDICTED WORDS\n",
    "    pred_sent = \" \".join(pred)\n",
    "    \n",
    "    # CONCATINATING ALL THE ALPHA VALUES\n",
    "    alpha_values = tf.squeeze(tf.concat(alpha_values,axis=-1),axis=0)\n",
    "    \n",
    "    # RETURNING THE PREDICTED SENTENCE AND ALPHA VALUES\n",
    "    return  pred_sent , alpha_values"
   ]
  },
  {
   "cell_type": "code",
   "execution_count": 247,
   "metadata": {
    "executionInfo": {
     "elapsed": 4,
     "status": "ok",
     "timestamp": 1624277881943,
     "user": {
      "displayName": "Namnesh Goyal",
      "photoUrl": "",
      "userId": "04336517495820410220"
     },
     "user_tz": -330
    },
    "id": "zSDmS-a_SW1g"
   },
   "outputs": [],
   "source": [
    "import seaborn as sns\n",
    "import matplotlib.pyplot as plt\n",
    "\n",
    "\n",
    "def plot( input_sent , output_sent , alpha ) :\n",
    "    '''THIS FUNCTION PLOTS THE ALPHA VALUES IN FORM OF HEAT MAPS'''\n",
    "    \n",
    "    input_words = input_sent.split() # SPLITTING THE INPUT SENTENCE\n",
    "    output_words = output_sent.split() # SPLITTING THE OUTPUT SENTENCE\n",
    "    \n",
    "    fig, ax = plt.subplots()\n",
    "    sns.set_style(\"darkgrid\")\n",
    "    # HEAT MAP WITH ALPHA VALURS \n",
    "    # X LABELS ARE THE OUTPUT WORDS \n",
    "    # T LABELS ARE THE INPUT WORDS\n",
    "    sns.heatmap(alpha, xticklabels= output_words , yticklabels=input_words,linewidths=0.01)\n",
    "    # PLACING THE TICKS ON  THE TOP\n",
    "    ax.xaxis.tick_top( ) \n",
    "    plt.show()"
   ]
  },
  {
   "cell_type": "markdown",
   "metadata": {},
   "source": [
    "### Predinting Some Random Results"
   ]
  },
  {
   "cell_type": "code",
   "execution_count": 248,
   "metadata": {
    "colab": {
     "base_uri": "https://localhost:8080/",
     "height": 339
    },
    "executionInfo": {
     "elapsed": 844,
     "status": "ok",
     "timestamp": 1624277883624,
     "user": {
      "displayName": "Namnesh Goyal",
      "photoUrl": "",
      "userId": "04336517495820410220"
     },
     "user_tz": -330
    },
    "id": "UYiSI5aBgV6H",
    "outputId": "9e715a03-17ff-4074-abab-95f9d45309dc"
   },
   "outputs": [
    {
     "name": "stdout",
     "output_type": "stream",
     "text": [
      "Input=> avevo il jet lag\n",
      "Predicted=> i had jet lag <end>\n",
      "Actual=> i had jet lag <end>\n",
      "==================================================\n"
     ]
    },
    {
     "data": {
      "image/png": "[encoded data removed]",
      "text/plain": [
       "<Figure size 432x288 with 2 Axes>"
      ]
     },
     "metadata": {
      "tags": []
     },
     "output_type": "display_data"
    }
   ],
   "source": [
    "random = np.random.randint(0,2000,1)[0]\n",
    "print(\"Input=>\",validation.italian.values[random])\n",
    "print(\"Predicted=>\", predict( validation.italian.values[random] , model)[0])\n",
    "print(\"Actual=>\",validation.english_out.values[random])\n",
    "print(\"=\"*50)\n",
    "plot( validation.italian.values[random] , predict( validation.italian.values[random] , model)[0], predict( validation.italian.values[random] , model)[1] )"
   ]
  },
  {
   "cell_type": "code",
   "execution_count": 249,
   "metadata": {
    "colab": {
     "base_uri": "https://localhost:8080/",
     "height": 339
    },
    "executionInfo": {
     "elapsed": 1610,
     "status": "ok",
     "timestamp": 1624277891728,
     "user": {
      "displayName": "Namnesh Goyal",
      "photoUrl": "",
      "userId": "04336517495820410220"
     },
     "user_tz": -330
    },
    "id": "SxrPxC8aqasD",
    "outputId": "2cad53d9-a306-4f2d-ca7e-c21a597b060c"
   },
   "outputs": [
    {
     "name": "stdout",
     "output_type": "stream",
     "text": [
      "Input=> lui  seduto di fianco a suo fratello\n",
      "Predicted=> he sat next to his brother <end>\n",
      "Actual=> he was sitting side by side with his brother <end>\n",
      "==================================================\n"
     ]
    },
    {
     "data": {
      "image/png": "[encoded data removed]",
      "text/plain": [
       "<Figure size 432x288 with 2 Axes>"
      ]
     },
     "metadata": {
      "tags": []
     },
     "output_type": "display_data"
    }
   ],
   "source": [
    "random = np.random.randint(0,2000,1)[0]\n",
    "print(\"Input=>\",validation.italian.values[random])\n",
    "print(\"Predicted=>\", predict( validation.italian.values[random] , model)[0])\n",
    "print(\"Actual=>\",validation.english_out.values[random])\n",
    "print(\"=\"*50)\n",
    "plot( validation.italian.values[random] , predict( validation.italian.values[random] , model)[0], predict( validation.italian.values[random] , model)[1] )"
   ]
  },
  {
   "cell_type": "code",
   "execution_count": 250,
   "metadata": {
    "colab": {
     "base_uri": "https://localhost:8080/",
     "height": 339
    },
    "executionInfo": {
     "elapsed": 1008,
     "status": "ok",
     "timestamp": 1624277900320,
     "user": {
      "displayName": "Namnesh Goyal",
      "photoUrl": "",
      "userId": "04336517495820410220"
     },
     "user_tz": -330
    },
    "id": "X3d6dhUYqavP",
    "outputId": "f76ab281-a9b6-44cc-f13d-0b08a679ec3a"
   },
   "outputs": [
    {
     "name": "stdout",
     "output_type": "stream",
     "text": [
      "Input=> lui sembra forte\n",
      "Predicted=> he looks strong <end>\n",
      "Actual=> he looks strong <end>\n",
      "==================================================\n"
     ]
    },
    {
     "data": {
      "image/png": "[encoded data removed]",
      "text/plain": [
       "<Figure size 432x288 with 2 Axes>"
      ]
     },
     "metadata": {
      "tags": []
     },
     "output_type": "display_data"
    }
   ],
   "source": [
    "random = np.random.randint(0,2000,1)[0]\n",
    "print(\"Input=>\",validation.italian.values[random])\n",
    "print(\"Predicted=>\", predict( validation.italian.values[random] , model)[0])\n",
    "print(\"Actual=>\",validation.english_out.values[random])\n",
    "print(\"=\"*50)\n",
    "plot( validation.italian.values[random] , predict( validation.italian.values[random] , model)[0], predict( validation.italian.values[random] , model)[1] )"
   ]
  },
  {
   "cell_type": "code",
   "execution_count": 251,
   "metadata": {
    "colab": {
     "base_uri": "https://localhost:8080/",
     "height": 339
    },
    "executionInfo": {
     "elapsed": 1445,
     "status": "ok",
     "timestamp": 1624277905705,
     "user": {
      "displayName": "Namnesh Goyal",
      "photoUrl": "",
      "userId": "04336517495820410220"
     },
     "user_tz": -330
    },
    "id": "w4S1EySNqaxr",
    "outputId": "c23daccb-0450-4b9a-e98f-eb1fb84f16b0"
   },
   "outputs": [
    {
     "name": "stdout",
     "output_type": "stream",
     "text": [
      "Input=> io sono arrabbiato con lei\n",
      "Predicted=> i am angry with you <end>\n",
      "Actual=> i am angry with you <end>\n",
      "==================================================\n"
     ]
    },
    {
     "data": {
      "image/png": "[encoded data removed]",
      "text/plain": [
       "<Figure size 432x288 with 2 Axes>"
      ]
     },
     "metadata": {
      "tags": []
     },
     "output_type": "display_data"
    }
   ],
   "source": [
    "random = np.random.randint(0,2000,1)[0]\n",
    "print(\"Input=>\",validation.italian.values[random])\n",
    "print(\"Predicted=>\", predict( validation.italian.values[random] , model)[0])\n",
    "print(\"Actual=>\",validation.english_out.values[random])\n",
    "print(\"=\"*50)\n",
    "plot( validation.italian.values[random] , predict( validation.italian.values[random] , model)[0], predict( validation.italian.values[random] , model)[1] )"
   ]
  },
  {
   "cell_type": "code",
   "execution_count": 252,
   "metadata": {
    "colab": {
     "base_uri": "https://localhost:8080/",
     "height": 339
    },
    "executionInfo": {
     "elapsed": 811,
     "status": "ok",
     "timestamp": 1624277913983,
     "user": {
      "displayName": "Namnesh Goyal",
      "photoUrl": "",
      "userId": "04336517495820410220"
     },
     "user_tz": -330
    },
    "id": "5bWZBYGaKHet",
    "outputId": "744fa1b2-7556-445a-cb3b-b501859aa270"
   },
   "outputs": [
    {
     "name": "stdout",
     "output_type": "stream",
     "text": [
      "Input=>  allergico alla polvere domestica\n",
      "Predicted=> are you wearing my knee than i win <end>\n",
      "Actual=> he is allergic to house dust <end>\n",
      "==================================================\n"
     ]
    },
    {
     "data": {
      "image/png": "[encoded data removed]",
      "text/plain": [
       "<Figure size 432x288 with 2 Axes>"
      ]
     },
     "metadata": {
      "tags": []
     },
     "output_type": "display_data"
    }
   ],
   "source": [
    "random = np.random.randint(0,2000,1)[0]\n",
    "print(\"Input=>\",validation.italian.values[random])\n",
    "print(\"Predicted=>\", predict( validation.italian.values[random] , model)[0])\n",
    "print(\"Actual=>\",validation.english_out.values[random])\n",
    "print(\"=\"*50)\n",
    "plot( validation.italian.values[random] , predict( validation.italian.values[random] , model)[0], predict( validation.italian.values[random] , model)[1] )"
   ]
  },
  {
   "cell_type": "code",
   "execution_count": 253,
   "metadata": {
    "colab": {
     "base_uri": "https://localhost:8080/",
     "height": 339
    },
    "executionInfo": {
     "elapsed": 1114,
     "status": "ok",
     "timestamp": 1624277916530,
     "user": {
      "displayName": "Namnesh Goyal",
      "photoUrl": "",
      "userId": "04336517495820410220"
     },
     "user_tz": -330
    },
    "id": "SpO6OjjIKHb3",
    "outputId": "4d56c3c5-3fcb-4302-fdf2-3cebca8bf6fc"
   },
   "outputs": [
    {
     "name": "stdout",
     "output_type": "stream",
     "text": [
      "Input=> tom ha tagliato a fette la mela\n",
      "Predicted=> tom sliced the apple to <end>\n",
      "Actual=> tom sliced the apple <end>\n",
      "==================================================\n"
     ]
    },
    {
     "data": {
      "image/png": "[encoded data removed]",
      "text/plain": [
       "<Figure size 432x288 with 2 Axes>"
      ]
     },
     "metadata": {
      "tags": []
     },
     "output_type": "display_data"
    }
   ],
   "source": [
    "random = np.random.randint(0,2000,1)[0]\n",
    "print(\"Input=>\",validation.italian.values[random])\n",
    "print(\"Predicted=>\", predict( validation.italian.values[random] , model)[0])\n",
    "print(\"Actual=>\",validation.english_out.values[random])\n",
    "print(\"=\"*50)\n",
    "plot( validation.italian.values[random] , predict( validation.italian.values[random] , model)[0], predict( validation.italian.values[random] , model)[1] )"
   ]
  },
  {
   "cell_type": "markdown",
   "metadata": {
    "id": "8KqT17-RfPnm"
   },
   "source": [
    "## BLEU Score for Concat Model"
   ]
  },
  {
   "cell_type": "code",
   "execution_count": 254,
   "metadata": {
    "executionInfo": {
     "elapsed": 853,
     "status": "ok",
     "timestamp": 1624277927897,
     "user": {
      "displayName": "Namnesh Goyal",
      "photoUrl": "",
      "userId": "04336517495820410220"
     },
     "user_tz": -330
    },
    "id": "WMZCpmgxWhZM"
   },
   "outputs": [],
   "source": [
    "import nltk.translate.bleu_score as bleu\n",
    "from tqdm import tqdm\n",
    "import warnings\n",
    "warnings.filterwarnings('ignore')"
   ]
  },
  {
   "cell_type": "code",
   "execution_count": 255,
   "metadata": {
    "colab": {
     "base_uri": "https://localhost:8080/"
    },
    "executionInfo": {
     "elapsed": 139598,
     "status": "ok",
     "timestamp": 1624278079780,
     "user": {
      "displayName": "Namnesh Goyal",
      "photoUrl": "",
      "userId": "04336517495820410220"
     },
     "user_tz": -330
    },
    "id": "hQsoqlv_WhSm",
    "outputId": "e42c1d79-8ede-492b-bff3-141415f727b6"
   },
   "outputs": [
    {
     "name": "stderr",
     "output_type": "stream",
     "text": [
      "1000it [02:18,  7.20it/s]"
     ]
    },
    {
     "name": "stdout",
     "output_type": "stream",
     "text": [
      "BLEU DOT Score =  0.8375976272129612\n"
     ]
    },
    {
     "name": "stderr",
     "output_type": "stream",
     "text": [
      "\n"
     ]
    }
   ],
   "source": [
    "BLEU = []\n",
    "\n",
    "test_data = validation.loc[np.random.choice(validation.index,size = 1000)][[\"italian\",\"english_out\"]]\n",
    "for ind,i in tqdm(test_data.iterrows()):\n",
    "    pred = predict(i.italian , model)[0]\n",
    "    act = i.english_out\n",
    "    b =bleu.sentence_bleu(act,pred)\n",
    "    BLEU.append(b)\n",
    "\n",
    "print(\"BLEU DOT Score = \",np.mean(BLEU))"
   ]
  },
  {
   "cell_type": "code",
   "execution_count": null,
   "metadata": {
    "id": "GzkcmA55WhPZ"
   },
   "outputs": [],
   "source": []
  },
  {
   "cell_type": "code",
   "execution_count": null,
   "metadata": {
    "id": "ojSU1PdvROub"
   },
   "outputs": [],
   "source": []
  }
 ],
 "metadata": {
  "colab": {
   "collapsed_sections": [],
   "name": "Final_Concat_model.ipynb",
   "provenance": []
  },
  "kernelspec": {
   "display_name": "Python 3",
   "language": "python",
   "name": "python3"
  },
  "language_info": {
   "codemirror_mode": {
    "name": "ipython",
    "version": 3
   },
   "file_extension": ".py",
   "mimetype": "text/x-python",
   "name": "python",
   "nbconvert_exporter": "python",
   "pygments_lexer": "ipython3",
   "version": "3.7.6"
  }
 },
 "nbformat": 4,
 "nbformat_minor": 1
}
