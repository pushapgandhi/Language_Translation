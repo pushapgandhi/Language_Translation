{
 "cells": [
  {
   "cell_type": "markdown",
   "metadata": {},
   "source": [
    "# Dot Attention Model"
   ]
  },
  {
   "cell_type": "code",
   "execution_count": 1,
   "metadata": {
    "colab": {
     "base_uri": "https://localhost:8080/"
    },
    "executionInfo": {
     "elapsed": 29517,
     "status": "ok",
     "timestamp": 1624295306805,
     "user": {
      "displayName": "Namnesh Goyal",
      "photoUrl": "",
      "userId": "04336517495820410220"
     },
     "user_tz": -330
    },
    "id": "A0VvDFUbCiSy",
    "outputId": "b9b67c9f-e4bb-4a59-97f9-cbdd8a1cf882"
   },
   "outputs": [
    {
     "name": "stdout",
     "output_type": "stream",
     "text": [
      "Mounted at /content/drive\n"
     ]
    }
   ],
   "source": [
    "from google.colab import drive\n",
    "drive.mount('/content/drive')"
   ]
  },
  {
   "cell_type": "code",
   "execution_count": 1,
   "metadata": {
    "executionInfo": {
     "elapsed": 1406,
     "status": "ok",
     "timestamp": 1624295308199,
     "user": {
      "displayName": "Namnesh Goyal",
      "photoUrl": "",
      "userId": "04336517495820410220"
     },
     "user_tz": -330
    },
    "id": "uiSey5qICuQu"
   },
   "outputs": [],
   "source": [
    "import pandas as pd\n",
    "import numpy as np\n",
    "import tensorflow as tf\n",
    "import re"
   ]
  },
  {
   "cell_type": "markdown",
   "metadata": {
    "id": "Dt9mf6bQdRPY"
   },
   "source": [
    "## Loading the Data"
   ]
  },
  {
   "cell_type": "code",
   "execution_count": 3,
   "metadata": {
    "colab": {
     "base_uri": "https://localhost:8080/",
     "height": 419
    },
    "executionInfo": {
     "elapsed": 2560,
     "status": "ok",
     "timestamp": 1624295313436,
     "user": {
      "displayName": "Namnesh Goyal",
      "photoUrl": "",
      "userId": "04336517495820410220"
     },
     "user_tz": -330
    },
    "id": "GECop4Q-C3uX",
    "outputId": "029b7432-fee5-4354-e4ca-5089613ff29c"
   },
   "outputs": [
    {
     "data": {
      "text/html": [
       "<div>\n",
       "<style scoped>\n",
       "    .dataframe tbody tr th:only-of-type {\n",
       "        vertical-align: middle;\n",
       "    }\n",
       "\n",
       "    .dataframe tbody tr th {\n",
       "        vertical-align: top;\n",
       "    }\n",
       "\n",
       "    .dataframe thead th {\n",
       "        text-align: right;\n",
       "    }\n",
       "</style>\n",
       "<table border=\"1\" class=\"dataframe\">\n",
       "  <thead>\n",
       "    <tr style=\"text-align: right;\">\n",
       "      <th></th>\n",
       "      <th>english</th>\n",
       "      <th>italian</th>\n",
       "    </tr>\n",
       "  </thead>\n",
       "  <tbody>\n",
       "    <tr>\n",
       "      <th>0</th>\n",
       "      <td>Hi.</td>\n",
       "      <td>Ciao!</td>\n",
       "    </tr>\n",
       "    <tr>\n",
       "      <th>1</th>\n",
       "      <td>Run!</td>\n",
       "      <td>Corri!</td>\n",
       "    </tr>\n",
       "    <tr>\n",
       "      <th>2</th>\n",
       "      <td>Run!</td>\n",
       "      <td>Corra!</td>\n",
       "    </tr>\n",
       "    <tr>\n",
       "      <th>3</th>\n",
       "      <td>Run!</td>\n",
       "      <td>Correte!</td>\n",
       "    </tr>\n",
       "    <tr>\n",
       "      <th>4</th>\n",
       "      <td>Who?</td>\n",
       "      <td>Chi?</td>\n",
       "    </tr>\n",
       "    <tr>\n",
       "      <th>...</th>\n",
       "      <td>...</td>\n",
       "      <td>...</td>\n",
       "    </tr>\n",
       "    <tr>\n",
       "      <th>345239</th>\n",
       "      <td>If you want to sound like a native speaker, yo...</td>\n",
       "      <td>Se vuoi sembrare un madrelingua, devi essere d...</td>\n",
       "    </tr>\n",
       "    <tr>\n",
       "      <th>345240</th>\n",
       "      <td>If you want to sound like a native speaker, yo...</td>\n",
       "      <td>Se vuoi sembrare un madrelingua, devi essere d...</td>\n",
       "    </tr>\n",
       "    <tr>\n",
       "      <th>345241</th>\n",
       "      <td>If someone who doesn't know your background sa...</td>\n",
       "      <td>Se qualcuno che non conosce il tuo background ...</td>\n",
       "    </tr>\n",
       "    <tr>\n",
       "      <th>345242</th>\n",
       "      <td>Doubtless there exists in this world precisely...</td>\n",
       "      <td>Senza dubbio esiste in questo mondo proprio la...</td>\n",
       "    </tr>\n",
       "    <tr>\n",
       "      <th>345243</th>\n",
       "      <td>Doubtless there exists in this world precisely...</td>\n",
       "      <td>Senza dubbio esiste in questo mondo proprio la...</td>\n",
       "    </tr>\n",
       "  </tbody>\n",
       "</table>\n",
       "<p>345244 rows × 2 columns</p>\n",
       "</div>"
      ],
      "text/plain": [
       "                                                  english                                            italian\n",
       "0                                                     Hi.                                              Ciao!\n",
       "1                                                    Run!                                             Corri!\n",
       "2                                                    Run!                                             Corra!\n",
       "3                                                    Run!                                           Correte!\n",
       "4                                                    Who?                                               Chi?\n",
       "...                                                   ...                                                ...\n",
       "345239  If you want to sound like a native speaker, yo...  Se vuoi sembrare un madrelingua, devi essere d...\n",
       "345240  If you want to sound like a native speaker, yo...  Se vuoi sembrare un madrelingua, devi essere d...\n",
       "345241  If someone who doesn't know your background sa...  Se qualcuno che non conosce il tuo background ...\n",
       "345242  Doubtless there exists in this world precisely...  Senza dubbio esiste in questo mondo proprio la...\n",
       "345243  Doubtless there exists in this world precisely...  Senza dubbio esiste in questo mondo proprio la...\n",
       "\n",
       "[345244 rows x 2 columns]"
      ]
     },
     "execution_count": 3,
     "metadata": {
      "tags": []
     },
     "output_type": "execute_result"
    }
   ],
   "source": [
    "df = pd.read_csv('/content/drive/MyDrive/Colab Notebooks/ass-28/ita.txt', delimiter = \"\\t\",names = [\"english\",\"italian\",\"z\"]).drop(\"z\",axis=1)\n",
    "df"
   ]
  },
  {
   "cell_type": "markdown",
   "metadata": {
    "id": "7E6byhi8dYMB"
   },
   "source": [
    "## Preprocess Data"
   ]
  },
  {
   "cell_type": "code",
   "execution_count": 4,
   "metadata": {
    "executionInfo": {
     "elapsed": 9,
     "status": "ok",
     "timestamp": 1624295313437,
     "user": {
      "displayName": "Namnesh Goyal",
      "photoUrl": "",
      "userId": "04336517495820410220"
     },
     "user_tz": -330
    },
    "id": "wts_LAoHC3xd"
   },
   "outputs": [],
   "source": [
    "def decontracted(phrase):\n",
    "    # specific\n",
    "    phrase = re.sub(r\"won\\'t\", \"will not\", phrase)\n",
    "    phrase = re.sub(r\"can\\'t\", \"can not\", phrase)\n",
    "\n",
    "    # general\n",
    "    phrase = re.sub(r\"n\\'t\", \" not\", phrase)\n",
    "    phrase = re.sub(r\"\\'re\", \" are\", phrase)\n",
    "    phrase = re.sub(r\"\\'s\", \" is\", phrase)\n",
    "    phrase = re.sub(r\"\\'d\", \" would\", phrase)\n",
    "    phrase = re.sub(r\"\\'ll\", \" will\", phrase)\n",
    "    phrase = re.sub(r\"\\'t\", \" not\", phrase)\n",
    "    phrase = re.sub(r\"\\'ve\", \" have\", phrase)\n",
    "    phrase = re.sub(r\"\\'m\", \" am\", phrase)\n",
    "    return phrase\n",
    "def preprocessor(text):\n",
    "    text = text.lower()\n",
    "    text = decontracted(text)\n",
    "    text = re.sub(\"[^A-Za-z0-9 ]+\",'',text)\n",
    "    return text\n",
    "def preprocessor_ita(text):\n",
    "    text = text.lower()\n",
    "    text = decontracted(text)\n",
    "    text = re.sub(\"[^A-Za-z0-9 ]+\",'',text)\n",
    "    return text\n"
   ]
  },
  {
   "cell_type": "code",
   "execution_count": 5,
   "metadata": {
    "colab": {
     "base_uri": "https://localhost:8080/",
     "height": 419
    },
    "executionInfo": {
     "elapsed": 8500,
     "status": "ok",
     "timestamp": 1624295321930,
     "user": {
      "displayName": "Namnesh Goyal",
      "photoUrl": "",
      "userId": "04336517495820410220"
     },
     "user_tz": -330
    },
    "id": "fBrkwooSC30V",
    "outputId": "20aa59f7-e861-493f-9fe0-8bb3e05e95fe"
   },
   "outputs": [
    {
     "data": {
      "text/html": [
       "<div>\n",
       "<style scoped>\n",
       "    .dataframe tbody tr th:only-of-type {\n",
       "        vertical-align: middle;\n",
       "    }\n",
       "\n",
       "    .dataframe tbody tr th {\n",
       "        vertical-align: top;\n",
       "    }\n",
       "\n",
       "    .dataframe thead th {\n",
       "        text-align: right;\n",
       "    }\n",
       "</style>\n",
       "<table border=\"1\" class=\"dataframe\">\n",
       "  <thead>\n",
       "    <tr style=\"text-align: right;\">\n",
       "      <th></th>\n",
       "      <th>english</th>\n",
       "      <th>italian</th>\n",
       "    </tr>\n",
       "  </thead>\n",
       "  <tbody>\n",
       "    <tr>\n",
       "      <th>0</th>\n",
       "      <td>hi</td>\n",
       "      <td>ciao</td>\n",
       "    </tr>\n",
       "    <tr>\n",
       "      <th>1</th>\n",
       "      <td>run</td>\n",
       "      <td>corri</td>\n",
       "    </tr>\n",
       "    <tr>\n",
       "      <th>2</th>\n",
       "      <td>run</td>\n",
       "      <td>corra</td>\n",
       "    </tr>\n",
       "    <tr>\n",
       "      <th>3</th>\n",
       "      <td>run</td>\n",
       "      <td>correte</td>\n",
       "    </tr>\n",
       "    <tr>\n",
       "      <th>4</th>\n",
       "      <td>who</td>\n",
       "      <td>chi</td>\n",
       "    </tr>\n",
       "    <tr>\n",
       "      <th>...</th>\n",
       "      <td>...</td>\n",
       "      <td>...</td>\n",
       "    </tr>\n",
       "    <tr>\n",
       "      <th>345239</th>\n",
       "      <td>if you want to sound like a native speaker you...</td>\n",
       "      <td>se vuoi sembrare un madrelingua devi essere di...</td>\n",
       "    </tr>\n",
       "    <tr>\n",
       "      <th>345240</th>\n",
       "      <td>if you want to sound like a native speaker you...</td>\n",
       "      <td>se vuoi sembrare un madrelingua devi essere di...</td>\n",
       "    </tr>\n",
       "    <tr>\n",
       "      <th>345241</th>\n",
       "      <td>if someone who does not know your background s...</td>\n",
       "      <td>se qualcuno che non conosce il tuo background ...</td>\n",
       "    </tr>\n",
       "    <tr>\n",
       "      <th>345242</th>\n",
       "      <td>doubtless there exists in this world precisely...</td>\n",
       "      <td>senza dubbio esiste in questo mondo proprio la...</td>\n",
       "    </tr>\n",
       "    <tr>\n",
       "      <th>345243</th>\n",
       "      <td>doubtless there exists in this world precisely...</td>\n",
       "      <td>senza dubbio esiste in questo mondo proprio la...</td>\n",
       "    </tr>\n",
       "  </tbody>\n",
       "</table>\n",
       "<p>345244 rows × 2 columns</p>\n",
       "</div>"
      ],
      "text/plain": [
       "                                                  english                                            italian\n",
       "0                                                      hi                                               ciao\n",
       "1                                                     run                                              corri\n",
       "2                                                     run                                              corra\n",
       "3                                                     run                                            correte\n",
       "4                                                     who                                                chi\n",
       "...                                                   ...                                                ...\n",
       "345239  if you want to sound like a native speaker you...  se vuoi sembrare un madrelingua devi essere di...\n",
       "345240  if you want to sound like a native speaker you...  se vuoi sembrare un madrelingua devi essere di...\n",
       "345241  if someone who does not know your background s...  se qualcuno che non conosce il tuo background ...\n",
       "345242  doubtless there exists in this world precisely...  senza dubbio esiste in questo mondo proprio la...\n",
       "345243  doubtless there exists in this world precisely...  senza dubbio esiste in questo mondo proprio la...\n",
       "\n",
       "[345244 rows x 2 columns]"
      ]
     },
     "execution_count": 5,
     "metadata": {
      "tags": []
     },
     "output_type": "execute_result"
    }
   ],
   "source": [
    "# PREPROCESSED DATA INTO A DATAFRAME\n",
    "df[\"english\"] = df.english.apply(preprocessor)\n",
    "df[\"italian\"] = df.italian.apply(preprocessor_ita)\n",
    "df"
   ]
  },
  {
   "cell_type": "code",
   "execution_count": 6,
   "metadata": {
    "colab": {
     "base_uri": "https://localhost:8080/",
     "height": 521
    },
    "executionInfo": {
     "elapsed": 739,
     "status": "ok",
     "timestamp": 1624295322645,
     "user": {
      "displayName": "Namnesh Goyal",
      "photoUrl": "",
      "userId": "04336517495820410220"
     },
     "user_tz": -330
    },
    "id": "ObqJvTO8C33M",
    "outputId": "17699088-0fed-44e1-e420-da7dd3f832d7",
    "scrolled": false
   },
   "outputs": [
    {
     "name": "stderr",
     "output_type": "stream",
     "text": [
      "/usr/local/lib/python3.7/dist-packages/ipykernel_launcher.py:3: SettingWithCopyWarning: \n",
      "A value is trying to be set on a copy of a slice from a DataFrame.\n",
      "Try using .loc[row_indexer,col_indexer] = value instead\n",
      "\n",
      "See the caveats in the documentation: https://pandas.pydata.org/pandas-docs/stable/user_guide/indexing.html#returning-a-view-versus-a-copy\n",
      "  This is separate from the ipykernel package so we can avoid doing imports until\n"
     ]
    },
    {
     "data": {
      "text/html": [
       "<div>\n",
       "<style scoped>\n",
       "    .dataframe tbody tr th:only-of-type {\n",
       "        vertical-align: middle;\n",
       "    }\n",
       "\n",
       "    .dataframe tbody tr th {\n",
       "        vertical-align: top;\n",
       "    }\n",
       "\n",
       "    .dataframe thead th {\n",
       "        text-align: right;\n",
       "    }\n",
       "</style>\n",
       "<table border=\"1\" class=\"dataframe\">\n",
       "  <thead>\n",
       "    <tr style=\"text-align: right;\">\n",
       "      <th></th>\n",
       "      <th>italian</th>\n",
       "      <th>english_inp</th>\n",
       "      <th>english_out</th>\n",
       "    </tr>\n",
       "  </thead>\n",
       "  <tbody>\n",
       "    <tr>\n",
       "      <th>0</th>\n",
       "      <td>ciao</td>\n",
       "      <td>&lt;start&gt; hi</td>\n",
       "      <td>hi &lt;end&gt;</td>\n",
       "    </tr>\n",
       "    <tr>\n",
       "      <th>1</th>\n",
       "      <td>corri</td>\n",
       "      <td>&lt;start&gt; run</td>\n",
       "      <td>run &lt;end&gt;</td>\n",
       "    </tr>\n",
       "    <tr>\n",
       "      <th>2</th>\n",
       "      <td>corra</td>\n",
       "      <td>&lt;start&gt; run</td>\n",
       "      <td>run &lt;end&gt;</td>\n",
       "    </tr>\n",
       "    <tr>\n",
       "      <th>3</th>\n",
       "      <td>correte</td>\n",
       "      <td>&lt;start&gt; run</td>\n",
       "      <td>run &lt;end&gt;</td>\n",
       "    </tr>\n",
       "    <tr>\n",
       "      <th>4</th>\n",
       "      <td>chi</td>\n",
       "      <td>&lt;start&gt; who</td>\n",
       "      <td>who &lt;end&gt;</td>\n",
       "    </tr>\n",
       "    <tr>\n",
       "      <th>...</th>\n",
       "      <td>...</td>\n",
       "      <td>...</td>\n",
       "      <td>...</td>\n",
       "    </tr>\n",
       "    <tr>\n",
       "      <th>344915</th>\n",
       "      <td>charles moore cre il forth nel tentativo di au...</td>\n",
       "      <td>&lt;start&gt; charles moore created forth in an atte...</td>\n",
       "      <td>charles moore created forth in an attempt to i...</td>\n",
       "    </tr>\n",
       "    <tr>\n",
       "      <th>344998</th>\n",
       "      <td>se la tua azienda opera principalmente con lam...</td>\n",
       "      <td>&lt;start&gt; if your company primarily does busines...</td>\n",
       "      <td>if your company primarily does business with a...</td>\n",
       "    </tr>\n",
       "    <tr>\n",
       "      <th>344999</th>\n",
       "      <td>se la sua azienda opera principalmente con lam...</td>\n",
       "      <td>&lt;start&gt; if your company primarily does busines...</td>\n",
       "      <td>if your company primarily does business with a...</td>\n",
       "    </tr>\n",
       "    <tr>\n",
       "      <th>345000</th>\n",
       "      <td>se la vostra azienda opera principalmente con ...</td>\n",
       "      <td>&lt;start&gt; if your company primarily does busines...</td>\n",
       "      <td>if your company primarily does business with a...</td>\n",
       "    </tr>\n",
       "    <tr>\n",
       "      <th>345001</th>\n",
       "      <td>lintelligenza  fondata nella capacit di ricono...</td>\n",
       "      <td>&lt;start&gt; intelligence is found in the capacity ...</td>\n",
       "      <td>intelligence is found in the capacity to recog...</td>\n",
       "    </tr>\n",
       "  </tbody>\n",
       "</table>\n",
       "<p>344860 rows × 3 columns</p>\n",
       "</div>"
      ],
      "text/plain": [
       "                                                  italian  ...                                        english_out\n",
       "0                                                    ciao  ...                                           hi <end>\n",
       "1                                                   corri  ...                                          run <end>\n",
       "2                                                   corra  ...                                          run <end>\n",
       "3                                                 correte  ...                                          run <end>\n",
       "4                                                     chi  ...                                          who <end>\n",
       "...                                                   ...  ...                                                ...\n",
       "344915  charles moore cre il forth nel tentativo di au...  ...  charles moore created forth in an attempt to i...\n",
       "344998  se la tua azienda opera principalmente con lam...  ...  if your company primarily does business with a...\n",
       "344999  se la sua azienda opera principalmente con lam...  ...  if your company primarily does business with a...\n",
       "345000  se la vostra azienda opera principalmente con ...  ...  if your company primarily does business with a...\n",
       "345001  lintelligenza  fondata nella capacit di ricono...  ...  intelligence is found in the capacity to recog...\n",
       "\n",
       "[344860 rows x 3 columns]"
      ]
     },
     "execution_count": 6,
     "metadata": {
      "tags": []
     },
     "output_type": "execute_result"
    }
   ],
   "source": [
    "# REMOVING SENTENCES WITH LENGTH GREATER THAN 20\n",
    "df[\"eng_len\"] = df.english.apply(lambda x: len(x.split()))\n",
    "df = df[df.eng_len<=20]\n",
    "df[\"ita_len\"] = df.italian.apply(lambda x: len(x.split()))\n",
    "df  = df[df.ita_len<=20]\n",
    "# ADDING <start> TO THE BEGINING OF ENGLISH SENTENCES\n",
    "df[\"english_inp\"]= \"<start> \"+ df.english\n",
    "df[\"english_out\"]= df.english+ \" <end>\"\n",
    "df.drop([\"english\",\"eng_len\",\"ita_len\"],axis=1,inplace=True)\n",
    "df"
   ]
  },
  {
   "cell_type": "markdown",
   "metadata": {
    "id": "WhQdgzMVdcof"
   },
   "source": [
    " ## Train Test Split"
   ]
  },
  {
   "cell_type": "code",
   "execution_count": 2,
   "metadata": {
    "executionInfo": {
     "elapsed": 10,
     "status": "ok",
     "timestamp": 1624295323444,
     "user": {
      "displayName": "Namnesh Goyal",
      "photoUrl": "",
      "userId": "04336517495820410220"
     },
     "user_tz": -330
    },
    "id": "ZvM6sgCGC36I"
   },
   "outputs": [],
   "source": [
    "from sklearn.model_selection import train_test_split"
   ]
  },
  {
   "cell_type": "code",
   "execution_count": 8,
   "metadata": {
    "executionInfo": {
     "elapsed": 727,
     "status": "ok",
     "timestamp": 1624295324162,
     "user": {
      "displayName": "Namnesh Goyal",
      "photoUrl": "",
      "userId": "04336517495820410220"
     },
     "user_tz": -330
    },
    "id": "LxFu6nQ1DKrR"
   },
   "outputs": [],
   "source": [
    "train , validation = train_test_split(df,test_size = 0.2,random_state=33)\n",
    "#ADDING <end> RO THE END OF FIRST ENGLISH SENTENCE IN \"english_inp\"\n",
    "train.iloc[0][\"english_inp\"]  = train.iloc[0][\"english_inp\"] + \" <end>\""
   ]
  },
  {
   "cell_type": "code",
   "execution_count": 8,
   "metadata": {
    "executionInfo": {
     "elapsed": 9,
     "status": "ok",
     "timestamp": 1624279483948,
     "user": {
      "displayName": "Namnesh Goyal",
      "photoUrl": "",
      "userId": "04336517495820410220"
     },
     "user_tz": -330
    },
    "id": "ovJpqTbaDKuW"
   },
   "outputs": [],
   "source": []
  },
  {
   "cell_type": "markdown",
   "metadata": {
    "id": "x7LLyfLmdj5i"
   },
   "source": [
    "## Tokenization"
   ]
  },
  {
   "cell_type": "code",
   "execution_count": 3,
   "metadata": {
    "executionInfo": {
     "elapsed": 6,
     "status": "ok",
     "timestamp": 1624295324163,
     "user": {
      "displayName": "Namnesh Goyal",
      "photoUrl": "",
      "userId": "04336517495820410220"
     },
     "user_tz": -330
    },
    "id": "bBI8mQ5jDKxb"
   },
   "outputs": [],
   "source": [
    "from tensorflow.keras.preprocessing.text import Tokenizer\n",
    "from  tensorflow.keras.preprocessing.sequence import pad_sequences"
   ]
  },
  {
   "cell_type": "code",
   "execution_count": 10,
   "metadata": {
    "executionInfo": {
     "elapsed": 6891,
     "status": "ok",
     "timestamp": 1624295331048,
     "user": {
      "displayName": "Namnesh Goyal",
      "photoUrl": "",
      "userId": "04336517495820410220"
     },
     "user_tz": -330
    },
    "id": "_hIiNqQJDK0Q"
   },
   "outputs": [],
   "source": [
    "# TOKENIZE ENGLISH SENTENCES\n",
    "tk_eng = Tokenizer(filters = '!\"#$%&()*+,-./:;=?@[\\\\]^_`{|}~\\t\\n')\n",
    "tk_eng.fit_on_texts(train.english_inp.values)\n",
    "# TOKENIZING ITALIAN SENTENCES\n",
    "tk_ita = Tokenizer()\n",
    "tk_ita.fit_on_texts(train.italian)"
   ]
  },
  {
   "cell_type": "markdown",
   "metadata": {
    "id": "7_LYaEmXdpj1"
   },
   "source": [
    "## Data Generator"
   ]
  },
  {
   "cell_type": "code",
   "execution_count": 4,
   "metadata": {
    "executionInfo": {
     "elapsed": 23,
     "status": "ok",
     "timestamp": 1624295331049,
     "user": {
      "displayName": "Namnesh Goyal",
      "photoUrl": "",
      "userId": "04336517495820410220"
     },
     "user_tz": -330
    },
    "id": "PeVTeYlaDK3J"
   },
   "outputs": [],
   "source": [
    "from  tensorflow.keras.preprocessing.sequence import pad_sequences"
   ]
  },
  {
   "cell_type": "code",
   "execution_count": 12,
   "metadata": {
    "executionInfo": {
     "elapsed": 22,
     "status": "ok",
     "timestamp": 1624295331050,
     "user": {
      "displayName": "Namnesh Goyal",
      "photoUrl": "",
      "userId": "04336517495820410220"
     },
     "user_tz": -330
    },
    "id": "bhFY92l8DK5e"
   },
   "outputs": [],
   "source": [
    "class Dataset :\n",
    "    def __init__(self, data,tk_eng,tk_ita,max_len):\n",
    "        self.encoder_inp = data[\"italian\"].values\n",
    "        self.decoder_inp = data[\"english_inp\"].values\n",
    "        self.decoder_out = data[\"english_out\"].values\n",
    "        self.tk_eng = tk_eng\n",
    "        self.tk_ita = tk_ita\n",
    "        self.max_len = max_len\n",
    "        \n",
    "    def __getitem__(self,i):\n",
    "        # ITALIAN TO INTEGER SEQUENCES\n",
    "        self.encoder_seq = self.tk_ita.texts_to_sequences([self.encoder_inp[i]])\n",
    "        # ENGLISH TO INTEGER SEQUENCES \n",
    "        self.decoder_inp_seq = self.tk_eng.texts_to_sequences([self.decoder_inp[i]])\n",
    "        # ENGLISH TO INTEGER SEQUENCES\n",
    "        self.decoder_out_seq = self.tk_eng.texts_to_sequences([self.decoder_out[i]])\n",
    "        \n",
    "        # PADDING THE ENCODER INPUT SEQUENCES\n",
    "        self.encoder_seq = pad_sequences(self.encoder_seq,maxlen = self.max_len,padding=\"post\")\n",
    "        # PADDING THE DECODER INPUT SEQUENCES\n",
    "        self.decoder_inp_seq = pad_sequences(self.decoder_inp_seq,maxlen = self.max_len,padding = \"post\")\n",
    "        # PADDING DECODER OUTPUT SEQUENCES\n",
    "        self.decoder_out_seq = pad_sequences(self.decoder_out_seq,maxlen = self.max_len,padding = \"post\")\n",
    "        return self.encoder_seq ,  self.decoder_inp_seq,  self.decoder_out_seq\n",
    "    \n",
    "    def __len__(self):\n",
    "        # RETURN THE LEN OF INPUT ENDODER\n",
    "        return len(self.encoder_inp)"
   ]
  },
  {
   "cell_type": "code",
   "execution_count": 13,
   "metadata": {
    "executionInfo": {
     "elapsed": 21,
     "status": "ok",
     "timestamp": 1624295331051,
     "user": {
      "displayName": "Namnesh Goyal",
      "photoUrl": "",
      "userId": "04336517495820410220"
     },
     "user_tz": -330
    },
    "id": "d6legz6QDbCP"
   },
   "outputs": [],
   "source": [
    "class Dataloader(tf.keras.utils.Sequence):\n",
    "    def __init__(self,batch_size,dataset):\n",
    "        # INTIALIZING THE REQUIRED VARIABLES \n",
    "        self.dataset = dataset\n",
    "        self.batch_size = batch_size\n",
    "        self.totl_points = self.dataset.encoder_inp.shape[0]\n",
    "        \n",
    "    def __getitem__(self,i):\n",
    "        # STATING THE START AND STOP VATIABLE CONTAINGING INDEX VALUES FOR EACH BATCH\n",
    "        start = i * self.batch_size\n",
    "        stop = (i+1)*self.batch_size\n",
    "        \n",
    "        # PLACEHOLDERS FOR BATCHED DATA\n",
    "        batch_ita =[]\n",
    "        batch_eng_input = []\n",
    "        batch_eng_out =[]\n",
    "\n",
    "        for j in range(start,stop): # FOR EACH VALUE IN START TO STOP \n",
    "            \n",
    "            a,b,c = self.dataset[j] # DATASET RETURNS ITALIAN , ENGLIGH_INPUT, ENGLISH_OUTPUT\n",
    "            batch_ita.append(a[0]) # APPENDING ITALIAN TO batch_ita\n",
    "            batch_eng_input.append(b[0]) # APPENGIND ENGLISH INPUT TO batch_eng_input\n",
    "            batch_eng_out.append(c[0]) # APPENDING ENGLISH OUTPUT TO batch_eng_out\n",
    "        \n",
    "        # Conveting list to array   \n",
    "        batch_ita = (np.array(batch_ita)) \n",
    "        batch_eng_input = np.array(batch_eng_input)\n",
    "        batch_eng_out = np.array(batch_eng_out)\n",
    "        \n",
    "        return [batch_ita , batch_eng_input],batch_eng_out\n",
    "    \n",
    "    def __len__(self):\n",
    "        # Returning the number of batches\n",
    "        return int(self.totl_points/self.batch_size)"
   ]
  },
  {
   "cell_type": "markdown",
   "metadata": {
    "id": "7O_a9F2bI5oQ"
   },
   "source": [
    "## Encoder"
   ]
  },
  {
   "cell_type": "code",
   "execution_count": 7,
   "metadata": {
    "executionInfo": {
     "elapsed": 20,
     "status": "ok",
     "timestamp": 1624295331052,
     "user": {
      "displayName": "Namnesh Goyal",
      "photoUrl": "",
      "userId": "04336517495820410220"
     },
     "user_tz": -330
    },
    "id": "syaff3pmI9QP"
   },
   "outputs": [],
   "source": [
    "from tensorflow.keras import layers"
   ]
  },
  {
   "cell_type": "code",
   "execution_count": 8,
   "metadata": {
    "executionInfo": {
     "elapsed": 20,
     "status": "ok",
     "timestamp": 1624295331053,
     "user": {
      "displayName": "Namnesh Goyal",
      "photoUrl": "",
      "userId": "04336517495820410220"
     },
     "user_tz": -330
    },
    "id": "GgWl71_pDbFC"
   },
   "outputs": [],
   "source": [
    "class Encoder(tf.keras.layers.Layer):\n",
    "    '''\n",
    "    Encoder model -- That takes a input sequence and returns encoder-outputs,encoder_final_state_h,encoder_final_state_c\n",
    "    '''\n",
    "    \n",
    "    def __init__(self, vocab_size,emb_dims, enc_units, input_length,batch_size):\n",
    "        super().__init__()\n",
    "        # INITIALIZING THE REQUIRED VARIABLES\n",
    "        self.batch_size=batch_size # BATHCH SIZE\n",
    "        self.enc_units = enc_units # ENCODER UNITS\n",
    "        \n",
    "        # EMBEDDING LAYER\n",
    "        self.embedding= layers.Embedding(vocab_size ,emb_dims) \n",
    "        # LSTM LAYER WITH RETURN SEQ AND RETURN STATES\n",
    "        self.lstm = layers.LSTM(self.enc_units,return_state= True,return_sequences =  True) \n",
    "    def call(self, enc_input , states):\n",
    "        '''\n",
    "          This function takes a sequence input and the initial states of the encoder.\n",
    "          Pass the input_sequence input to the Embedding layer, Pass the embedding layer ouput to encoder_lstm\n",
    "          returns -- encoder_output, last time step's hidden and cell state\n",
    "        '''\n",
    "        # FORMING THE EMBEDDED VECTOR \n",
    "        emb = self.embedding(enc_input)\n",
    "        # PASSING THE EMBEDDED VECTIO THROUGH LSTM LAYERS \n",
    "        enc_output,state_h,state_c = self.lstm(emb,initial_state=states)\n",
    "        #RETURNING THE OUTPUT OF LSTM LAYER\n",
    "        return enc_output,state_h,state_c \n",
    "\n",
    "    def initialize(self,batch_size):\n",
    "          '''\n",
    "      Given a batch size it will return intial hidden state and intial cell state.\n",
    "      If batch size is 32- Hidden state is zeros of size [32,lstm_units], cell state zeros is of size [32,lstm_units]\n",
    "      '''\n",
    "        return tf.zeros(shape=(batch_size,self.enc_units)),tf.zeros(shape=(batch_size,self.enc_units))"
   ]
  },
  {
   "cell_type": "markdown",
   "metadata": {},
   "source": [
    "### Encoder check"
   ]
  },
  {
   "cell_type": "code",
   "execution_count": 13,
   "metadata": {
    "colab": {
     "base_uri": "https://localhost:8080/"
    },
    "executionInfo": {
     "elapsed": 480,
     "status": "ok",
     "timestamp": 1624295331515,
     "user": {
      "displayName": "Namnesh Goyal",
      "photoUrl": "",
      "userId": "04336517495820410220"
     },
     "user_tz": -330
    },
    "id": "wHGwq_exDehX",
    "outputId": "e1e42c69-f4e9-4378-8c66-bf05f3464c59"
   },
   "outputs": [
    {
     "name": "stdout",
     "output_type": "stream",
     "text": [
      "ENCODER OUTPUT SHAPE= (16, 10, 32)\n",
      "ENCODER STATE H SHAPE= (16, 32)\n",
      "ENCODER STATE C SHAPE= (16, 32)\n"
     ]
    }
   ],
   "source": [
    "vocab_size=10\n",
    "embedding_size=20\n",
    "lstm_size=32\n",
    "input_length=10\n",
    "batch_size=16\n",
    "\n",
    "enc = Encoder(vocab_size,embedding_size,lstm_size,input_length,batch_size)\n",
    "a,b,c = enc(tf.random.uniform((batch_size,input_length)),enc.initialize(batch_size))\n",
    "print(\"ENCODER OUTPUT SHAPE=\",a.shape)\n",
    "print(\"ENCODER STATE H SHAPE=\",b.shape)\n",
    "print(\"ENCODER STATE C SHAPE=\",c.shape)"
   ]
  },
  {
   "cell_type": "markdown",
   "metadata": {
    "id": "9cpSD5STd2Hx"
   },
   "source": [
    "## Attention  for Dot Model"
   ]
  },
  {
   "cell_type": "code",
   "execution_count": 14,
   "metadata": {
    "executionInfo": {
     "elapsed": 29,
     "status": "ok",
     "timestamp": 1624295331518,
     "user": {
      "displayName": "Namnesh Goyal",
      "photoUrl": "",
      "userId": "04336517495820410220"
     },
     "user_tz": -330
    },
    "id": "85PLh3GkDekY"
   },
   "outputs": [],
   "source": [
    "# THIS IS ATTNETION LAYER FOR DOT MODEL\n",
    "class Attention(tf.keras.layers.Layer):\n",
    "    '''THIS FUNCTION RETURNS THE CONTEXT VECTOR AND ATTENTION WEIGHTS (ALPHA VALUES)'''\n",
    "    def __init__(self,units):\n",
    "        super().__init__()\n",
    "        # INITIALIZING THE NUMBER OF UNITS IN ATTENTION MODEL\n",
    "        self.units =  units\n",
    "\n",
    "    def call(self,enc_output,dec_state):\n",
    "        # EXPANDING THE DIMENSION OF DECODER STATE  EG. FROM (16,32) TO (16,32,1)\n",
    "        dec_state =  tf.expand_dims(dec_state,axis=-1)\n",
    "        \n",
    "        # MATRIX MULTIPLICATION OF ENCODER OUTPUT AND MODIFIED DECODER STATE\n",
    "        # (16,32,1)*(16,13,32) = (16,13,1)\n",
    "        score = tf.matmul(enc_output,dec_state)\n",
    "        \n",
    "        # APPLYING SOFTMAX TO THE AXIS 1\n",
    "        # OUPUT SHAPE = (16,13,1)\n",
    "        att_weights = tf.nn.softmax(score,axis=1)\n",
    "        \n",
    "        # CALCULATING THE CONTEXT VECTOR BY FIRST ELEMENTWISE MULTIPLICATION AND THEN ADDING THE AXIS 1\n",
    "        # (16,13,1)*(16,13,32)=(16,13,32)\n",
    "        context_vec  = att_weights* enc_output\n",
    "        # (16,13,32) SUM AND REDUCE THE DIMENSION AT AXIS 1 => (16,32)\n",
    "        context_vec = tf.reduce_sum(context_vec,axis=1)\n",
    "        \n",
    "        # RETURNING THE CONTEXT VECTOR AND ATTENTION WEIGHTS\n",
    "        return context_vec,att_weights"
   ]
  },
  {
   "cell_type": "markdown",
   "metadata": {},
   "source": [
    "### Attention Check"
   ]
  },
  {
   "cell_type": "code",
   "execution_count": 17,
   "metadata": {
    "colab": {
     "base_uri": "https://localhost:8080/"
    },
    "executionInfo": {
     "elapsed": 31,
     "status": "ok",
     "timestamp": 1624295331522,
     "user": {
      "displayName": "Namnesh Goyal",
      "photoUrl": "",
      "userId": "04336517495820410220"
     },
     "user_tz": -330
    },
    "id": "yxHe2kHjDenZ",
    "outputId": "1697a389-1ecc-4509-c58e-6e437a9ddd3f"
   },
   "outputs": [
    {
     "name": "stdout",
     "output_type": "stream",
     "text": [
      "CONTEXT VECTOR SHAPE= (16, 32)\n",
      "ATTENTION WEIGHTS SHAPE= (16, 10, 1)\n"
     ]
    }
   ],
   "source": [
    "input_length=10\n",
    "batch_size=16\n",
    "att_units=32\n",
    "\n",
    "att = Attention(att_units)\n",
    "encoder_output =  tf.random.uniform((batch_size,input_length,att_units))\n",
    "dec_state_h=tf.random.uniform(shape=[batch_size,att_units])\n",
    "x1, x2 = att(encoder_output,dec_state_h)\n",
    "print(\"CONTEXT VECTOR SHAPE=\",x1.shape)\n",
    "print(\"ATTENTION WEIGHTS SHAPE=\",x2.shape)"
   ]
  },
  {
   "cell_type": "markdown",
   "metadata": {
    "id": "Ieh_z3F5d7vd"
   },
   "source": [
    "## One Step Decoder"
   ]
  },
  {
   "cell_type": "code",
   "execution_count": 25,
   "metadata": {
    "executionInfo": {
     "elapsed": 3,
     "status": "ok",
     "timestamp": 1624295332607,
     "user": {
      "displayName": "Namnesh Goyal",
      "photoUrl": "",
      "userId": "04336517495820410220"
     },
     "user_tz": -330
    },
    "id": "tdXJLk_vdP-1"
   },
   "outputs": [],
   "source": [
    "class Onestepdecoder(tf.keras.Model):\n",
    "    '''THIS MODEL OUTPUTS THE RESULT OF DECODER FOR ONE TIME SETP GIVEN THE INPUT FOR PRECIOVE TIME STEP'''\n",
    "    \n",
    "    def __init__(self, vocab_size,emb_dims, dec_units, input_len,att_units,batch_size):\n",
    "        super().__init__()\n",
    "        # INTITALIZING THE REQUIRED VARIABLES\n",
    "        # EMBEDDING LAYERS\n",
    "        self.emb = layers.Embedding(vocab_size,emb_dims,input_length= input_len)\n",
    "        # ATTENTION LAYER\n",
    "        self.att = Attention(att_units)\n",
    "        # LSTM LAYER\n",
    "        self.lstm = layers.LSTM(dec_units,return_sequences=True,return_state=True)\n",
    "        # DENSE LAYER\n",
    "        self.dense = layers.Dense(vocab_size)\n",
    "\n",
    "    def call(self, encoder_output , input , state_h):\n",
    "        # FORMING THE EMBEDDED VECTOR FOR THE WORD\n",
    "        # (32,1)=>(32,1,12)\n",
    "        emb = self.emb(input)\n",
    "        \n",
    "        # GETTING THE CONTEXT VECTOR AND ATTENTION WEIGHTS BASED ON THE ENCODER OUTPUT AND PREVIOUS DECODER STATE_H\n",
    "        context_vec,alphas = self.att(encoder_output,state_h)\n",
    "        \n",
    "        # CONCATINATING THE CONTEXT VECTOR(BY EXPANDING DIMENSION) AND ENBEDDED VECTOR\n",
    "        # (32,1,16)|(32,1,12)=>(32,1,28)\n",
    "        dec_input =  tf.concat([tf.expand_dims(context_vec,1),emb],axis=-1)\n",
    "        \n",
    "        # PASSING THE CONTEXT VECTOR THROUGH LSTM UNIT\n",
    "        dec_output,dec_state_h,state_c = self.lstm(dec_input)\n",
    "        \n",
    "        # PASSING THE DECODER OUTPUT THROUGH DENSE LAYER WITH UNITS EQUAL TO VOCAB SIZE\n",
    "        fc = self.dense(dec_output)\n",
    "        \n",
    "        # RETURNING THE OUTPUT\n",
    "        return fc , dec_state_h , alphas"
   ]
  },
  {
   "cell_type": "markdown",
   "metadata": {},
   "source": [
    "### One Step Decoder Check"
   ]
  },
  {
   "cell_type": "code",
   "execution_count": 26,
   "metadata": {
    "colab": {
     "base_uri": "https://localhost:8080/"
    },
    "executionInfo": {
     "elapsed": 727,
     "status": "ok",
     "timestamp": 1624295334990,
     "user": {
      "displayName": "Namnesh Goyal",
      "photoUrl": "",
      "userId": "04336517495820410220"
     },
     "user_tz": -330
    },
    "id": "kOGZ4L44gV1L",
    "outputId": "70b3efe9-2cc0-4ce1-a12e-6852e0366496"
   },
   "outputs": [
    {
     "name": "stdout",
     "output_type": "stream",
     "text": [
      "one_step_dec output shape (32, 1, 13)\n",
      "state_h (32, 10)\n",
      "attention_weight (32, 10, 1)\n"
     ]
    }
   ],
   "source": [
    "tar_vocab_size=13 \n",
    "embedding_dim=12 \n",
    "input_length=10\n",
    "dec_units=16 \n",
    "att_units=16\n",
    "batch_size=32\n",
    "\n",
    "onestepdecoder=Onestepdecoder(tar_vocab_size, embedding_dim, input_length, dec_units , att_units , batch_size)\n",
    "input_to_decoder=tf.random.uniform(shape=(batch_size,1),maxval=10,minval=0,dtype=tf.int32)\n",
    "encoder_output=tf.random.uniform(shape=[batch_size,input_length,dec_units])\n",
    "state_h=tf.random.uniform(shape=[batch_size,dec_units])\n",
    "\n",
    "output,state_h,attention_weights=onestepdecoder(encoder_output,input_to_decoder,state_h)\n",
    "\n",
    "print(\"one_step_dec output shape\",output.shape)\n",
    "print(\"state_h\",state_h.shape)\n",
    "print(\"attention_weight\",attention_weights.shape)"
   ]
  },
  {
   "cell_type": "markdown",
   "metadata": {
    "id": "6vpuLNQEeA2n"
   },
   "source": [
    "## Decoder"
   ]
  },
  {
   "cell_type": "code",
   "execution_count": 28,
   "metadata": {
    "executionInfo": {
     "elapsed": 8,
     "status": "ok",
     "timestamp": 1624295336481,
     "user": {
      "displayName": "Namnesh Goyal",
      "photoUrl": "",
      "userId": "04336517495820410220"
     },
     "user_tz": -330
    },
    "id": "IxVY1QHTgV3z"
   },
   "outputs": [],
   "source": [
    "class Decoder(tf.keras.Model):\n",
    "    '''THIS MODEL PERFORMS THE WHOLE DECODER OPERATION FOR THE COMPLETE SENTENCE'''\n",
    "    def __init__(self, vocab_size,emb_dims, dec_units, input_len,att_units,batch_size):\n",
    "        super().__init__()\n",
    "        # INITIALIZING THE VARIABLES\n",
    "        # LENGTH OF INPUT SENTENCE\n",
    "        self.input_len = input_len\n",
    "        # ONE STEP DECODER\n",
    "        self.onestepdecoder = Onestepdecoder(vocab_size,emb_dims, dec_units, input_len,att_units,batch_size)\n",
    "\n",
    "    def call(self,dec_input,enc_output,state_h):\n",
    "        # THIS VATIABLE STORES THE VALUE OF STATE_H FOR THE PREVIOUS STATE\n",
    "        current_state_h = state_h \n",
    "        # THIS STORES THE DECODER OUTPUT FOR EACH TIME STEP\n",
    "        pred = []\n",
    "        # THIS STORED THE ALPHA VALUES\n",
    "        alpha_values = []\n",
    "        # FOR EACH WORD IN THE INPUT SENTENCE\n",
    "        for i in range(self.input_len):\n",
    "            \n",
    "            # CURRENT WORD TO INPUT TO ONE STEP DECODER\n",
    "            current_vec = dec_input[:,i]\n",
    "            # EXPANDING THE DIMENSION FOR THE WORD\n",
    "            current_vec = tf.expand_dims(current_vec,axis=-1)\n",
    "            # PERFORMING THE ONE STEP DECODER OPERATION \n",
    "            dec_output,dec_state_h,alphas = self.onestepdecoder(enc_output ,current_vec,current_state_h)\n",
    "            #UPDATING THE CURRENT STATE_H\n",
    "            current_state_h = dec_state_h\n",
    "            #APPENDING THE DECODER OUTPUT TO \"pred\" LIST\n",
    "            pred.append(dec_output)\n",
    "            # APPENDING THE ALPHA VALUES\n",
    "            alpha_values.append(alphas)\n",
    "            \n",
    "        # CONCATINATING ALL THE VALUES IN THE LIST\n",
    "        output = tf.concat(pred,axis=1)\n",
    "        # CONCATINATING ALL THE ALPHA VALUES IN THE LIST\n",
    "        alpha_values = tf.concat(alpha_values,axis = -1)\n",
    "        # RETURNING THE OUTPUT\n",
    "        return output , alpha_values\n"
   ]
  },
  {
   "cell_type": "markdown",
   "metadata": {},
   "source": [
    "### Decoder check"
   ]
  },
  {
   "cell_type": "code",
   "execution_count": 36,
   "metadata": {
    "colab": {
     "base_uri": "https://localhost:8080/"
    },
    "executionInfo": {
     "elapsed": 2461,
     "status": "ok",
     "timestamp": 1624295339606,
     "user": {
      "displayName": "Namnesh Goyal",
      "photoUrl": "",
      "userId": "04336517495820410220"
     },
     "user_tz": -330
    },
    "id": "oPCpcKBJvmBE",
    "outputId": "aa5cea3d-8745-4f77-a850-474a6bfe8e20"
   },
   "outputs": [
    {
     "name": "stdout",
     "output_type": "stream",
     "text": [
      "Decoder Output= (32, 11, 13)\n",
      "Alpha Values= (32, 11, 11)\n"
     ]
    }
   ],
   "source": [
    "out_vocab_size=13 \n",
    "embedding_dim=12 \n",
    "input_length=11\n",
    "dec_units=16 \n",
    "att_units=16\n",
    "batch_size=32\n",
    "target_sentences=tf.random.uniform(shape=(batch_size,input_length),maxval=10,minval=0,dtype=tf.int32)\n",
    "encoder_output=tf.random.uniform(shape=[batch_size,input_length,dec_units])\n",
    "state_h=tf.random.uniform(shape=[batch_size,dec_units])\n",
    "\n",
    "decoder =Decoder(out_vocab_size, embedding_dim,dec_units , input_length, att_units,batch_size )\n",
    "output,alpha_values = decoder(target_sentences,encoder_output, state_h)\n",
    "print(\"Decoder Output=\",output.shape)\n",
    "print(\"Alpha Values=\",alpha_values.shape)"
   ]
  },
  {
   "cell_type": "markdown",
   "metadata": {
    "id": "NxNfne9eeFHa"
   },
   "source": [
    "## Encoder Decoder With Attention "
   ]
  },
  {
   "cell_type": "code",
   "execution_count": 33,
   "metadata": {
    "executionInfo": {
     "elapsed": 18,
     "status": "ok",
     "timestamp": 1624295339608,
     "user": {
      "displayName": "Namnesh Goyal",
      "photoUrl": "",
      "userId": "04336517495820410220"
     },
     "user_tz": -330
    },
    "id": "FDarCDN3vl-N"
   },
   "outputs": [],
   "source": [
    "class encoder_decoder(tf.keras.Model):\n",
    "    '''THIS MODEL COMBINES ALL THE LAYERS AND FORM IN ENCODER DECODER MODEL WITH ATTENTION MECHANISM'''\n",
    "    def __init__(self,enc_vocab_size,enc_emb_dim,enc_units,enc_input_length,\n",
    "             dec_vocab_size,dec_emb_dim,dec_units,dec_input_length ,att_units, batch_size):\n",
    "        # INITAILIZING ALL VARIABLES\n",
    "        super().__init__()\n",
    "        # BATCH SIZE\n",
    "        self.batch_size = batch_size\n",
    "        # INITIALIZING ENCODER LAYER\n",
    "        self.encoder = Encoder(enc_vocab_size, enc_emb_dim,enc_units, enc_input_length,batch_size)\n",
    "        # INITALIZING DECODER LAYER\n",
    "        self.decoder = Decoder(dec_vocab_size ,dec_emb_dim,dec_units,dec_input_length  ,att_units, batch_size)\n",
    "\n",
    "    def call(self,data):\n",
    "        # THE INPUT OF DATALOADER IS IN A LIST FORM FOR EACH BATCH IT GIVER TWO INPUTS\n",
    "        # INPUT1 IS FOR ENCODER\n",
    "        # INPUT2 IS FOR DECODER\n",
    "        inp1 , inp2 = data\n",
    "        # PASSING THE INPUT1 TO ENCODER LAYER\n",
    "        enc_output, enc_state_h, enc_state_c = self.encoder(inp1,self.encoder.initialize(self.batch_size))\n",
    "        # PASSING INPUT2 TO THE DECODER LAYER\n",
    "        dec_output , alphas = self.decoder(inp2 , enc_output,enc_state_h)\n",
    "        # THE OUTPUT OF MODEL IS ONLY DECODER OUTPUT THE ALPHA VALUES ARE IGNORED HERE\n",
    "        return dec_output\n",
    "\n"
   ]
  },
  {
   "cell_type": "markdown",
   "metadata": {},
   "source": [
    "### Model Check"
   ]
  },
  {
   "cell_type": "code",
   "execution_count": 37,
   "metadata": {
    "colab": {
     "base_uri": "https://localhost:8080/"
    },
    "executionInfo": {
     "elapsed": 2158,
     "status": "ok",
     "timestamp": 1624295343429,
     "user": {
      "displayName": "Namnesh Goyal",
      "photoUrl": "",
      "userId": "04336517495820410220"
     },
     "user_tz": -330
    },
    "id": "rzua6_eJvl7H",
    "outputId": "e3261a64-e141-4500-e0c0-26ae088e1e65",
    "scrolled": true
   },
   "outputs": [
    {
     "name": "stdout",
     "output_type": "stream",
     "text": [
      "MODEL OUPUT (32, 10, 13)\n"
     ]
    }
   ],
   "source": [
    "enc_vocab_size=13\n",
    "enc_emb_dim=12\n",
    "enc_units=16\n",
    "enc_input_length=10\n",
    "dec_vocab_size=13\n",
    "dec_emb_dim=12\n",
    "dec_units=16\n",
    "dec_input_length=10\n",
    "batch_size=32\n",
    "att_units=16\n",
    "\n",
    "e_d = encoder_decoder(enc_vocab_size,enc_emb_dim,enc_units,enc_input_length,\n",
    "                      dec_vocab_size,dec_emb_dim,dec_units,dec_input_length, att_units,batch_size)\n",
    "\n",
    "data1 = tf.random.uniform(shape=[batch_size , enc_input_length])\n",
    "data2 = tf.random.uniform(shape=[batch_size , dec_input_length])\n",
    "output = e_d([data1,data2])\n",
    "print(\"MODEL OUPUT\",output.shape)"
   ]
  },
  {
   "cell_type": "code",
   "execution_count": 25,
   "metadata": {
    "executionInfo": {
     "elapsed": 9,
     "status": "ok",
     "timestamp": 1624295343431,
     "user": {
      "displayName": "Namnesh Goyal",
      "photoUrl": "",
      "userId": "04336517495820410220"
     },
     "user_tz": -330
    },
    "id": "77HfQogZ69ax"
   },
   "outputs": [],
   "source": [
    "# FORMING THE BATCHED DATASET FOR TRAIN DATA\n",
    "train_dataset = Dataset(train,tk_eng,tk_ita,20)\n",
    "train_dataloader = Dataloader( batch_size = 1000 , dataset=train_dataset)\n",
    "#FORMING THE BATCHED DATASET FOR TEST DATA\n",
    "val_dataset = Dataset(validation,tk_eng,tk_ita,20)\n",
    "val_dataloader = Dataloader(batch_size=1000,dataset=val_dataset)"
   ]
  },
  {
   "cell_type": "code",
   "execution_count": 26,
   "metadata": {
    "executionInfo": {
     "elapsed": 9,
     "status": "ok",
     "timestamp": 1624295344606,
     "user": {
      "displayName": "Namnesh Goyal",
      "photoUrl": "",
      "userId": "04336517495820410220"
     },
     "user_tz": -330
    },
    "id": "8IOXnjkZ7A27"
   },
   "outputs": [],
   "source": [
    "# INITAILZING THE MODEL\n",
    "model = encoder_decoder(enc_vocab_size=len(tk_ita.word_index)+1,\n",
    "                         enc_emb_dim = 50,\n",
    "                         enc_units=512,enc_input_length=20,\n",
    "                         dec_vocab_size =len(tk_eng.word_index)+1,\n",
    "                         dec_emb_dim =50,\n",
    "                         dec_units=512,\n",
    "                         dec_input_length = 20,\n",
    "                         \n",
    "                         att_units=512,\n",
    "                         batch_size=1000)"
   ]
  },
  {
   "cell_type": "code",
   "execution_count": 29,
   "metadata": {
    "colab": {
     "base_uri": "https://localhost:8080/"
    },
    "executionInfo": {
     "elapsed": 15579754,
     "status": "ok",
     "timestamp": 1624295118500,
     "user": {
      "displayName": "Namnesh Goyal",
      "photoUrl": "",
      "userId": "04336517495820410220"
     },
     "user_tz": -330
    },
    "id": "iYROJtdBFjOB",
    "outputId": "c82ed225-6255-4a63-cb90-09cbf0d01ea0"
   },
   "outputs": [
    {
     "name": "stdout",
     "output_type": "stream",
     "text": [
      "Epoch 1/50\n",
      "275/275 [==============================] - 345s 1s/step - loss: 2.6876 - val_loss: 2.2299\n",
      "\n",
      "Epoch 00001: val_loss improved from inf to 2.22990, saving model to /content/drive/MyDrive/Colab Notebooks/ass-28/test_save2/best.h5\n",
      "Epoch 2/50\n",
      "275/275 [==============================] - 306s 1s/step - loss: 1.9486 - val_loss: 1.7672\n",
      "\n",
      "Epoch 00002: val_loss improved from 2.22990 to 1.76725, saving model to /content/drive/MyDrive/Colab Notebooks/ass-28/test_save2/best.h5\n",
      "Epoch 3/50\n",
      "275/275 [==============================] - 306s 1s/step - loss: 1.6852 - val_loss: 1.5979\n",
      "\n",
      "Epoch 00003: val_loss improved from 1.76725 to 1.59789, saving model to /content/drive/MyDrive/Colab Notebooks/ass-28/test_save2/best.h5\n",
      "Epoch 4/50\n",
      "275/275 [==============================] - 307s 1s/step - loss: 1.5533 - val_loss: 1.5077\n",
      "\n",
      "Epoch 00004: val_loss improved from 1.59789 to 1.50770, saving model to /content/drive/MyDrive/Colab Notebooks/ass-28/test_save2/best.h5\n",
      "Epoch 5/50\n",
      "275/275 [==============================] - 307s 1s/step - loss: 1.4786 - val_loss: 1.4489\n",
      "\n",
      "Epoch 00005: val_loss improved from 1.50770 to 1.44887, saving model to /content/drive/MyDrive/Colab Notebooks/ass-28/test_save2/best.h5\n",
      "Epoch 6/50\n",
      "275/275 [==============================] - 308s 1s/step - loss: 1.4998 - val_loss: 1.4519\n",
      "\n",
      "Epoch 00006: val_loss did not improve from 1.44887\n",
      "Epoch 7/50\n",
      "275/275 [==============================] - 309s 1s/step - loss: 1.3950 - val_loss: 1.3510\n",
      "\n",
      "Epoch 00007: val_loss improved from 1.44887 to 1.35101, saving model to /content/drive/MyDrive/Colab Notebooks/ass-28/test_save2/best.h5\n",
      "Epoch 8/50\n",
      "275/275 [==============================] - 308s 1s/step - loss: 1.3017 - val_loss: 1.2566\n",
      "\n",
      "Epoch 00008: val_loss improved from 1.35101 to 1.25659, saving model to /content/drive/MyDrive/Colab Notebooks/ass-28/test_save2/best.h5\n",
      "Epoch 9/50\n",
      "275/275 [==============================] - 310s 1s/step - loss: 1.2115 - val_loss: 1.1790\n",
      "\n",
      "Epoch 00009: val_loss improved from 1.25659 to 1.17897, saving model to /content/drive/MyDrive/Colab Notebooks/ass-28/test_save2/best.h5\n",
      "Epoch 10/50\n",
      "275/275 [==============================] - 309s 1s/step - loss: 1.1373 - val_loss: 1.1067\n",
      "\n",
      "Epoch 00010: val_loss improved from 1.17897 to 1.10673, saving model to /content/drive/MyDrive/Colab Notebooks/ass-28/test_save2/best.h5\n",
      "Epoch 11/50\n",
      "275/275 [==============================] - 309s 1s/step - loss: 1.0610 - val_loss: 1.0365\n",
      "\n",
      "Epoch 00011: val_loss improved from 1.10673 to 1.03649, saving model to /content/drive/MyDrive/Colab Notebooks/ass-28/test_save2/best.h5\n",
      "Epoch 12/50\n",
      "275/275 [==============================] - 309s 1s/step - loss: 0.9841 - val_loss: 0.9658\n",
      "\n",
      "Epoch 00012: val_loss improved from 1.03649 to 0.96581, saving model to /content/drive/MyDrive/Colab Notebooks/ass-28/test_save2/best.h5\n",
      "Epoch 13/50\n",
      "275/275 [==============================] - 311s 1s/step - loss: 0.9141 - val_loss: 0.9065\n",
      "\n",
      "Epoch 00013: val_loss improved from 0.96581 to 0.90646, saving model to /content/drive/MyDrive/Colab Notebooks/ass-28/test_save2/best.h5\n",
      "Epoch 14/50\n",
      "275/275 [==============================] - 311s 1s/step - loss: 0.8507 - val_loss: 0.8474\n",
      "\n",
      "Epoch 00014: val_loss improved from 0.90646 to 0.84741, saving model to /content/drive/MyDrive/Colab Notebooks/ass-28/test_save2/best.h5\n",
      "Epoch 15/50\n",
      "275/275 [==============================] - 310s 1s/step - loss: 0.7868 - val_loss: 0.7879\n",
      "\n",
      "Epoch 00015: val_loss improved from 0.84741 to 0.78789, saving model to /content/drive/MyDrive/Colab Notebooks/ass-28/test_save2/best.h5\n",
      "Epoch 16/50\n",
      "275/275 [==============================] - 310s 1s/step - loss: 0.7212 - val_loss: 0.7288\n",
      "\n",
      "Epoch 00016: val_loss improved from 0.78789 to 0.72882, saving model to /content/drive/MyDrive/Colab Notebooks/ass-28/test_save2/best.h5\n",
      "Epoch 17/50\n",
      "275/275 [==============================] - 311s 1s/step - loss: 0.6573 - val_loss: 0.6704\n",
      "\n",
      "Epoch 00017: val_loss improved from 0.72882 to 0.67045, saving model to /content/drive/MyDrive/Colab Notebooks/ass-28/test_save2/best.h5\n",
      "Epoch 18/50\n",
      "275/275 [==============================] - 310s 1s/step - loss: 0.5978 - val_loss: 0.6217\n",
      "\n",
      "Epoch 00018: val_loss improved from 0.67045 to 0.62169, saving model to /content/drive/MyDrive/Colab Notebooks/ass-28/test_save2/best.h5\n",
      "Epoch 19/50\n",
      "275/275 [==============================] - 310s 1s/step - loss: 0.5433 - val_loss: 0.5732\n",
      "\n",
      "Epoch 00019: val_loss improved from 0.62169 to 0.57316, saving model to /content/drive/MyDrive/Colab Notebooks/ass-28/test_save2/best.h5\n",
      "Epoch 20/50\n",
      "275/275 [==============================] - 310s 1s/step - loss: 0.4928 - val_loss: 0.5302\n",
      "\n",
      "Epoch 00020: val_loss improved from 0.57316 to 0.53016, saving model to /content/drive/MyDrive/Colab Notebooks/ass-28/test_save2/best.h5\n",
      "Epoch 21/50\n",
      "275/275 [==============================] - 309s 1s/step - loss: 0.4460 - val_loss: 0.4894\n",
      "\n",
      "Epoch 00021: val_loss improved from 0.53016 to 0.48944, saving model to /content/drive/MyDrive/Colab Notebooks/ass-28/test_save2/best.h5\n",
      "Epoch 22/50\n",
      "275/275 [==============================] - 309s 1s/step - loss: 0.4052 - val_loss: 0.4584\n",
      "\n",
      "Epoch 00022: val_loss improved from 0.48944 to 0.45840, saving model to /content/drive/MyDrive/Colab Notebooks/ass-28/test_save2/best.h5\n",
      "Epoch 23/50\n",
      "275/275 [==============================] - 309s 1s/step - loss: 0.3699 - val_loss: 0.4295\n",
      "\n",
      "Epoch 00023: val_loss improved from 0.45840 to 0.42949, saving model to /content/drive/MyDrive/Colab Notebooks/ass-28/test_save2/best.h5\n",
      "Epoch 24/50\n",
      "275/275 [==============================] - 310s 1s/step - loss: 0.3385 - val_loss: 0.4066\n",
      "\n",
      "Epoch 00024: val_loss improved from 0.42949 to 0.40657, saving model to /content/drive/MyDrive/Colab Notebooks/ass-28/test_save2/best.h5\n",
      "Epoch 25/50\n",
      "275/275 [==============================] - 310s 1s/step - loss: 0.3110 - val_loss: 0.3838\n",
      "\n",
      "Epoch 00025: val_loss improved from 0.40657 to 0.38382, saving model to /content/drive/MyDrive/Colab Notebooks/ass-28/test_save2/best.h5\n",
      "Epoch 26/50\n",
      "275/275 [==============================] - 309s 1s/step - loss: 0.2870 - val_loss: 0.3660\n",
      "\n",
      "Epoch 00026: val_loss improved from 0.38382 to 0.36602, saving model to /content/drive/MyDrive/Colab Notebooks/ass-28/test_save2/best.h5\n",
      "Epoch 27/50\n",
      "275/275 [==============================] - 310s 1s/step - loss: 0.2654 - val_loss: 0.3491\n",
      "\n",
      "Epoch 00027: val_loss improved from 0.36602 to 0.34906, saving model to /content/drive/MyDrive/Colab Notebooks/ass-28/test_save2/best.h5\n",
      "Epoch 28/50\n",
      "275/275 [==============================] - 310s 1s/step - loss: 0.2458 - val_loss: 0.3334\n",
      "\n",
      "Epoch 00028: val_loss improved from 0.34906 to 0.33342, saving model to /content/drive/MyDrive/Colab Notebooks/ass-28/test_save2/best.h5\n",
      "Epoch 29/50\n",
      "275/275 [==============================] - 310s 1s/step - loss: 0.2289 - val_loss: 0.3210\n",
      "\n",
      "Epoch 00029: val_loss improved from 0.33342 to 0.32100, saving model to /content/drive/MyDrive/Colab Notebooks/ass-28/test_save2/best.h5\n",
      "Epoch 30/50\n",
      "275/275 [==============================] - 308s 1s/step - loss: 0.2137 - val_loss: 0.3113\n",
      "\n",
      "Epoch 00030: val_loss improved from 0.32100 to 0.31127, saving model to /content/drive/MyDrive/Colab Notebooks/ass-28/test_save2/best.h5\n",
      "Epoch 31/50\n",
      "275/275 [==============================] - 308s 1s/step - loss: 0.1990 - val_loss: 0.3000\n",
      "\n",
      "Epoch 00031: val_loss improved from 0.31127 to 0.29998, saving model to /content/drive/MyDrive/Colab Notebooks/ass-28/test_save2/best.h5\n",
      "Epoch 32/50\n",
      "275/275 [==============================] - 308s 1s/step - loss: 0.1861 - val_loss: 0.2933\n",
      "\n",
      "Epoch 00032: val_loss improved from 0.29998 to 0.29328, saving model to /content/drive/MyDrive/Colab Notebooks/ass-28/test_save2/best.h5\n",
      "Epoch 33/50\n",
      "275/275 [==============================] - 308s 1s/step - loss: 0.1747 - val_loss: 0.2846\n",
      "\n",
      "Epoch 00033: val_loss improved from 0.29328 to 0.28459, saving model to /content/drive/MyDrive/Colab Notebooks/ass-28/test_save2/best.h5\n",
      "Epoch 34/50\n",
      "275/275 [==============================] - 309s 1s/step - loss: 0.1637 - val_loss: 0.2777\n",
      "\n",
      "Epoch 00034: val_loss improved from 0.28459 to 0.27766, saving model to /content/drive/MyDrive/Colab Notebooks/ass-28/test_save2/best.h5\n",
      "Epoch 35/50\n",
      "275/275 [==============================] - 309s 1s/step - loss: 0.1538 - val_loss: 0.2717\n",
      "\n",
      "Epoch 00035: val_loss improved from 0.27766 to 0.27174, saving model to /content/drive/MyDrive/Colab Notebooks/ass-28/test_save2/best.h5\n",
      "Epoch 36/50\n",
      "275/275 [==============================] - 308s 1s/step - loss: 0.1448 - val_loss: 0.2654\n",
      "\n",
      "Epoch 00036: val_loss improved from 0.27174 to 0.26537, saving model to /content/drive/MyDrive/Colab Notebooks/ass-28/test_save2/best.h5\n",
      "Epoch 37/50\n",
      "275/275 [==============================] - 309s 1s/step - loss: 0.1363 - val_loss: 0.2622\n",
      "\n",
      "Epoch 00037: val_loss improved from 0.26537 to 0.26218, saving model to /content/drive/MyDrive/Colab Notebooks/ass-28/test_save2/best.h5\n",
      "Epoch 38/50\n",
      "275/275 [==============================] - 308s 1s/step - loss: 0.1285 - val_loss: 0.2577\n",
      "\n",
      "Epoch 00038: val_loss improved from 0.26218 to 0.25773, saving model to /content/drive/MyDrive/Colab Notebooks/ass-28/test_save2/best.h5\n",
      "Epoch 39/50\n",
      "275/275 [==============================] - 308s 1s/step - loss: 0.1217 - val_loss: 0.2533\n",
      "\n",
      "Epoch 00039: val_loss improved from 0.25773 to 0.25335, saving model to /content/drive/MyDrive/Colab Notebooks/ass-28/test_save2/best.h5\n",
      "Epoch 40/50\n",
      "275/275 [==============================] - 308s 1s/step - loss: 0.1144 - val_loss: 0.2498\n",
      "\n",
      "Epoch 00040: val_loss improved from 0.25335 to 0.24979, saving model to /content/drive/MyDrive/Colab Notebooks/ass-28/test_save2/best.h5\n",
      "Epoch 41/50\n",
      "275/275 [==============================] - 309s 1s/step - loss: 0.1085 - val_loss: 0.2470\n",
      "\n",
      "Epoch 00041: val_loss improved from 0.24979 to 0.24700, saving model to /content/drive/MyDrive/Colab Notebooks/ass-28/test_save2/best.h5\n",
      "Epoch 42/50\n",
      "275/275 [==============================] - 310s 1s/step - loss: 0.1024 - val_loss: 0.2439\n",
      "\n",
      "Epoch 00042: val_loss improved from 0.24700 to 0.24385, saving model to /content/drive/MyDrive/Colab Notebooks/ass-28/test_save2/best.h5\n",
      "Epoch 43/50\n",
      "275/275 [==============================] - 309s 1s/step - loss: 0.0969 - val_loss: 0.2415\n",
      "\n",
      "Epoch 00043: val_loss improved from 0.24385 to 0.24155, saving model to /content/drive/MyDrive/Colab Notebooks/ass-28/test_save2/best.h5\n",
      "Epoch 44/50\n",
      "275/275 [==============================] - 308s 1s/step - loss: 0.0919 - val_loss: 0.2409\n",
      "\n",
      "Epoch 00044: val_loss improved from 0.24155 to 0.24086, saving model to /content/drive/MyDrive/Colab Notebooks/ass-28/test_save2/best.h5\n",
      "Epoch 45/50\n",
      "275/275 [==============================] - 309s 1s/step - loss: 0.0868 - val_loss: 0.2375\n",
      "\n",
      "Epoch 00045: val_loss improved from 0.24086 to 0.23754, saving model to /content/drive/MyDrive/Colab Notebooks/ass-28/test_save2/best.h5\n",
      "Epoch 46/50\n",
      "275/275 [==============================] - 309s 1s/step - loss: 0.0821 - val_loss: 0.2370\n",
      "\n",
      "Epoch 00046: val_loss improved from 0.23754 to 0.23700, saving model to /content/drive/MyDrive/Colab Notebooks/ass-28/test_save2/best.h5\n",
      "Epoch 47/50\n",
      "275/275 [==============================] - 311s 1s/step - loss: 0.0778 - val_loss: 0.2363\n",
      "\n",
      "Epoch 00047: val_loss improved from 0.23700 to 0.23635, saving model to /content/drive/MyDrive/Colab Notebooks/ass-28/test_save2/best.h5\n",
      "Epoch 48/50\n",
      "275/275 [==============================] - 311s 1s/step - loss: 0.0741 - val_loss: 0.2345\n",
      "\n",
      "Epoch 00048: val_loss improved from 0.23635 to 0.23455, saving model to /content/drive/MyDrive/Colab Notebooks/ass-28/test_save2/best.h5\n",
      "Epoch 49/50\n",
      "275/275 [==============================] - 311s 1s/step - loss: 0.0704 - val_loss: 0.2337\n",
      "\n",
      "Epoch 00049: val_loss improved from 0.23455 to 0.23373, saving model to /content/drive/MyDrive/Colab Notebooks/ass-28/test_save2/best.h5\n",
      "Epoch 50/50\n",
      "275/275 [==============================] - 310s 1s/step - loss: 0.0659 - val_loss: 0.2336\n",
      "\n",
      "Epoch 00050: val_loss improved from 0.23373 to 0.23359, saving model to /content/drive/MyDrive/Colab Notebooks/ass-28/test_save2/best.h5\n"
     ]
    },
    {
     "data": {
      "text/plain": [
       "<tensorflow.python.keras.callbacks.History at 0x7f31a4066a10>"
      ]
     },
     "execution_count": 29,
     "metadata": {
      "tags": []
     },
     "output_type": "execute_result"
    }
   ],
   "source": [
    "# TRAIN STEPS\n",
    "train_steps = train_dataloader.__len__()\n",
    "# VALIDATION STEPS\n",
    "val_steps  = val_dataloader.__len__()\n",
    "# CALLBACKS FOR SAVING THE MODEL\n",
    "callback = [tf.keras.callbacks.ModelCheckpoint(\"/content/drive/MyDrive/Colab Notebooks/ass-28/test_save2/best.h5\",\"val_loss\",verbose=1,save_best_only=True,save_weights_only=True)\n",
    "]\n",
    "# COMPILIG THE MODEL WITH ADAM OPTIMIZER AND LOSS AS SPARSE CROSS ENROPY WITH LOGITS EQUAL TO TRUE\n",
    "model.compile(optimizer=\"adam\",loss=tf.keras.losses.SparseCategoricalCrossentropy(from_logits=True,reduction=\"none\" ))\n",
    "# FITTING THE MODEL\n",
    "model.fit(train_dataloader, steps_per_epoch=train_steps,epochs= 50,validation_data = val_dataloader,validation_steps =val_steps,callbacks=callback)"
   ]
  },
  {
   "cell_type": "code",
   "execution_count": 29,
   "metadata": {
    "executionInfo": {
     "elapsed": 1298,
     "status": "ok",
     "timestamp": 1624295408541,
     "user": {
      "displayName": "Namnesh Goyal",
      "photoUrl": "",
      "userId": "04336517495820410220"
     },
     "user_tz": -330
    },
    "id": "JcukXvmNBrNB"
   },
   "outputs": [],
   "source": [
    "model.load_weights(\"/content/drive/MyDrive/Colab Notebooks/ass-28/test_save2/best.h5\")"
   ]
  },
  {
   "cell_type": "markdown",
   "metadata": {
    "id": "UYYpFTWpfENH"
   },
   "source": [
    "## Prediction"
   ]
  },
  {
   "cell_type": "code",
   "execution_count": 30,
   "metadata": {
    "executionInfo": {
     "elapsed": 9,
     "status": "ok",
     "timestamp": 1624295411047,
     "user": {
      "displayName": "Namnesh Goyal",
      "photoUrl": "",
      "userId": "04336517495820410220"
     },
     "user_tz": -330
    },
    "id": "MhvVlZjs61iq"
   },
   "outputs": [],
   "source": [
    "def predict(ita_text,model):\n",
    "    '''THIS FUNCTION IS USED IN INFERENCE TIME WHICH GIVEN ANY SENTENCE IN ITALIAN OUTPUTS THE ENGLISH SENTENCE AND ALPHA VALUES'''\n",
    "    # FORMING TOKENIZED SEQUENCES FOR INPUT SENTENCE\n",
    "    seq = tk_ita.texts_to_sequences([ita_text])\n",
    "    \n",
    "    # PADDING THE SEQUENCES\n",
    "    seq = pad_sequences(seq,maxlen = 20 , padding=\"post\")\n",
    "    \n",
    "    # INITIALIZING THE STATES FOR INPUTING TO ENCODER\n",
    "    state = model.layers[0].initialize(1)\n",
    "    \n",
    "    # GETTING THE ENCODED OUTPUT\n",
    "    enc_output,state_h,state_c= model.layers[0](seq,state)\n",
    "    \n",
    "    \n",
    "    # VARIABLE TO STORE PREDICTED SENTENCE\n",
    "    pred = []\n",
    "    \n",
    "    # THIS VARIABLE STORES THE STATE TO BE INPUTED TO ONE STEP ENCODER\n",
    "    input_state_h = state_h\n",
    "    input_state_c = state_c\n",
    "    \n",
    "    # THIS VARIABLE STORES THE VECTOR TO VE INPUTED TO ONE STEP ENCODER\n",
    "    current_vec = tf.ones((1,1))\n",
    "    # THIS VARIABLE WILL STORE ALL THE ALPHA VALUES OUTPUTS\n",
    "    alpha_values = []\n",
    "    \n",
    "    for i in range(20):\n",
    "        # PASSING THE REQUIRED VARIABLE TO ONE STEP ENCODER LAYER\n",
    "        fc , dec_state_h , alphas = model.layers[1].layers[0](enc_output , current_vec ,input_state_h )\n",
    "        #APPENDING THE ALPHA VALUES TO THE LIST \"alpha_values\"\n",
    "        alpha_values.append(alphas)\n",
    "        \n",
    "        # UPDATING THE CURRENT VECTOR \n",
    "        current_vec = np.argmax(fc , axis = -1)\n",
    "        # UPDATING THE INPUT STATE\n",
    "        input_state_h = dec_state_h\n",
    "        # GETTING THE ACTUAL WORDS FRO THE TOKENIZED INDEXES\n",
    "        pred.append(tk_eng.index_word[current_vec[0][0]])\n",
    "        # IF THE WORD \"<end>\" COMES THE LOOP WILL BREAK\n",
    "        if tk_eng.index_word[current_vec[0][0]]==\"<end>\":\n",
    "              break\n",
    "    # JOINING THE PREDICTED WORDS\n",
    "    pred_sent = \" \".join(pred)\n",
    "    \n",
    "    # CONCATINATING ALL THE ALPHA VALUES\n",
    "    alpha_values = tf.squeeze(tf.concat(alpha_values,axis=-1),axis=0)\n",
    "    \n",
    "    # RETURNING THE PREDICTED SENTENCE AND ALPHA VALUES\n",
    "    return  pred_sent , alpha_values"
   ]
  },
  {
   "cell_type": "code",
   "execution_count": 31,
   "metadata": {
    "executionInfo": {
     "elapsed": 5,
     "status": "ok",
     "timestamp": 1624295412487,
     "user": {
      "displayName": "Namnesh Goyal",
      "photoUrl": "",
      "userId": "04336517495820410220"
     },
     "user_tz": -330
    },
    "id": "zSDmS-a_SW1g"
   },
   "outputs": [],
   "source": [
    "import seaborn as sns\n",
    "import matplotlib.pyplot as plt\n",
    "\n",
    "\n",
    "def plot( input_sent , output_sent , alpha ) :\n",
    "    '''THIS FUNCTION PLOTS THE ALPHA VALUES IN FORM OF HEAT MAPS'''\n",
    "    \n",
    "    input_words = input_sent.split() # SPLITTING THE INPUT SENTENCE\n",
    "    output_words = output_sent.split() # SPLITTING THE OUTPUT SENTENCE\n",
    "    \n",
    "    fig, ax = plt.subplots()\n",
    "    sns.set_style(\"darkgrid\")\n",
    "    # HEAT MAP WITH ALPHA VALURS \n",
    "    # X LABELS ARE THE OUTPUT WORDS \n",
    "    # T LABELS ARE THE INPUT WORDS\n",
    "    sns.heatmap(alpha, xticklabels= output_words , yticklabels=input_words,linewidths=0.01)\n",
    "    # PLACING THE TICKS ON  THE TOP\n",
    "    ax.xaxis.tick_top( ) \n",
    "    plt.show()"
   ]
  },
  {
   "cell_type": "markdown",
   "metadata": {},
   "source": [
    "### Predicting Some Random Results"
   ]
  },
  {
   "cell_type": "code",
   "execution_count": 32,
   "metadata": {
    "colab": {
     "base_uri": "https://localhost:8080/",
     "height": 339
    },
    "executionInfo": {
     "elapsed": 803,
     "status": "ok",
     "timestamp": 1624295414460,
     "user": {
      "displayName": "Namnesh Goyal",
      "photoUrl": "",
      "userId": "04336517495820410220"
     },
     "user_tz": -330
    },
    "id": "UYiSI5aBgV6H",
    "outputId": "d18edecb-8ebf-44f3-a210-ea8a14d67396"
   },
   "outputs": [
    {
     "name": "stdout",
     "output_type": "stream",
     "text": [
      "Input=> non ricordo dove lavora\n",
      "Predicted=> i do not remember where he works <end>\n",
      "Actual=> i do not remember where you work <end>\n",
      "==================================================\n"
     ]
    },
    {
     "data": {
      "image/png": "[encoded data removed]",
      "text/plain": [
       "<Figure size 432x288 with 2 Axes>"
      ]
     },
     "metadata": {
      "needs_background": "light",
      "tags": []
     },
     "output_type": "display_data"
    }
   ],
   "source": [
    "random = np.random.randint(0,2000,1)[0]\n",
    "print(\"Input=>\",validation.italian.values[random])\n",
    "print(\"Predicted=>\", predict( validation.italian.values[random] , model)[0])\n",
    "print(\"Actual=>\",validation.english_out.values[random])\n",
    "print(\"=\"*50)\n",
    "plot( validation.italian.values[random] , predict( validation.italian.values[random] , model)[0], predict( validation.italian.values[random] , model)[1] )"
   ]
  },
  {
   "cell_type": "code",
   "execution_count": 33,
   "metadata": {
    "colab": {
     "base_uri": "https://localhost:8080/",
     "height": 339
    },
    "executionInfo": {
     "elapsed": 919,
     "status": "ok",
     "timestamp": 1624295423377,
     "user": {
      "displayName": "Namnesh Goyal",
      "photoUrl": "",
      "userId": "04336517495820410220"
     },
     "user_tz": -330
    },
    "id": "SxrPxC8aqasD",
    "outputId": "5200bccd-c4b2-42d0-d0e5-5b9fa824362a"
   },
   "outputs": [
    {
     "name": "stdout",
     "output_type": "stream",
     "text": [
      "Input=> tom insegn a mary a scrivere delle canzoni\n",
      "Predicted=> tom taught mary how to write songs <end>\n",
      "Actual=> tom taught mary how to write songs <end>\n",
      "==================================================\n"
     ]
    },
    {
     "data": {
      "image/png": "[encoded data removed]",
      "text/plain": [
       "<Figure size 432x288 with 2 Axes>"
      ]
     },
     "metadata": {
      "tags": []
     },
     "output_type": "display_data"
    }
   ],
   "source": [
    "random = np.random.randint(0,2000,1)[0]\n",
    "print(\"Input=>\",validation.italian.values[random])\n",
    "print(\"Predicted=>\", predict( validation.italian.values[random] , model)[0])\n",
    "print(\"Actual=>\",validation.english_out.values[random])\n",
    "print(\"=\"*50)\n",
    "plot( validation.italian.values[random] , predict( validation.italian.values[random] , model)[0], predict( validation.italian.values[random] , model)[1] )"
   ]
  },
  {
   "cell_type": "code",
   "execution_count": 34,
   "metadata": {
    "colab": {
     "base_uri": "https://localhost:8080/",
     "height": 339
    },
    "executionInfo": {
     "elapsed": 756,
     "status": "ok",
     "timestamp": 1624295427442,
     "user": {
      "displayName": "Namnesh Goyal",
      "photoUrl": "",
      "userId": "04336517495820410220"
     },
     "user_tz": -330
    },
    "id": "X3d6dhUYqavP",
    "outputId": "396b70d9-7a42-474e-a115-61f7809bcd29"
   },
   "outputs": [
    {
     "name": "stdout",
     "output_type": "stream",
     "text": [
      "Input=>  cos difficile\n",
      "Predicted=> it is so picky <end>\n",
      "Actual=> is that so difficult <end>\n",
      "==================================================\n"
     ]
    },
    {
     "data": {
      "image/png": "[encoded data removed]",
      "text/plain": [
       "<Figure size 432x288 with 2 Axes>"
      ]
     },
     "metadata": {
      "tags": []
     },
     "output_type": "display_data"
    }
   ],
   "source": [
    "random = np.random.randint(0,2000,1)[0]\n",
    "print(\"Input=>\",validation.italian.values[random])\n",
    "print(\"Predicted=>\", predict( validation.italian.values[random] , model)[0])\n",
    "print(\"Actual=>\",validation.english_out.values[random])\n",
    "print(\"=\"*50)\n",
    "plot( validation.italian.values[random] , predict( validation.italian.values[random] , model)[0], predict( validation.italian.values[random] , model)[1] )"
   ]
  },
  {
   "cell_type": "code",
   "execution_count": 43,
   "metadata": {
    "colab": {
     "base_uri": "https://localhost:8080/",
     "height": 339
    },
    "executionInfo": {
     "elapsed": 1281,
     "status": "ok",
     "timestamp": 1624295625775,
     "user": {
      "displayName": "Namnesh Goyal",
      "photoUrl": "",
      "userId": "04336517495820410220"
     },
     "user_tz": -330
    },
    "id": "w4S1EySNqaxr",
    "outputId": "2ed15a95-71f9-4d2d-bfde-9dc16a207623"
   },
   "outputs": [
    {
     "name": "stdout",
     "output_type": "stream",
     "text": [
      "Input=> sono arrivato a boston luned\n",
      "Predicted=> i arrived in boston on monday <end>\n",
      "Actual=> i arrived in boston on monday <end>\n",
      "==================================================\n"
     ]
    },
    {
     "data": {
      "image/png": "[encoded data removed]",
      "text/plain": [
       "<Figure size 432x288 with 2 Axes>"
      ]
     },
     "metadata": {
      "tags": []
     },
     "output_type": "display_data"
    }
   ],
   "source": [
    "random = np.random.randint(0,2000,1)[0]\n",
    "print(\"Input=>\",validation.italian.values[random])\n",
    "print(\"Predicted=>\", predict( validation.italian.values[random] , model)[0])\n",
    "print(\"Actual=>\",validation.english_out.values[random])\n",
    "print(\"=\"*50)\n",
    "plot( validation.italian.values[random] , predict( validation.italian.values[random] , model)[0], predict( validation.italian.values[random] , model)[1] )"
   ]
  },
  {
   "cell_type": "code",
   "execution_count": 42,
   "metadata": {
    "colab": {
     "base_uri": "https://localhost:8080/",
     "height": 339
    },
    "executionInfo": {
     "elapsed": 1456,
     "status": "ok",
     "timestamp": 1624295618442,
     "user": {
      "displayName": "Namnesh Goyal",
      "photoUrl": "",
      "userId": "04336517495820410220"
     },
     "user_tz": -330
    },
    "id": "5bWZBYGaKHet",
    "outputId": "f7592bf8-f2d1-4dd7-b7b8-2b4b9fbb339b"
   },
   "outputs": [
    {
     "name": "stdout",
     "output_type": "stream",
     "text": [
      "Input=> tom ha provato a ingannare mary\n",
      "Predicted=> tom tried to trick mary <end>\n",
      "Actual=> tom tried to deceive mary <end>\n",
      "==================================================\n"
     ]
    },
    {
     "data": {
      "image/png": "[encoded data removed]",
      "text/plain": [
       "<Figure size 432x288 with 2 Axes>"
      ]
     },
     "metadata": {
      "tags": []
     },
     "output_type": "display_data"
    }
   ],
   "source": [
    "random = np.random.randint(0,2000,1)[0]\n",
    "print(\"Input=>\",validation.italian.values[random])\n",
    "print(\"Predicted=>\", predict( validation.italian.values[random] , model)[0])\n",
    "print(\"Actual=>\",validation.english_out.values[random])\n",
    "print(\"=\"*50)\n",
    "plot( validation.italian.values[random] , predict( validation.italian.values[random] , model)[0], predict( validation.italian.values[random] , model)[1] )"
   ]
  },
  {
   "cell_type": "code",
   "execution_count": 41,
   "metadata": {
    "colab": {
     "base_uri": "https://localhost:8080/",
     "height": 339
    },
    "executionInfo": {
     "elapsed": 1597,
     "status": "ok",
     "timestamp": 1624295605859,
     "user": {
      "displayName": "Namnesh Goyal",
      "photoUrl": "",
      "userId": "04336517495820410220"
     },
     "user_tz": -330
    },
    "id": "SpO6OjjIKHb3",
    "outputId": "a38d1a72-beea-4f16-ab8c-0dcb46010826"
   },
   "outputs": [
    {
     "name": "stdout",
     "output_type": "stream",
     "text": [
      "Input=> ha delle risorse infinite\n",
      "Predicted=> she has infinite resources <end>\n",
      "Actual=> he has infinite resources <end>\n",
      "==================================================\n"
     ]
    },
    {
     "data": {
      "image/png": "[encoded data removed]",
      "text/plain": [
       "<Figure size 432x288 with 2 Axes>"
      ]
     },
     "metadata": {
      "tags": []
     },
     "output_type": "display_data"
    }
   ],
   "source": [
    "random = np.random.randint(0,2000,1)[0]\n",
    "print(\"Input=>\",validation.italian.values[random])\n",
    "print(\"Predicted=>\", predict( validation.italian.values[random] , model)[0])\n",
    "print(\"Actual=>\",validation.english_out.values[random])\n",
    "print(\"=\"*50)\n",
    "plot( validation.italian.values[random] , predict( validation.italian.values[random] , model)[0], predict( validation.italian.values[random] , model)[1] )"
   ]
  },
  {
   "cell_type": "markdown",
   "metadata": {
    "id": "8KqT17-RfPnm"
   },
   "source": [
    "## BLEU Score for Dot Model"
   ]
  },
  {
   "cell_type": "code",
   "execution_count": 39,
   "metadata": {
    "executionInfo": {
     "elapsed": 673,
     "status": "ok",
     "timestamp": 1624295471420,
     "user": {
      "displayName": "Namnesh Goyal",
      "photoUrl": "",
      "userId": "04336517495820410220"
     },
     "user_tz": -330
    },
    "id": "WMZCpmgxWhZM"
   },
   "outputs": [],
   "source": [
    "import nltk.translate.bleu_score as bleu\n",
    "from tqdm import tqdm\n",
    "import warnings\n",
    "warnings.filterwarnings('ignore')"
   ]
  },
  {
   "cell_type": "code",
   "execution_count": 40,
   "metadata": {
    "colab": {
     "base_uri": "https://localhost:8080/"
    },
    "executionInfo": {
     "elapsed": 112143,
     "status": "ok",
     "timestamp": 1624295584030,
     "user": {
      "displayName": "Namnesh Goyal",
      "photoUrl": "",
      "userId": "04336517495820410220"
     },
     "user_tz": -330
    },
    "id": "hQsoqlv_WhSm",
    "outputId": "f81db354-b080-41c6-8606-7fefd836f0a6"
   },
   "outputs": [
    {
     "name": "stderr",
     "output_type": "stream",
     "text": [
      "1000it [01:51,  8.96it/s]"
     ]
    },
    {
     "name": "stdout",
     "output_type": "stream",
     "text": [
      "BLEU DOT Score =  0.8377369268279129\n"
     ]
    },
    {
     "name": "stderr",
     "output_type": "stream",
     "text": [
      "\n"
     ]
    }
   ],
   "source": [
    "BLEU = []\n",
    "\n",
    "test_data = validation.loc[np.random.choice(validation.index,size = 1000)][[\"italian\",\"english_out\"]]\n",
    "for ind,i in tqdm(test_data.iterrows()):\n",
    "    pred = predict(i.italian , model)[0]\n",
    "    act = i.english_out\n",
    "    b =bleu.sentence_bleu(act,pred)\n",
    "    BLEU.append(b)\n",
    "\n",
    "print(\"BLEU DOT Score = \",np.mean(BLEU))"
   ]
  },
  {
   "cell_type": "code",
   "execution_count": null,
   "metadata": {
    "id": "GzkcmA55WhPZ"
   },
   "outputs": [],
   "source": []
  },
  {
   "cell_type": "code",
   "execution_count": null,
   "metadata": {
    "id": "ojSU1PdvROub"
   },
   "outputs": [],
   "source": []
  }
 ],
 "metadata": {
  "colab": {
   "collapsed_sections": [],
   "name": "Final_Dot_model.ipynb",
   "provenance": []
  },
  "kernelspec": {
   "display_name": "Python 3",
   "language": "python",
   "name": "python3"
  },
  "language_info": {
   "codemirror_mode": {
    "name": "ipython",
    "version": 3
   },
   "file_extension": ".py",
   "mimetype": "text/x-python",
   "name": "python",
   "nbconvert_exporter": "python",
   "pygments_lexer": "ipython3",
   "version": "3.7.6"
  }
 },
 "nbformat": 4,
 "nbformat_minor": 1
}
